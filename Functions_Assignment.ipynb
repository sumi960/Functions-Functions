{
  "nbformat": 4,
  "nbformat_minor": 0,
  "metadata": {
    "colab": {
      "provenance": []
    },
    "kernelspec": {
      "name": "python3",
      "display_name": "Python 3"
    },
    "language_info": {
      "name": "python"
    }
  },
  "cells": [
    {
      "cell_type": "markdown",
      "source": [
        "# Theory Questions:\n",
        "\n",
        "\n",
        "\n",
        "---\n",
        "\n",
        "\n",
        "\n",
        "---\n",
        "\n",
        "\n"
      ],
      "metadata": {
        "id": "TlN3iJPUaMju"
      }
    },
    {
      "cell_type": "markdown",
      "source": [
        "\n",
        "\n",
        "1.    **What is the difference between a function and a method in Python?**\n",
        "     \n",
        "        - **Function:**\n",
        "\n",
        "          * A function is a block of reusable code that performs a specific task.\n",
        "\n",
        "          * It is not tied to any object or data type.\n",
        "\n",
        "          * You define it using the def keyword.\n",
        "\n",
        "         * You can call it directly.\n",
        "\n",
        "         **Example:**\n",
        "\n",
        "                  def greet(name):\n",
        "                        return \"Hello, \" + name\n",
        "\n",
        "                  print(greet(\"Sumit\")) # Output: Hello, Sumit   \n",
        "\n",
        "     -  **Method:**\n",
        "        \n",
        "        *  A method is a function that belongs to an object.\n",
        "\n",
        "        * It is called using a dot (.) on a specific object.\n",
        "\n",
        "        * Methods often work with the data inside the object.\n",
        "       \n",
        "        **Example:**\n",
        "         \n",
        "                 text = \"hello\"\n",
        "                 print(text.upper())  # .upper() is a method of the string object\n",
        "\n",
        "2.    **Explain the concept of function arguments and parameters in Python.**\n",
        "      \n",
        "      - **Parameters vs Arguments:**\n",
        "\n",
        "\n",
        "         Term\t                               Meaning\n",
        "\n",
        "       Parameter\t          A variable in the function definition\n",
        "       Argument\t           The value passed to the function when you call it.\n",
        "\n",
        "  *  Parameters are placeholders.\n",
        "\n",
        "  * Arguments are the actual values you give when calling the function.\n",
        "\n",
        "    **Example:**\n",
        "\n",
        "         # Here, 'name' is a parameter\n",
        "         def greet(name):\n",
        "            print(\"Hello,\", name)\n",
        "\n",
        "        # Here, 'Sumit' is an argument\n",
        "        greet(\"Sumit\")\n",
        "\n",
        "- **Types of Function Arguments in Python:**  \n",
        "\n",
        "   * Positional arguments – values assigned by position\n",
        "\n",
        "            def add(a, b):\n",
        "                return a + b\n",
        "            print(add(2, 3))  # 2 goes to a, 3 goes to b\n",
        "\n",
        "\n",
        "   * Keyword arguments – values assigned by name\n",
        "\n",
        "          print(add(b=3, a=2))  # same as above, but named\n",
        "\n",
        "* Default arguments – parameter has a default value  \n",
        "\n",
        "              def greet(name=\"Guest\"):\n",
        "                    print(\"Hello,\", name)\n",
        "\n",
        "              greet()        # Output: Hello, Guest\n",
        "              greet(\"Sumit\") # Output: Hello, Sumit\n",
        "\n",
        "   **Variable-length arguments – accepts many values**   \n",
        "\n",
        "    * *args: for multiple positional arguments\n",
        "\n",
        "    * **kwargs: for multiple keyword arguments\n",
        "\n",
        "             def show(*args):\n",
        "                  for item in args:\n",
        "            print(item)\n",
        "\n",
        "           show(\"apple\", \"banana\", \"cherry\")\n",
        "        \n",
        "\n",
        "3.    **What are the different ways to define and call a function in Python?**\n",
        "\n",
        "\n",
        "   **1. Regular Function with Positional Arguments**\n",
        "\n",
        "\n",
        "  **Definition:**\n",
        "\n",
        "               def greet(name):\n",
        "                     print(\"Hello,\", name)\n",
        "\n",
        "  **Call:**  \n",
        "\n",
        "         greet(\"Sumit\")\n",
        "\n",
        "**2. Function with Default Arguments**\n",
        "\n",
        "**Definition:**\n",
        "\n",
        "           def greet(name=\"Guest\"):\n",
        "               print(\"Hello,\", name)\n",
        "\n",
        "**Call:**\n",
        "     \n",
        "     greet()          # Output: Hello, Guest\n",
        "     greet(\"Sumit\")   # Output: Hello, Sumit\n",
        "\n",
        "**3. Function with Keyword Arguments**\n",
        "\n",
        "  **Definition:**\n",
        "\n",
        "             def student(name, age):\n",
        "                  print(name, \"is\", age, \"years old.\")\n",
        "\n",
        "   **Call:**\n",
        "\n",
        "     student(age=25, name=\"Sumit\")\n",
        "\n",
        "**4. Function with Variable-Length Positional Arguments**    \n",
        "\n",
        "  **Definition:**\n",
        "\n",
        "          def add_numbers(*args):\n",
        "               print(\"Sum is:\", sum(args))\n",
        "\n",
        "  **Call:**  \n",
        "\n",
        "     add_numbers(5, 10, 15)         \n",
        "\n",
        "\n",
        "**5. Function with Variable-Length Keyword Arguments**\n",
        "\n",
        " **Definition:**\n",
        "  \n",
        "      def show_info(**kwargs):\n",
        "           for key, value in kwargs.items():\n",
        "                print(key + \":\", value)\n",
        "\n",
        "**Call:**\n",
        "\n",
        "     show_info(name=\"Sumit\", age=25, city=\"Delhi\")\n",
        "            \n",
        "**6. Lambda Function (Anonymous Function)**\n",
        "\n",
        " **Definition and Call:**\n",
        "\n",
        "           square = lambda x: x * x\n",
        "           print(square(4))  # Output: 16\n",
        "\n"
      ],
      "metadata": {
        "id": "Jab7-Ecoan9f"
      }
    },
    {
      "cell_type": "markdown",
      "source": [
        "\n",
        "\n",
        "4.    **What is the purpose of the `return` statement in a Python function?**\n",
        "\n",
        "      - **Purpose of return:**\n",
        "\n",
        "      The return statement is used to:\n",
        "\n",
        "  * Send a result back to the caller from a function\n",
        "\n",
        "  * Exit the function immediately when it's called\n",
        "  \n",
        "  **Without return:**\n",
        "\n",
        "  If you don't use return, the function does its work, but it doesn't give anything back.\n",
        "\n",
        "          def greet(name):\n",
        "               print(\"Hello,\", name)\n",
        "\n",
        "          result = greet(\"Sumit\")  # prints \"Hello, Sumit\"\n",
        "          print(result)            # Output: None\n",
        "\n",
        "  **With return:**        \n",
        "         \n",
        "            def greet(name):\n",
        "                 return \"Hello, \" + name\n",
        "\n",
        "            message = greet(\"Sumit\")\n",
        "            print(message)  # Output: Hello, Sumit\n",
        "  "
      ],
      "metadata": {
        "id": "pObEzUmgeWjS"
      }
    },
    {
      "cell_type": "markdown",
      "source": [
        "\n",
        "\n",
        "5.   What are iterators in Python and how do they differ from iterables?\n",
        "\n",
        "     - **Iterable**\n",
        "\n",
        "       * An iterable is any object you can loop over using a for loop.\n",
        "\n",
        "       * Examples: list, tuple, string, set, dictionary\n",
        "\n",
        "       **Example:**\n",
        "\n",
        "               fruits = ['apple', 'banana', 'cherry']  # This is an iterable\n",
        "\n",
        "               for fruit in fruits:\n",
        "                   print(fruit)\n",
        "\n",
        "**Iterator**   \n",
        "\n",
        "  * An iterator is an object that remembers where it is in a sequence and can give you the next item one at a time using the next() function.\n",
        "\n",
        "  * You get an iterator from an iterable using iter().\n",
        "\n",
        "\n",
        "  **Example:**\n",
        "\n",
        "              fruits = ['apple', 'banana', 'cherry']\n",
        "              it = iter(fruits)  # Convert list into an iterator\n",
        "\n",
        "              print(next(it))  # Output: apple\n",
        "              print(next(it))  # Output: banana\n",
        "\n",
        "\n",
        "\n",
        "\n"
      ],
      "metadata": {
        "id": "ilxUU6xt5DcG"
      }
    },
    {
      "cell_type": "markdown",
      "source": [
        "\n",
        "\n",
        "6.    **Explain the concept of generators in Python and how they are defined.**\n",
        "\n",
        "     - **Generator:**  \n",
        "      \n",
        "      A generator is a special type of iterator that lets you generate values one at a time, only when needed — instead of creating the whole list in memory.\n",
        "\n",
        "**Use Generators**\n",
        "\n",
        "Memory-efficient (good for large datasets)\n",
        "\n",
        " Faster to start using results (lazy evaluation)\n",
        "\n",
        " Easy to write using the yield keyword\n",
        "\n",
        " **Define a Generator**\n",
        "\n",
        " You define a generator like a normal function, but instead of return, you use yield.\n",
        "\n",
        "**Example: A Simple Generator**  \n",
        "\n",
        "     def count_up_to(n):\n",
        "       i = 1\n",
        "        while i <= n:\n",
        "         yield i\n",
        "          i += 1\n",
        "\n",
        "     # Create the generator\n",
        "      counter = count_up_to(5)\n",
        "\n",
        "     # Use it with next()\n",
        "     print(next(counter))  # 1\n",
        "     print(next(counter))  # 2\n",
        "\n",
        "     # Or loop through it\n",
        "     for num in count_up_to(3):\n",
        "        print(num)\n",
        "\n"
      ],
      "metadata": {
        "id": "Pjft2BDeEBtH"
      }
    },
    {
      "cell_type": "markdown",
      "source": [
        "\n",
        "\n",
        "7.   **What are the advantages of using generators over regular functions**\n",
        "\n",
        "    - **1. Memory Efficiency**\n",
        "       \n",
        "        Regular functions return entire lists — all elements are stored in memory.\n",
        "\n",
        "       Generators yield one value at a time, so they don’t store everything.\n",
        "\n",
        "**Example:**  \n",
        "\n",
        "          def generate_numbers():\n",
        "             for i in range(1_000_000):\n",
        "                yield i  # uses almost no memory  \n",
        "\n",
        "   **2. Lazy Evaluation (Faster Startup)**         \n",
        "\n",
        " * Generators don’t compute values until you ask for them using next() or a for loop.\n",
        "\n",
        "* That means faster response time and less CPU load up front.\n",
        "\n",
        " **3. Infinite Sequences**\n",
        "\n",
        "     You can create infinite data streams with generators — something not possible with normal lists.\n",
        "         \n",
        "          def infinite_counter():\n",
        "             i = 0\n",
        "             while True:\n",
        "                yield i\n",
        "                i += 1\n",
        "          \n",
        "     **4. Cleaner Code with yield**\n",
        "     \n",
        "   Generators simplify complex loops and keep code more readable compared to building and returning a full list.\n",
        "\n",
        "              # Without generator\n",
        "              def get_even(nums):\n",
        "                 result = []\n",
        "                 for n in nums:\n",
        "                   if n % 2 == 0:\n",
        "                      result.append(n)\n",
        "                return result\n",
        "\n",
        "              # With generator\n",
        "              def get_even(nums):\n",
        "                 for n in nums:\n",
        "                     if n % 2 == 0:\n",
        "                        yield n\n",
        "\n",
        "**5. Can Be Paused and Resumed**  \n",
        "\n",
        "  \n",
        " * Regular functions run once and exit\n",
        "\n",
        " * Generators pause at each yield, and resume later — great for pipelines, data streams, etc.\n",
        "\n",
        "\n",
        "  "
      ],
      "metadata": {
        "id": "6XhRw3STRcOa"
      }
    },
    {
      "cell_type": "markdown",
      "source": [
        "**8. What is a lambda function in Python and when is it typically used.**\n",
        "\n",
        "   - A lambda function is a small, anonymous function in Python — meaning:\n",
        "\n",
        "      It has no name (unless you assign it to one)\n",
        "\n",
        "      It is written in a single line\n",
        "\n",
        "      It can have any number of arguments, but only one expression  \n",
        "\n",
        "\n",
        "  **Syntax:**  \n",
        "          \n",
        "            lambda arguments: expression\n",
        "\n",
        "\n",
        "  **Example:**\n",
        "\n",
        "             # A lambda that adds 10 to a number\n",
        "             add_10 = lambda x: x + 10\n",
        "\n",
        "             print(add_10(5))  # Output: 15\n",
        "\n",
        "   **Use Lambda Functions**  \n",
        "\n",
        "  Lambda functions are used when you need a quick, throwaway function — usually:  \n",
        "\n",
        "\n",
        "  **1. With built-in functions like map(), filter(), and sorted()**\n",
        "\n",
        "   **Example with map():**\n",
        "        \n",
        "          nums = [1, 2, 3]\n",
        "          squared = list(map(lambda x: x**2, nums))\n",
        "          print(squared)  # Output: [1, 4, 9]\n",
        "\n",
        "  **Example with filter():**\n",
        "\n",
        "      even = list(filter(lambda x: x % 2 == 0, nums))\n",
        "      print(even)  # Output: [2]\n",
        "\n",
        "   **Example with sorted():**  \n",
        "\n",
        "       students = [('Alice', 22), ('Bob', 20), ('Eve', 25)]\n",
        "       # Sort by age\n",
        "       sorted_students = sorted(students, key=lambda x: x[1])  \n",
        "       \n"
      ],
      "metadata": {
        "id": "ZLZs3iLJ4uQV"
      }
    },
    {
      "cell_type": "markdown",
      "source": [
        "\n",
        "\n",
        "**9.    Explain the purpose and usage of the `map()` function in Python.**\n",
        "\n",
        "  -   map() is a built-in Python function used to apply a function to each item in an iterable (like a list or tuple) and return a new iterator with the results.\n",
        "\n",
        " **Syntax:**\n",
        "\n",
        "           map(function, iterable)\n",
        "\n",
        "function: a function to apply (can be a named function or a lambda)\n",
        "\n",
        "iterable: a sequence like list, tuple, etc.\n",
        "\n",
        " **Example with a Named Function:**   \n",
        "\n",
        "\n",
        "         def square(x):\n",
        "             return x * x\n",
        "\n",
        "         numbers = [1, 2, 3, 4]\n",
        "         squared = map(square, numbers)\n",
        "\n",
        "         print(list(squared))  # Output: [1, 4, 9, 16]  \n",
        "\n",
        "\n",
        "**Example with a Lambda:**   \n",
        "\n",
        "                  \n",
        "       numbers = [1, 2, 3, 4]\n",
        "       squared = map(lambda x: x * x, numbers)\n",
        "\n",
        "       print(list(squared))  # Output: [1, 4, 9, 16]\n",
        "\n",
        "\n",
        "\n",
        "\n"
      ],
      "metadata": {
        "id": "do_XTVgcVAs3"
      }
    },
    {
      "cell_type": "markdown",
      "source": [
        "**10.  What is the difference between `map()`, `reduce()`, and `filter()` functions in Python?**  \n",
        "\n",
        "  -  **1. map() – Transform Each Item**\n",
        "\n",
        "\n",
        "   Applies a function to each item in an iterable.\n",
        "\n",
        "  Returns a new iterable (map object).  \n",
        "\n",
        "  **Example:**   \n",
        "\n",
        "     nums = [1, 2, 3, 4]\n",
        "     squared = map(lambda x: x ** 2, nums)\n",
        "     print(list(squared))  # Output: [1, 4, 9, 16]\n",
        "\n",
        "  \n",
        "  **2. filter() – Keep Only Matching Items**   \n",
        "\n",
        "  Filters elements based on a condition.\n",
        "\n",
        " Returns only the items where the function returns True.   \n",
        "\n",
        " **Example:**  \n",
        "\n",
        "     nums = [1, 2, 3, 4, 5]\n",
        "     even = filter(lambda x: x % 2 == 0, nums)\n",
        "     print(list(even))  # Output: [2, 4]\n",
        "\n",
        "**3. reduce() – Combine All Items into One**\n",
        "\n",
        "   Applies a function cumulatively, reducing the iterable to a single value.\n",
        "\n",
        "  Comes from the functools module (you need to import it).\n",
        "\n",
        "   **Example:**   \n",
        "\n",
        "\n",
        "     from functools import reduce\n",
        "\n",
        "     nums = [1, 2, 3, 4]\n",
        "     product = reduce(lambda x, y: x * y, nums)\n",
        "     print(product)  # Output: 24  \n",
        "\n",
        "     "
      ],
      "metadata": {
        "id": "PrikBF9Ya_r-"
      }
    },
    {
      "cell_type": "markdown",
      "source": [
        "11.  **Using pen & Paper write the internal mechanism for sum operation using  reduce function on this given list:[47,11,42,13];**\n",
        "\n",
        "**Given List:**\n",
        "         \n",
        "      [47, 11, 42, 13]\n",
        "\n",
        "We want to sum all elements using:\n",
        "\n",
        "     from functools import reduce\n",
        "     reduce(lambda x, y: x + y, [47, 11, 42, 13])\n",
        "\n",
        "![Answer 11 .jpg](data:image/jpeg;base64,/9j/4AAQSkZJRgABAQAAAQABAAD/2wCEAAYGBgYHBgcICAcKCwoLCg8ODAwODxYQERAREBYiFRkVFRkVIh4kHhweJB42KiYmKjY+NDI0PkxERExfWl98fKcBBgYGBgcGBwgIBwoLCgsKDw4MDA4PFhAREBEQFiIVGRUVGRUiHiQeHB4kHjYqJiYqNj40MjQ+TERETF9aX3x8p//CABEIBjIGQAMBIgACEQEDEQH/xAAtAAEBAAMBAQAAAAAAAAAAAAAAAQIDBAUGAQEBAAAAAAAAAAAAAAAAAAAAAf/aAAwDAQACEAMQAAAC6SyQglgAC1KgKsACygAAEsFBIAACygAAAAABYCksFSgAAAApFgsolgAIWUSwUgWAFAlEBKCWACUSglACUCAAEsFQCkspALKQAAhVgAKQAAAAAACWAACwAAkoLKqyoFUkLBSiwWwWWAoKAoIsqgihgQY2AAKBQgKAsCygBBQSoVBAAAUAAAAAAABYKAAAAAACykAAAABCiURYAUEWFgAAAIAAAAAEAlCKCFAAgEoAABYACykBQJRFgAAAlgKQFgJYKIAKqoUJQsBQlsosFiksosLQAigC0GGKUKQACgAAAAoShFAhUoiAhQShQAAFEoRYLAWFAEC1FkBQApAVAAWQASiWVSRZQIBSkAQpABUVCKQpAWUQFgQUSkoACFSkAEBQQFFgsFEJVJYUAEAlBKAFhAAASgAoLKWBQJQKLKAALKCwAFWWRQUGktSgAABQJYWUSygAEoJYVKQElgsFsosolgsACwKgAoABCwBQAQsFJQQAFCFASgRLAAUBQCVCWAAEUQACykURYIEBQBQEEABVQAAURKUAAASgEAAUSglglEAIUApKChUoAAspUoBUpKFQUQABUpQaaUAAAsFABCksoBFgAoJYASWAososoSkWBYFEUShAUAQFABApLKIUAAAESgFARRKRKAlWKCFlRAAQApFhUoABJRABQAgWAQFACkoSywFLEFlFgLEmUpAJkRYVKFhFgBACllEKAKFIAKAoBQACwFABCylBppQhQAWWFQVAABZYALKAICWEAspSkqCygCWFAAikoAFkAWFBCy0lgKQQABKAAAUAAEASgAAlglgKAALKQpFhAQAUEBUWABRFEELLUqRQBVEIUpElEFLKJYLKUElElEKSyihLBQKFBAUCygFAAssAAAVKLKahUssBQBRCkspAAWAAoARYJYJYUFsolgKACFSkABRAVUpCFBZQAlEoIsQAApKAEAAAIUABBQRYAAAAWUSglhAIhRQEsACgEBQACUBABQFACEUSwWBSllhAQCUCgAAFBUpFBYLKCgAhbLAUECgApqIUUAoAAECykAAKEoIAJYAUFSiWChFgAAASlgKCykWCkRVARYBAAAAFQWAAAAAIAWUIFBFgUQACygCWEKYrAACAWZVFkWWUEABQFlkBVgVKAJZAAVCmQICAgFAUiwqUlAUAAAUFgoCUUCyKiliKCwNYoBQAAJRApCwCwqBQgAECWUqiUAAEoiwFAIsCyFKWUllAIsFlEsAgAAURRLAUQAAAAEoAAASwUIABQASwAgICAUFAAlIAWoIssoAACpkJYJRFRBUspbKRQlhALBQAAEosoAABUoKEpLKUAACkJYUpqFAUACwJQABACkBZRAShALKUAACwACmKiwhKpAoKgWCoFlEsKiLAAKIBUKQAAASwFIoAAAAJQlIsFACghBFICTKEoFBQlElEABRSLELUUQFuNiyyiiSwLAsMkoAlkBQApACkWCgAKQpLKWWCygCkAUlVEVKAawBVAAAlhQAShALBQJYARYUoAAAWCygCUQAEoBAVZZFS1KQlhUAAFSiUShAFEWAAAAApFEWAAEsolgoAWAlEBARRLKCksoIAQAFASgUICxLBkBCkqACUpahSEgWosAAFlECgAAAZY0LBQAWWABSLCgKNQoIoBKoAEsKQssBSFAICUAKAAAACpQgqAAQsoAACKiqCCAFgAqCgAllCUSiAAFIolgoEogEsKlBSKIsAEsAEogBQAAQAgAKAABKpKIsi2CyyhSAlWKsIAKQCyCWrLCggKAAAC2UQKABYiihYAlBQ1AWUAQqgAgKAAAACAlgpQBYLAAsshUKKEAhKJQLAKCFgqUgAAACgAACUAIsFQAoAAEoiiELYCwAsABKBCywgAFABKJLCUAKAAlCwAAAFqKIIWUyhUAEJYALLRLCWUsoKJRACiwAUEoCgRQJQBQahRQBCkUAJYLKEoAABASyiwVKJcTIAolEpAUgLLEWAUAsBKAKELAEsFlAAAAACURYFgsolhUoKQAEABYABYAAAIEoCkBAUDHLEAoFlIAUSiAChQiKlqFgUAgAqFIAoELKAFBLCwFUgAKsAFlAKlgCpQDUWiUAQKlAEolAAAACEKBYKBKCwAKiAACllEAAIIoUApIqUAiwFAAAFgAJQAABAUAABAAAURSAFJLCyiKIsKCSwWUWUmOWJKFAsChKCWFiiUSgASiWUqwAlhYpBQBLAUKRUBQAChAKAABQAssAAUGtKIFQLFVKECwUEoAAAQAFlAAFlEKACBZAUsQstQAAAARZQlEoQpFAAAAAgBUoASkBQWAAICFABUAAEoAAACCWFBUElgsoAUFgAlgWApLKASgSigAFEFlgBFAQstEsALLUBRAUlACyiWRRSywKShKGsgsFgBVgKEBQCksoBFhAAUAAFAEBSWAQAstSyiWFEJVSkAAAAAAAAAAAAAAAAAAAJQxygAKRYFgWEUCklpjQkyhFEspYpjLCygUFEsCUllAIBQCrLIAUAAoICosAAFlAFAAAAAQoAgsqpRYi2CgA1FqACEqhQCLCgWUASwssIIUoBZQAAILKgCUAAKhKAoIAAAsURSAAShKEolAAAlAAEsKAAAAlIsKQAWUQAKABAkoIKBZTGUCgFgAEFlCWAoWBKLKSyiyiWUAspAShALKALKAABAUBFAAQKSpVBbAEUGoUAssRYKUAlCyksoSgglgsoAIWygAQFARYRQABYRRQQAAWBRCksAApFEUJRFgAAAAAAAAWAABYRQlEUJRACgglgAlgoLKYgoFgAAlgoEBQFMaCwKollBAtARZAVFEsFELLQpFgEBQsRYAVKEpLBRVEVAqGulAJZAtAAEoAABYEUAAAFABZABYCUAAAAsoELBQQoBLBQSoLKAEoAlEAAAWABYAAAAAUgAAIWUIFQLKSWApAAUEmUKBLABLBQAigACywKFUksoBZYCooghKIUAWWgCwUIUigQACFgsBZaUgUA1lpKJKJYigCggKLAAACZSkAKABAAUEJRAJVSygQFUARUogVKIFSkspKAABKEpFCUSyiUAJYFEURQBFgAmUIolBKIoSwAIKACWUASiKIACUFlIsBCgKJQAtgSwWUCgKIhAogFloICqACKJUKlhLKApIsWpQWWFADAtReWPP2MrPRWS0tQABYKEWAhkgFIsFlAKgEikKKCEKCABBSqiLKpZYSiVCygQKAAJQiiAoBBYFlBSAAAAASwAsBYLKJQgEogCUAAAWCggIAAAogAAFABQWUksFlCUAFJKJYAKBYKgoCWggCUEsFKCAqwFSMkFBgUvh+p5Ne55O/jT2cOXkPacvmns5/P+0bXmeopq4j0rp2iebuOwCzIxoAEoUQAkUEsFhQCkRYBQQFVLCoUAAAABYAAAQpAAAAUCWCygBBZRAKAAAACUQAhKAAEoLKFglElgAoAJRAALKFAFKSWEWFSgFlCWEsoSgACygAAAAEWVQAAWEAMsaVKYWDy+27bNWrLoXw/Zx2nDxb/AFU8/r4Rs15ci+xyZbzZ53q+KehydPSed0au48/q4/VJKPO3a+0qUoEAy809HHPzD0ERQKACWAUEC0VEUSgAAAsolgWAABRFglAEUAAASgAAlCwAFgBQQCWEAAUSUAKpKEUYywFACCywFIoWUJQC2UksECZSiwUAEWAAAFAAKQApACFS0AAEAUChrSlhQDXsGvbEWFTKCpYvH1q5J1w1bpTl7Aed6Ws4c+7FOR15GvYKA83ftOjyO3WdUItlAAEohKpYFAoIAsAQoFgpCwAKgoAIAAAogCiAFICgSgCAFBAACUIoiiFMaACgBjMoShLKQFSgpFAEoAWwJliQCygoKARYIACygEoKCWAAUALEAsABRKFSmtLQAABKABAAVBDKUsqscNgSwWC0gQ4e/G1w92ORBFSgACURVBCgAURYARRFAAACwUEoJYASgBUpLAAAoAAAEFgUCWAAAAAhQJYAKAEmUIABLAUpRLAsAAFlLjYRQKKCwAQCWEoWyiWBKWWCwAAAVAURRLBQALBrpRURZQQAWCwJYUlSylqxRWIGOQlUCBAxxNkogFlBSLBYCygigAqUgBSAAoEUiwAoBAQqC2ACygCAKAAAAEsAAAAAAEsFABLAUJQBLCAILApRZRKEsLLAAoKJLBZSkKQAFJLiVKWwICzIKMQLKQApCgAAAAAGGncPJz9SV5ufeTinbTivYXkvVTmx6xxXrHK6acd6xyuwcrrHHekcrqHNj2Dky6RzXohpz2CKjFVAUQgCiUQFBKBKFEUQCyihFgBAUCUQCUAFAAEoSqSUAAFglAEURYAAAAEoQWUSygACWEUQEsosGQABAAC2ULCTKAFgAAUglgoASgspQYqJQiwAWUqCwJQAgKDBYJVRRFEVAFIIxrJhibmgdF5adU5qdE5x0uUdU5qb8McjHHfTm1dkOXLrHL1KJQEQClAAFgEShUoAABQJYARYWwAAJQAAUAJQAlgAKRYAAAJYAACFAiDKCgAAASwAiwlUiigASwAAtUiwgEoigBYKCKEogAFlFlIAABLBQAAAAiwUPPy65XNOocrqJzOoc16KvNd9Oe7xpuwa7mMbaLKLEICxSxAAAFAKQAApLBZVQQAAoCkKQAFAlgAAUQAACygABKAAAAFglgAAAlEWAEoFhCkoQFAAsAEAlEUEpQWAAlEoWggQAABRLBQAAJYALKLKRYAAALKJYAAAQFgYwABQBYKKCEsoAItiqBLAIWUhSFEoSwtgqAAKqIqKsqEsFlAFBLABQAASwmUoBFEsoAsAAEoAFgAAAlEAAAAlEWCglEWCKSgWAAAEAspAAUolEUSULMgCASwFEsKlIUSgQoAIAUWUAgBSAWUELFAIuIUAYSwAWWgFgogBFIBQFqCAoIFJQCkoCBakyhKBRKEWARKUssKAEWBQAAAlAAAApFEAAAAAUShAACAACUSgAWAAAEAUCAChCAFlCUShQAJRFhbKAQAEsAFAAILKLKQEsoAoAQCwAKAAACWAAGEsCgsCiUAoIEoIoFQssABaELKFlEoiwogKACBSSygiilAIEFlFlIQUAEoWUQEoWUTLEAAASwWUqUAhCkKAAACUJQAQLKEsAAAIUgAJQAAUBSLAsEC2UEACUgFlABSSwoAAAAKBKIABQFIAlAEoAhTWAAsKKSgAAlAhZahYSyllIIoBSUApAoCWCiAWC4ZYlBSiuOnX5HriWQoAASgAAspAAUGrzt3onNv8/wBExqklgKQoABFEoAAFEAAAABUEABKAgAAWABRKAoAAlgAoCAEUSgKQCyklhSkAABYCgBFgKSwUAABRAAShrABUoAAFBCKAKEsVUolEWRQUAAUAWCkSyiFAQQKKF8L2fMrt6SJr2cxt2Y5kURRTgNfpadwBQRYLBUp5vo+f6Jw9fNsN4CZESgBRFgQUhQCkAWCUSwUFlEAAlEICkoEFgAUAoBdWzQYWbjVdg17/ADPTKlAIAAAAAsEoAALAsFlAAAJQAAFIolBAAKNQAFACUBCyyqILKqwAEKIKqKBRCIKogKsCUgSqCKgKuWOs4+/j7QIl8z0y83V4Fd3ocvSVz8Eez5Uxr1nF2xEospcbiKFKeb6PmemeV6gXHKF1bvIMvU1U2Tmpuc2FdmXP0RFgsoWC3WXLyvVE4+kzWAgspSmLm3GYFlMZp2GZAsBSLBXKdTVtFw4Dv2eP64ATIvN0+YbuqUWUSwFIAsFCAAAAKAIollAAEollAAFlBAAACg1AFAAABAUWUFoQAACKloIEqiJQlgoCwssEqgAAjLxfawrjz66c+rt4jo2YcJh0dcOD0vK9WNXF6XIc3qcnUEpKCwAALOY0eho3Cgso8D1eKvY8T0Oc7N+OiOry9e6u+MoklKCpTLyvV8s6OvGHl+rx9gKMcoShlccTw/d831KmjTY65R4ufo8td8qCwAAeX6PLXYsia9nAZ+gCUSqYcbqMgUCBYpCgBKRYFgBQAAARQAKIAFgFgsoICkKAJYYAgLKAAABRYAAAoCgllBIUoIllEsKWhCpYhKoAFAABYjVugSwtgASiAqUSwoFlL5vp+WejMoAKAhpy2Ulg4+2UatvAZ9dhFFBOTro5OuBRKwOXr4u4AssPN39nOcPq6N5cNHEbu7DYLBeDu8o9VBQcnThtMF0HV5vfwHpWUWULxGnv1bQC2CUJZSUCCgSwssAKAAAAAAABQlAQUIUiiAoANYJQAAAAVRKJQSwCliFgUoAICiWAqoKIQLCllgAAAAsALLAABKIoAJQCpTT5PtYVqz3IsUAiiUJZQCatwSwUAAAAHH2YlUSygE1baAJBjkChr1au0KIsBSKNGzMVKUGXl+p5R6CwWULAAQVCygBAAWUAsUhSAAWUSwFABACoFgoCUAA1lIAAAsFlFAAKSyAFlEKoAgKCAAosKBCCgAAQoCgKggAAACUAFgAoIsAFAQqCyiUAAAACUAAAASwAssAAMclICUCBQSiUADHA3XQN7lxOnjnXWcqJVIsABSAAAELAoCiAUBACgAAEFlIoQKgoBBZQDWAUgFlECpSlIAACLKKJQACAoCWUCBSClgUCwJSUAKlgKgAAgBKAACwqUAAAAkyGnZkEoSiWCywAoJUKgsUlgWCoAKgsAUAgCwAAssACUS01tglBKIoSwLBZSKIAUiwAAAoAAAIUlAAABLCgSwFAAEoA1gqAQpSAWUtguNhUoAlgsFAAAAAAAFKEsosolgAEAWLQEJFQUAAApLKASgAAAAWCoAASygEoAAAAIFlhQCFAgLBQSglEKSggAAAAUpATKBFAJQASwUEsAAKgoAABCgFIsBCpQCFAJQlAAADWCwAFCApQAAAAUgoWEoFMRQAQlAFFAABAAACgIJYCgBRAUEoAFgKQAFgFCABFCBQAALKCFgCkAKQABRACkAAAAlCAWACyigBASoUAAAACUQgsCqFgAAAAAABLBQAEFAAAABhLCywAsogKUAJQBUKUkqpZYAAhSFqLAQtgogCgi2sWnMzlkUVYQICgFABKBRAKCUJYAALKAQAAAAACgAAlEoSgBFEoARYALABKAACWAACqACACUAFgAAABJRCiyhRAAAACFABKAACUCkBKAFimshQAASylsolhLKLKCgEAIVBSCykAABRVhAtAObq8w6uf0OU6ZZFspisBaACFlJQAoAEAUiwSgACkLAFIBKABQAAAAACUAABAUiwAFIAUgEsJQKKBLAAolACAAAASwAKFgsAAAACKAAAAALAlAgUAFQwlCUQoBLKUolhKCyilAIQllFQAIAFEoCkVRfNPRSxhy5dFZa9kAKIQFlooiiUgCgAWCLBQLwHaAAUAALxnUQoABQACyglIAAAABKEUSwFJQAAiwSiApQBFICkFgsAAAABMoSqQBYAAAAAAAAAAAAAAAAAYAQBSLC2ZEqACyhYUCWCVUUAJQlkVKASgKShl819L4Fe8eaX0PL9Yx1+diepeLtKABSFcNdqolx5zpvmemLjwHoubM3LwnXQFNXLj31FkVKFAAo8P0FdUsgoAUBSWUAASwFIsAAACUSgUQAAEokoihZQsAAAIABKJUKUigAQsUQABC2CggALAAAWAogAAACwAwAlgoCGVlEsAFCgEFlIBKAAIsFKAACKC+d6Gs8j1uX0a+c9vi9I4N+ORvuvYBBVBE870fOr0/I7dJ6Gvn2Gvo2azz/R5dJq7ef1SeF7Hmk9PR1nDenyB6Oe41bSAKQpSZTScXo83URcDJz9ABSgAoOI7Zwq7lREolEoQAAAoBKEUAadfP21s5unx49eBbKWURYACkaeM9Fw9osoAsoAUSUJRAAAAWAAAAsBYALKQhQACkWAGEBZSVAUtBLABQoEBYBRAAClBLCyyAAKAABLABYCiWUAtxpcQsBYMkphkGnbYLBn4vsYlAAAqjz+/A5ODq6axdkjV5/o8VZ6+noKWFgoKDl3XgPR4ujaZcG3Im7LgO/Vu8Y9XLyeyuqeb6cQAFlAByDrY0tmo4vS4e01crqrMsKoKQ4jteZ6FZ6OjzY2Z9HEbd6FBQKpKCURRNW/yjvzmRCFAAAAsACygCAAlAACwWABgACAZTILBKIBQAQKCpSKAEqkACxSCAqiAAEolCKAAAFlIsAFAlBAAogBSAAoFg07kAFgAWUFAEtNOjbrN+yU1c/bTl35U0cuXfXl9e6nnelx9cAAUF8v09BlybuKuT6LzfSJxd3BHZmh5no8fYKFULMDz+7R218z62zpNnn+h5Mbuvi7jy+zzO+uvmcp6eXk9B3uXjjr6vI9asNnmdcdN49Fdeni7jomnRDdzdtbbEUChFgWACykWChAFEWAAAAGAEsBS2UsAQAWCpQlFlAEsKAspEiigCgCUgKLIJQsolgAABZSLAsosioKBKEACggKAlIolQsUgBSUFlAFBLAUlgAAiwAALCgAa86Y5IJQlGGVgoLKLByXqGrh9PlGPXTyejda8f2M8Ti78rHndPTqNWW/QdPH185ow9HlrPk9Hzzs3OeMPM7+imzyvVhYKUAShKIsFAAgWUASwAAAJTACWCsgAAQEKCoFBZQAqgIQAAWUFIAWJYqyiTKReffmeb38XdUVEFY3nzN4hFIsFSqIILAAAAWUAEKgqUihFJQAoBRKIogABCgASiAWUAAASiLAABQlABFAIBLBKFBZQQoBAuBy2dggYZhFCgAAAAAIAKEsAEoAAAYASwuUpYAEAgUFlAFAFChEJVQBRKRZYAAVLTk7PIOf3eXrEvLGPbITT5eqvoWjfBzdNFxBYAigYGTDMAAoAJYKlIoiwqUASgBQAFAEoiwAFIABKICpQAAAACKIoAAAlABLCAWZEWAFAWBBUAEURRLKAJQAlhSABYKCAAAAAigGAEtKBZSAgAFlAFlJQAWACxCkKKAsICpQWU06O7yD1XLI6uedgl8yufd6nKdOWinB6vL1nJz8u49XHi1Hbn5HoHWWJx9sNedEAFKQILAAsolEsoKQAFAAWFIAAAKEAAAlAABYAAAAAAAAQpLKJYRYWykWCwCgACAAAAAAABLKSyiAKCABRAFgABKGAJlMiUFgKMVgABQWUSlALAAEJVAFkAAChFVLGOUCxWXm+lxnXqbCyoadw4p3Srhnrjz/U4e2rjllHj9PPjXVO0BABZSygRKEoAAACksCygAAACwKCWAAACULKRRFgKRQlhCgABKAEoBACkqFigAEoJYLAAAAAAAlEspKAEoQAFIAAAAEproKFABQSZYghbBQUAEVRYWEFVACiAqRSUEAAACiBQAXn5uyte7MTzb3mUIoMNHVKlIAKqVAWAoIAAKIAUhQsABQAAgoEoiiLAogKABKIolQsCUAAAAAAICkKBQgACABYAAAACwAlABKACACwAAAEAAsMUpaAACgxzxIAUWUAILYKlqLCkBQAQAKiFIsoCywAWIWDLx/S1V1FiefeumdkAVKQUAVAVAAUCwWKQQstQpBDKUgKlAAACUAAAAAAAAAiwAAAAAAAAiwUJUAMoACWChAAALAASgpACFSgAEAAAAIWWAAAphZSgAUBSS4koLKKAgBRQpAWBZQAhAABZQQKJZRQJBRqbdNOXs2GOQQRYtQQuNooAAgipaAAWUiolBKqWWFlJQgKAAQFAAAAACCgAQAAAAAAAAAJQsQCllAgACALCoAAAJQJQsAIsAKCAAShKEsABSAWUxsFSgCgAxyhLKCFSlgAUAUqACwUCUQgoAFQgFlWUCFAAlhQBEWACwUUEBSVEsoltJRLKJZFBLLRYVBUsQFAlgKSgAAAQVjSywoAJYAABSFICgiwAJQSrCBaWUiwCAEoSwAAAAAllAABBZQQAAAAgAAFgpCKAFlCUASwlQAoCiAoFgsAKCKWo5eU9Oad5KBKVqkbQCFoABSWFIUAAEWAFAEAAAKUBLKCFAAAAELBZYFhQAAAEolgKAAARYAAUAAAAEURALUKSgAAECkWEWAAAAAAolEWCWCykAAAAIWAAlAAACykAsFgIFlEoEFspKEoCkFAFhdezljV34Q8b3ee1tcnWW8O85PS870RPKp6gi8fZwV3iJZaSgCwAgKAgKCiIAAWgEoCIqpQAAFiAUEollAAEsKAgsolACwAEoAAAsAUgABCAWWgAAAColgsBKIAAAUhQQAssIBULAAWUkogAAALAAAALCkLKMaAAEsFsFAAFFkBQFxtjj68cK3eZ6Q8nu6Bo1dmscno4nn9+ncWzGOHdequXPohjljlAAUUJYJUEUKABBZRQEBUoAAAABChAUAAAAAAhZRKpJQlhQAFgWABYAAACAEAstAAAFhZZCBQAICWCgAsoIAJRCkAAAsEqFgAACFBCgAFgAAAAIBQBYFAFAAAU1RunkdNd05Ydbkp1uSnU5YdTlHVOYdOXL0ligABYCkWBYQsSy0EUVAUgsoAEBQAAAFIWUBAAAAABKFgsAAAAFlAEoJYAAAAQAVAVKFgssJVBEgLjSggEoAFAEsEABYAAAAEsICgAQFgAtgoIBUAAEsAKAACpQWksgAKpoN95Idbkp1XjyOq8kOqc46JopsuvE256dwoWAKJYWAEBQEoLAsAACgAlCxFRQQFFAEqRSFAAlCwASgAAAAKAAAJRAAFgAlhYpJRFlWyiWCygCWEESyllEKSglgoQpEBRAAAAAASWAFAlhFAgoWyiWAAAFgJRALKKgAsFFACFSlsCBYQABYAAUBUoKSyiWFgAAJQAIUABYWwUEAAAEBSyghYARQEoAAAAAsolgBSFlAAhSACwAARYWAFRQBYpCgCWEWRLBbKAAQFIARYCkABAUAAgQLKCAACUJRbBYABYAAAQFSlgBRYLKLAlkKUAlQlBFVKAAWAKAKAyMWnnO1ybTdYAAALAAAAoAALCJSgFIEFlIKCALAoABSWCxSWCgAJSUACUhRLAAsC4llgspKlAALKBFgJYIElFoEoBAAAQAAAEBQAJYQCggAAAQGQAAAAAIsBQAAABSgCWAoAlEqIsqgAAWUAsCpSnIeN9Fp6DHz/AEoIABcSgFIsAAKAoFIeUeo0bwWAoBLIsUgAoWFlJQlgCqlgAAAAAQoAJQlCAQKAAKQAKAAWJLCRSFKBLAUgAEAABLCglBAoEuIABLKWWEUJYSylsFsAAAACWCygBLQQWVQAEFSgEuIqUslKgqDJjRYKgoKC+f6HCY59g5OrKCZeUeo8/E9LG0igBMsRFAKlFC2DyfW+a+mPN9Dj7BKhLKWCgGUcmrV6NZQFlBQvjnrMMwgtlAhKBSWZGvLyfXIlAAJXKdF4JXoEgoACgIAWCUQLYGOWJALMgCAAEKBAIKBLCgLAACY0AATLHIQAICWUoKAAAABKJYLAWCgWAKqAIWCyyiiLBQSiKJQSgoAFOboogMPK9rjN3Lv6C+b6XEXj29Y6OboPGm30Dzt+zccvbydZUosGVxGfJ1eMd/Tx7TZ5nbpPQ1Yajr16dR6Dztxuy4d514TzTo7OXsGni5T27lyHTeDsNnmdQ6DzD0pxdossVLSyxAU5TLo4usriwPQcW06APOzld/n7qdEUAAKJjz6TvABQSgQJZACygCAAlEqAEWACyiyiAAISUAAAJQQAShQWwWWFgCFSkKEoIFCWFFAUgAKRQICFuNAKgpCpRYKgtgqBZQABr2BrzF17BhmF4uwatgCkULKY8m/aVKa+H0qeR63L1Hl+hsHn4ejrN3ieyPM2ef8AQjVthy6rvOXf0chvY9Jw9/D3DwvQ1nJ7XB3FsFuNLcbBKZeJ37aeb6ugnP6XGbebduNhxx53f3aqwmnWekCPO6jdfK9Yq85xej5+w7UoBQF4TsaN4KYrIWUvP0eMbvQ1bSgAY5YgFiApQUEAlEgACFikoJYAAAZSgAABKAIAACggKQoLCgFgWCggACiUBSSgsFBYKABFIsAFAAABKABSAWCxCgAllCUqQmUFsFQUkXXmqaOngOi7sDg75mKhbjYoBCZAIUGNDXjuo870cKnN0U4O/j3E6LyDV6OJ53O9Eu+wWUWaDocXQbdG/wA4wnqead2eXjm+Nx1vNxPU8i9xvmXCdoglE5ZXUsEsiZ45BYUgBAQApIAoBJYVKAQpaCWCygBAAAsEoLKASlLAAAABZRFgKAFgBUpFAABYWWCyiWBQlAAAAgsoAIUABRFhKEoRRKQALUBFDTuCyxBQApZZAFRQRUpAUVCRYACUW400bigIsi5Y2uDb1aTm6c6Xg6abvP7xq4uvWbdGXUeT6/F2mvyurI7fN6OM9Hg68TDm9TA2a8PJN7f1meWNgCghAAQIAFQWUkyxFlBBZTJBQSwLKIBAsFSghQLLQAAhQAEpQJQABQIoIUACgIUABKAAAWAQUAACUALAAAAAAKRQQWABUCygAQsoIBVhAACoVAlVFgBLKACkBFCyiWAEEBSWEWxjkVJRrw3YGvDr1GxLHHl0cVduXJmb8te2JQRSQECy4llgKQAFgSwWWFSlAsAABFLLEAoBQQWVZYKpJQAAAsoAAAoEFlgspQAJRLKAJQBAVAABUFAIWBYFQLKCFsCwALKEFAlgBZYLKJYVKKCJFAllUBLCxVgJYAABAVZZAUSlIBAEqCWACgBCABKAQoqFsCwAQCUQAAgAAoQEAKVBRQRBQCkAJVBAAUUSygpAALAsFAspFhUACygFIUBYAAJRLKSgXWZtO4gCwUEohSASgUJ5x6Tx/aJKIAQoKgoIAlFgQGWOQQWASlQUBKBFhSAShBQAAEoKQQAi1AJYS45gkVKSWAApASgUACkXEAJSAgKCAAAAEFlKlAEKCBSUogqBUiirFEsFlCUAUIlFlAALAAAApQABhn4R7zj0nouTrDLnNzl6glL53peQdvRdBtoJYVKJQlgABbPNMPUmRxdwKyNOfg+8QACgAlgAAlAACWCyiygAAACWCWAFSgAQAAAAhQhYEylEsCIEMgQpFgKAALAlglEAAikAAIUCAKAEtUEAELFLKARYKAFQCkWCylgVBLKChBbAKQFAlCwWwWeZ6ZlwdnKdnm+l5h6GcyPE7fM7TR7Wnzj1r5GR3cuHebfm/pPIPV57xHpTTpNnXpzNlazPm8vI9qSlKc05vUICpkXi7fLOb27iALKAMpDj6/J9YJQuszcfWVKCAC45FABMoAIohAAUlAUAiwAAEAEoSwlQygQAospFkCULAAAEABFElgAABALABQSqYZS1YABLCxQAFgUACwALKJQKRYCiAULKJYLBQSwUDLHI8jp7hydUDj6cyoOPb0DTy+gObqkOHv594QTVvp5np6tB13DIy870dJ5nfz9JvijHLSaO3RvFBlMjmmrcb3lDv2+d0nTeKHc5eovD3+EernzdRMpS+Z6XmHXuCUBRq2+Ae7lhsDh7yLAUgJUEsCUoFlJQICwSiUAIABLCKEolAsFQsCCKCUFlIlIAgsBLAAlECgQAFgqBccqAACAoBYBQABQllAABSLABQAXGlBKEoECgqFgAAAAAACkAAABQXGwAuOQ4e3AbEpdezUYYdY5+H1tZn4ftQy8r2IeV6/P0HkdvL3HHnrxLn0cpj36Oc19PT4Z7W3RvALo34nn79WBv7sMyKGvZiaOny9o7fP8AQJ5HqeWetZRZSzLyD1l4zqSxZdRsFSwWIUCsjDHl6gCygAAAIllpKgACASiLABLAAQLCywELAoCwxz151QEFSgAAFBKhQWAsoSkssFlAEoAoCFBQEpCgFgWAAAAKRRFAgKJRCksCyiWAAogUFgVKQCwZIAJp3wsBzdIy0bRp4/QwNgFgurYOXX3iZ45GOjX1ls5zdyd3lnbnn5xt6vB90WUVS8fZkeZPP98tcJ6HhdfIezNXKdPRrwNrk6xljkXR0eYcXt8PeIpLKAIhklBSCAAEsIUlBLABAs16zoY5ElxMkAACwUpqywzrK40AqCgllAKQsCgAUJQAAJRZSWCgILYFgWCkKlAAACUWCygQqCxSWAAAAAABYKlAFgoEogKABLAAsAIsBSKIBQWBQw5u3zjt5NPpGXie1icXaCzIAy4+jE05dOBnhlkcXRo6xxdeRx8nr+Yd9lGWvYXze7lOb1ufpPH7vP8AWNWvl7jVscp2Z6dxbeY6LjibEyMWGyIsqCJYLFImJnGBmlOPDutck7Mo8zt830xcaUAACymjPVnWzLDIygWKAEoKShAVKVKALAAWCWFBLKFgsFSliFBYApCksoKRYACFAAAAIUAAAAFgVBUFBQSgSkAoAAEpAWWAAhQASylAiFgJYALKUFAlgBdezkMe3CnHv4/QHJ2cJj6CnLlz9pc8KeV0bIcvo8vWcHN6Pnnq5TlO3i7fPO3i9Dzzt24U8z0+bUbN/j+yc/PpHqljRnw91ee7eU9Dj67HLx+v41ercbGRqOD0eHtAMkFABUpyZ6Nhuz1bKzuNLFACwWCoAALYKABYAAAALAAAAKCwWUAlgWCpQCWUIKQoACCoKgtlIAlLAoIoAWBQiiLAogLFIsCUWAAAAACywiwAAhQUssKgAIMubfTk5uzaTIKBZTzPS8zM7nmdh0Y0RYaW0Z+Z6Og6/P8AQ1mzzvQ1G7y/Q4T0sXIcvqaNRq6+DrOpr5jV38PoHj+rOI9C42J5vXrOmzIy4e7yq6d5CwUhbBQKHnbNOw3bNWdbcsMjKSlAAAsACygoAAAAAAQUpCmKiKCgAUhCgAWBcKWwWBUoAABAVKLAWEoFEspKAhUoQWwWBYAFQWWApACFShBQAQFgAJQBUpSAhYCwAAAIACAlAEBjnKUoAIa7niNO6CwWwauTPpNHTOY6fO39Jmmceb1cHpEzxyM/F9bzK9FLCwAWwWwUHk7NOw3befYb89OZsy12s7iLcaZIAAAFlKlAFgFIAgWUWUllBADJKIFAlhQAASULKAShZRAARRLKWWAgsoABSFlgoJRKBBQQpFFQVKJcQAsKQsABYAKUxWACyllggCFAKRYCAhSBQgFEWFBUpFglgIJRLBYFgCFRGGrfgef6SiqcuGrqNiCgAtgsoWU8TZpzN2erI358+Zvy05G5qyNl12tl102MaWwVBUCylAAspCBYUFSkKEAoBSAACykUJRALBQAWURKAAEFsCAsoKRYAWUShKgAoQBBbAsospJlCKICywAEKAUAEAJlKJYAShYFSgglggWWFSiWFShcSgIKgJRLAlAIAQAY54xrw3w1bMcDflw6TH0PG9mqqALKABRZTwbhTblqyNuemm+6ab8tGRuy0ZG+6cq3XVkbbryM2NKBYMkFIWwAAAAAAShQAAWKQoQVAABQLAABYACZQAY5QmUoqAAACygCWApFhFApLKLKJYRYKCIUEqCwWyhKIpFEsolhKhSGSBYCBYIlBQBELZS42FlhFEKSyiIFhSEoJYAWEJYWABrysEoFACwVBlKfPUCDO6xty003Zaab8tGRuz0ZG/PRmb8tOZtz1ZVnccgCgsCgAWC45QAAAllKUiwWCxSWUihAAWCgAsAAACwJQRRZQBLAAAUECwWAAAollKQsQSwqUuNACWFlCwAUolgIXG4lAKCghKCBCksFgJRUolgSgCAsAEsFgCAAAkFlJUQAAEAsooJYWwfPgoIAlKlMstdNuWnI3Z6czfs59pt2aczbnrzq2UoBDIpFgAAlgsoWACwZQFgqC2AQALBZQBKBCpQAAsJZSUJQWUSwAJSwBQQqABYKCWUAIICZSgCUQFBQSylQWAlhJYUCgAAICFgAWAAsFxsKQoIC45QJQYlAlgAAlxigQAAAIoWCxQlAPnwVBYACgAsGzPTmbtujYb89O027NWdbMsaUAhlcaWABKgsoBYAAFIWwUBAAWAFSgAhZRLKAAAQFABYAAEsoAsFlEBZYLKWBLKJYWQACgACUSgsCgAIIACoVKACFQQCWFQUAAAAhUCwIBQlgAgCFSkBLKQQWBRioAsAUhQD56wUAAFAAAyxG3Zp2G/bo2m/PVsNmevOswJYSwWwWIVYAVBUoBUFgW40qAACwAALALAogFlACUSwAoCUAAllCUAsAAAoAiiLCUIolAAAAACgAQICUAFlAEsEsAICUFlAAAEAAQAoIAgAAEAgKgLCLAAllAAFgqU+eSlQVAyxpUoAABlnrzN23TsN+3RtN2evZWaUAiwlACxSAqUSgBcaLjSglACoLLAAUiiApAsKACUEsAKQAsUlgoJQAAFIoFICAssFlIsCUQKCWCywWUqUSwRBZQACgEBCwIABZQCxBZSLAABAAAALCIKlIBCFgLACwAABCgsBZT55KAWWCgsFAlEsozwyNu3TtN23VsN2zXsrOygCURYIFsEBUpUFSgAC4jKIWygAACwAFAhSFBLKSwUACABQIFgUBRKACULABjQAWUSwELAoEsAFlFlIQgFlAALKIuJYBAABYBYCFBUACWABRFgBZYYgAAIgAAAAUhSAAIKmR87ZQAACgWCgAZY5GzZq2m7bp2m7bq2VsuNKAlEoxqFlgUAALYJYUEspFAoSgAAAFSgAhUpALKAAQAFlhYAFBUoIUCBQCFQWWAACWCygCUQFQWwIgAsolAFQIAEUQAAhbKSUSgKQCWCwUCIVKCCIUAARC1ABBQBAAAIFsp89AWUAAoFgoAGWNNmzXsN23TtN23VtrOyllgsoAlgQKBYAZSwhSKAAEyhKoAAAABZQQAALKACAAAACygEoAWBKFAgCFQCGSCpQlCUAhSLBYEABZQAlCUhCpSAAEALYCwWUlQAJSAsBLAAQlgoALCCBYAFlAIsAAAFU+cKRQIUFgVKLKAMpTPZq2m3bq2G/Zq21syxoWCygFimKwJQUxqGQJZQBcciUAABCkKABYKlICwAAKlAIAQoAKBQSgCAAsABLBZSASiyhKJYLAAssAIQqUqUSwWABLAAABAWUAAAEKCAlABAJQCFBBZRLIgoAIoAEAACywZSnzllBBZQBYKBZQCpTPZr2G3bq2m7bp21syxyAFlIsKAQiwqUAWUlAAACywoEsFAABZSLAAAABYLAAgKlBQCrACAAAsCWUSgQqBZQAQAEKAACLABZRLAgsAACUAIsFlABSSwJSpRLBLCggJYKlEoSwqCwgKiUAogCKIUhSAuWNPnAAAVBQUCygCymWzXsNu3TtN+zVsrbnhkVKFhUFQWKJYSwUCwUEKAVBUoAlAAABYAFEASgCykBZYRRAVKUoIWAlgspLBSCykKRYAAVBYABKJYALKIhYFSiAAAsAgsFAlhZQIUgQLKAWBFCAAAspAJYAAJRAAUQAlEWABKWynzgAFCKFgoFgpC2DLPDM27dO037dO2tuevMyIWykAAsoBJYUpFgUSwUCwCgEAsoIUFgSylBFhFhQAAAQACylsolgAIAAWAsFlhYFgRRYAACWACWCyiAsolEUQEoAJcSgqwILAsCwIQyShYAJRFgAAAlgAAIVAABRCWCwASoUoylPmwSgoSgBQKEBQXMNu0Nu4rPMMwAAKEoASBQWAAoAIE2BAShAWAoASgBYCBYFAABKEAoZAQECwAAAAFCAAAAAlCAQLAlABQAAgJQQMsAUMsQAAAAkDIFwDIFgQAAACAAAgIGUACgQgACUFC0P/EAAL/2gAMAwEAAgADAAAAIe79+/iwhvugkqrgnuoivqvlonpurjqhhlmtqluhkrhtvgkqohhmokhkhigrjuqvivuhsomrghgjgghvorkg64o4T/8As8dftsIerfM9Pc4Zf4oKoI6KYrKJYKoL77577aIKrY6b6r7KoILpLaaLY74IJ4L774KIJo4JJpra4J4rpYJrrKIJ7p456O/qb+75es9sM7J+PZZzDzyRzzzzSDAQgwQDRTyzCTSyQB4jbzzCwzzIIpQZIayILr6zJpoJL44xiASQigIwJAQQpRSgChBywBzwiDyShxzhCjDyDqrxZJZigABQBRChACBQigSQihSDiyTyCgK4wT64SLawQAgq75JAhJbarJ6q7qZr7byj77wwDQKAwwAgCgBCBxDwxzyCAjwiwjQgAyb754aABSAwBDjgDTSRQBQACyjSTTCDzw5jh7qpyTzgqpBDCKKRwRr6rrrZ74Zo5yCTSpjACD7y7TQrAgDQgSAChhDgTQSyTBQATJDwroKARQxQwzzBTyhQwzihiSgBQABiiDb5zahTj7oLLZ7QiwIKIIJZboYaroL6rDIDTyDD6jYbwJiLrwhTgTjjiyCxCQTQShTTSoLY4qoSpDzDijzxjjCjARRyhTgAQjzwIQDxRAhCBrY5qYL76Y4II5ba4oL5KpKo5AizyB4gAhSp7IgQjCxhwCjhRgQzxgjQShBQSpz7p7pYBSAgAyhwDggSBAAQhSDTyAzxzSiQbADT777545r774Yb5J4LaIL7657rbaL6jZQooxxZRwywY4BgAyyyABQiDhjzCARAiTYy7p4ASAQQhwRzQyDgAjzTAgRCRCyDaSigDShQ7b7ppbp57oIJIIILaI7aJ5YoKr6YY4ppD5zzzxhTjKiyyADwwgBxzzwyQjgigTzyJZJxQQAhAADzjxCiAgyxzwwgzB5hzQywwhQ47rLqYb7777rLaao4oraIYK5rrKbLJropIxrjCg5TBTQRyQYADhRjTijjjxQBCJ4Q4pb6BQABRACDyxwADBhzxTSghDwABbRIiJY75ooKb7LYoY57rKZYKpbZ5rI67K6qq6qZZI4QTK4JzoIpjibiThyhxQRBSzTQDr7rYLLz7aQABQRTjjCiAQTziTwgwzwxCxx4wDrq6o4LKqpLr7rK4Jr5Y4pLa577orIYIaqpYJIrBDabTijIbohzYxQDATyhAxxQi5DpLbJ6opxADwAAAAAiRDyxwxaZQT7KaLDK4rL777JY4aZrab6IKbroY7b4oZKYL76YJJ6J76prI6ILDgZ5zipaogpSjhAzjzxyThIJJ4LTCjjABShwgCCiwQjjzhCLByrbyiwziDpa5IJL5YJKbapZ5q677Ip5I5oIqL6r4YYIKr5pLqxg7jpp77zjzARBSDQzBTzCCgwoYoLjhBwgBDBjywgQCxTzTzL77yhjCpzzwI4Lbpa4464oKqJ6b7aao6pqrpZbLYIqooLYK6aZ5pKIY5Tp5ZpwwoAjIgQyDiCATDSr5YIp46wgywiTywyARATxBjyTbS4Djywz5JKKrIIKo4b4qIr5JKIb6pY7ZqL7qILYI7a77bZb7bqobYqb4gxTzCaQ76jwIBBghYDbKaIaZ7hyDxBigDCjwBSwBawDZ4ihQJCIY7456qpLLII46oYopY7pY6qYabIpq7LaprpprpYqIL7YRb77qBaiAzygSjwBAAQB7Ri6YILDzbBADRygBRDqCAATj7SAgDTJIALb75p54rL5qJb46JJapYYp7Yb6p6IIIpI4LJbo56Y5LZrZ6q6oCCiiAygSgSw4wDSg7qRyT4JyyqaDBCiggRSzySgT7zSDBDR4Db76LLr75LLJKb74YpY6rrYZYb5LpIroZb5abpoa7aK4brbqI7JTZAjazAx6zhS6zqbIoq4DI6aQBbhTxzxDRzBSBzBSIKISwhTyhq4boK4IaoIoJJ456L7bqb65KaoIbIo6pboL5ZIJapap7L7YLKLByoRC5r76zySDjASxa56iJoIBRi5bxryCBwyAzgB6oCpL7CgrwhZp4o4qqLIJorJKJIZbLLIKZrb65r5bI4IqpbrK66KrYYLKqa5KoDwIbIKj7wAjCQpDwZizqIID6nbjzjSSCQxSSgQy47CJy54aAZAJKZIbIIKLKYIa6pKqIIKpbZ6ZKL5K4pbII4Ir6o7K4Ibb6K46rr7rq44q44Ih4KbqAIAyYYJbzFHGXjygAyiwAzDy6K5gSLZApw6YL6IJ7Y56Jp6r5IJaoI5L6aob75o46IYqK7boaKYZI5b7IZIbJb5pao7raqILbZLQAgB664pYVCwmERwygDjBxwBzhiqbYrYj7hLKZ576Jbb77KZILIo46II5I77b4K4L76JpbKLp7oI5ZL4oJYppra7K65774YIL7qoYzQz74Kb5SACICAIRxjCSVmQTBwoo77IzpJSJIKbK4Z744IJrL7L7KpL4ZpL7oZ4IKLKq4KYr6Kr4pLIqJY6aL5p57Zr6776Jb7ARpK77KYpwAgyhQ54DKZyxCSJbygIpK5LhaL7Ia6LI4paoKJKq5Yq6IaIJKI54JbIIYIZZ66IbIJJbpobbJLI4JqIbKoKaJbp675bo7LK4JIbToQ4pK54QzIABCg4KZoKZqIbT4JIL7r75Zqa4KaY6Z7IK7YoIopbrb4pLJarKZopYYY55L5JZapJJb4YbLI4676rYqrrpoYoJ6JIKR2kxhDjgDRAixDiTCahxIpJL7KLrLL46LabbZo557546rJoILZILKJaIKoo5opZ5bIK4ZYIb64rbIJIb4YaaqIoLKL7745qIL4KZTDTZ4pDRjhggxxDywyhgq4QwzQqYo4JYpbra6obob7IIJYYb7YI4Zb64YI6aIrbb66KJJY5b77LKpLb64IZL7Kq6Ya5bb6oaraLwz3WAgQxhDgZqCa745LK6Yq4Cr76JLqJ4JaobK77644o6IIYIYIY45rbqbYqL6Y66rpLIpZ4pKaIq4q7K4LqJbKqrar6opb76r555boIYB5QBazABYrL5IY47Lw4xJaoaJb6J4YKILKpo76LYqZ67oJ7Y4pJaZJZqbb66q6ro5prLpqqpboYrpJa4qrooI7qoI5oKbY4b7wySpJr7bj6x5qIzz7jSzCTT6yoILbIqIYIaoJqLra4oKKLrYYZbKZ7b7647K4aK75JKY75rY7qqI64Ia64qKoLIoaa6aopYp74bJZKLSZz5aZZ7gRghDQYBy5rz4CTL6oIaIpqIpKpYJJJaooK4YoI4KKYJ5YoZaLr465obLraI6q6oL6oJL4L6pZ7bJ44KoprIIrqJbYBTxQgKTrShYJqIAjg7L6pb7qRDaLqKZ7brr5YKqpapoI7KJ77KoIIYo6pKILa7b7KZo4YYKa4rqJK4rZL6756Yrbq7IoZL6qIJYoJJDJ47ayhDaY44AiC7LSiJobg65LLY4L4KaZror4oJbbI7Z5r7ZK5ZL65obqI5rY5p5467poIr4p76Zr7rZa564KI4orKJqbJ76YKJ7R7TQAQ7DDBrwLxzqyjJyxBa5Sx7gbqJaZLoJJoJ5j5a4bb6YY74oYI5IbbqbbaoqpoaKpZr7aL76b7IrLr77qr4oIb7b4K5rK4obo7gRQT4j5RaK5bYbjzz7DBRzyJbKqKoKaq6KLhCpj55J4KpbprY7hL6z5YILzZ6IpaIYZ5rIorbZIZYKrK7op57YqbroJY75LqIJ6r75BQCiaA6pbAQqxTyDgSqL4LbL57YapLZ6IKq4JqL4KpZrZ447YbLq64446bpqIZL66KqI4JZZ5L4r6L776aIaLrL4IL65K4Z7pqZ5wa6CiKgqwwJogoIqp6Y4YJLLII54pTpoLKKqYpaLa4rI7oqLra56IqIIqI45ZaYaaIaZIJ7445rr6q5brYb46YIoJLp7qLaraIDbapxS4zYLzAB6IIIZLIDK44pKao74KZ6aIZKJLqIJaqIb5b5b7qIaI6YKYL45pzJLa4q4I4Y5bL7IaZYIYarJ44Iar77qoJ4rIoILTTBBahyj7ryyQQiBQpghDb5JbbYoIIIK7bpo4b4YY5q647457IL6Y55bopLJpLJ7arL5LYIJ4oIoLqIYo54JbpIJLbo65pa65Y4pa4Yo77ZKLCCggAArJiy65L4JKoKIJ777abYKoaL764J5YJYJ64KJJqJ4o7r7r65oKKZapYJY5I4K4braY4LoKKIII754KLJL5Ia5ojpJLSjZJYBTy65JaKZbr7L4657br757J6LJ4Z76oZ5q7o77IrooJYJp7aqqIL6YI5Y74Ib7KJ4aJ7rIK5JI4IYIL5Zb5J5o4p6Y5CrLrrjAQR74KDh7wobpYILLK6JJb7aqKr4oIL6ZqpK6ILKILaq5ap7pLLLIIb5b7b7r6pLq7KZbp4YYqIK5or6IZoYIIKoJYooJ6454Yp564wpjzzjarbBz6qb5Y477ZJ74Z7qJJbJpop76KIII7rb5K5q477YJb7KIL5YqpqZYZ7ZKIbIYIZb4qI6Z6ZJLoL5oKa6RgoDYIb7LbrBz7CjxJ6zDC54b677YoL7oIr44JLIY5Ir6Zb6pJpbqIK7Jr5Kpr4a5oIpZ7IL4b7pb4Ia67776IIZLa5J7rZqaIrbpZDARBYoqLLbAziiQhSIxKqIoKab6jZ7J5IhbILbqoo5brb7YIpJp775pLJaIIIb6JKYrZ65p7Ia4KpZ7a67IIL67b4JaaYJ7rIKaoZpI7aSgT5JrCSgyrBKjQjzhgShRiJYb6pY45ZIJpZwJrqL6oboKLIYg57rIa76a6IKJLL5L6ILJa5647b6qbZ7rb56qb5bY6IJqbo76yBQYL5b7ra47KrJp445J6q5roILK7j6RRIYbI6J5opxKpZI7oYYoBLJq4BbqZ5bq5LLZq4JZb67qoJ75pbqZ7IIL6rbL6JJ5Z7IJhjRgbxIZZKbLaqqrb6Jr77LZK75IIb76ILJaoo475ziZ5ZJu3mIbYbL6gAKohQApzqhgIS5aLba6raL7LZZbL4Jbp54aqaooJZ76A4DzACJTYpTIJba7bTY4JJ7YL4IrKZrYrKraJbK7KLb7bYJIoaZKYa74r5awzZY4ahhKT65ILZrb4IoKJZKoIoIJLo4a5Y6Kr7AiyCghgCowRJrgLxxZrKQY5rL76oYY4rJqL4LJLJ6oYIJJ64oIIKY4YKJpoKIJbaI4Y4aI6LaKLrIIIabKarYoIL5JZ77o75JZIDg7xwCJaJYjTBJYA6wDILLoKqYIK4rLYqpJabbpJLLJI4J74qo4aqaLI4KKIJL76ZYLa4q7LKqpIJYb7aJrL77poJpJKqooKL4qIa754YDx6zTyTaqiDRzDzRZ4IISKYb75Krq4Yb7Ybb5aL4IpIa7b6oYIJb6LqobZra7qIJ5aoZLYIqqr7Ia7LLYqKKLKa7KK5Y5LzCygpACb77ozp6yBzKYxJyKISpbSgqLIJb7q7777766Jb4Z5IrrbLJbp4JoIoroqZ46qpK7Y6oI4JKqYKL74aJKIIqbZLoJY6b4LrTR7DxDyYTbb77pYJZyQApICa7CTIC767L7rpb7Ir47JbLbL4IJrKZqI4J4L4o4YJLoI4q776obIKIZLo756IIL77b4IIbbIJIoI4YDQTgATjJpTRDw57wrTY4oRzIzxRSxiajj6IIp4qIoIYIYIIoaLbb657b4ZbbabYqJaL56664pqo4oIL76pIZb5bo7LbbK6I6Ib7TDxxABqLrRbpTCbLhQD5jYzRyD4hDijLJCqqL5b6bo4JK4o6IJ7pb7L76Y4KY6Cy4Ir7Y774aL6aLb4JrbJpb5p664r6Lb4aJp765yTiwBCzDjJ7RARCBQALZ64j5hKpBDhYLyQyr4JbrLoIKI5YIK7Jbrr4rb56wpwjRr5Jb7754r774aobr6qb4LIYbIqo5LaZYLL5a56D5CRiBzrqaIqBAQAwCTzy4oIYACgQATzja5bYo4II5ZooqLZ56Y4KK7p7hijzgLLbZ76J4LpLZar4JaoYopL7r6r6575L46qbbrizQJIzRADgrAKhBxz6gCzAL46ghALCACAoqJKqqJ4J5LLIopIoLZ7r7b76hjTygJ75L6pZpob5L6YoKrL66oooLL7YZLa6qYaoJTbTzqRShyCwazBr7zBRIzAD7DAICAAjABKK4IKIpIIZLLpa6baY7775oar6ihDTRZpaJ54L6o7LLrqp67ZoJb5Jqb56457J7ZZ5LzSThJQDBBSDixAhTTjSDqz4DgSgQoxxSjgRAIKIIao5a6Ib55IaJbr66o4DgzSJApo4LZ4JpIZ766qob5Lp5pqba4K6Z757II457AaZwizCATRyRzQxhRj6gDQSzyyTzg4z6zACYYIJq6rL777LoJKJb7bb7ZprQhwjxyrrLq5aLq7KroKIKrb5bLIbYpL6r5bLqqb6ZTwxyBhLL54byhzjwRzyhDQyDzSwAzgDbygRz4IoKao565b4ZKI4b4aYrZ7zBBjzyja677b5arboILYI6Y6oaIJJK47aKoJb557wSiybDjLIwwDxygiDijSyRzBwTzwDzx6DSYapj754YYq5q4IIqaIrpa5aZaqTwChZ7JrLbrL7IL4I654KJb6JIqIbL656qYLZIJIb6SApwAjKRQRyxBwgwRjzySzjTzwTAjgRrABZq7jqqaZwqIIY4oY46KLIoZqAwwADqJpr5bqoJ77LYKY5Yr6K4LJKqa7776pYqIgLSAAxgCzBgAgiARBSRDCRBDQhTjQyQzmRJSwBJQyzi0gwCJpKoMrZLqALJrwDzo54bL7oLrYYJ44JYbYpJLYKooKqp5b764ZK567a7Qz66AxSBjCRhQziBwARjQDNjxigQzAABQRRBhHyD0xzogr46sI5YXjgCTAzzwCQzYI65KJqKLbKor4IJJ4JJo7qL4aJ4Y7oIbJbBQThDDSQDCjRjzywyggTBzRAiBjCjTiiCDBFkC1RgxjWSypo0FlUpHUgRRDkDwACjiJZ7Z65bJbpor5rp4ZrbKKoJILIJILrbIL4b5iDSxDxTCBhySSwBBjTyRQiBAADCxSADhhTyATKByTyQ4oZIYJLaQjAiRewCznwVyRQxBK4iQqbYb7qLqrp6o5LqIaqI74IaaoKCShwzxDRgRTwzADTRSxTBTwADSgwTSzDCyzS4rgzSCqxThbozoK5A577KrATaAiRwSxhhATTBzQ75K7YJ7aboboao4KKp66567qjhSwzwgBAhABgQQyAQAAgADgSwATxhCzTDTzzDAwzwyjiIIbx6JKY5jTzzhDjChQB7DDpCixRIyBKJqp4Zbrb444IpKI6Iyp7KgbBTBjzgShCwyAxTgABigRgBwzTAQCBBwzgSCzygwRThDjQyg5LRAqxzSgAJxbxwSoKZbK6qZ566qY67rZKoIYpKIK7o4hLyyIrCJZyDjDzwQQCjQxyhQQiQADyiTyjzSABgjDxhhSwQgwCgiRzyxAAxgj5xwhyTiAhCopjgDy4pL5rqLJZoZqqr4KI7oIbYoJxrqAwyYRhQBhSBygDRxSzxAASDQzQjyiCxQjhSDgzRTAWQSARwABBShSCyATyhBTwgh4r6IpgQjBQ6YLqarY6qJL6ppr4aJ7pbwiyKwiDSDwzDShwwjgyzjwBAwRwTxCLYRQAhDSBJBBjBixxCwwRgzAxiQBgAyyjCTDjTgjSACRRgTTygggITpb4KoLLZY4L665LKByQoTzxxDgTyhBDQjzCBSwCxSjhxxyTDQBiCSxCgAiSSTSAAQhTCAyhThjQjTiCRxjSyAyBiADihTBCTSQj5aYoqJ4pZKp4JbqZ5DiBoCCxgDyAgADjBSAAwCCAzCRzBzzDwQhxzzxBCxBBzDTxyzDh5baIhzBazABxRCjzCD56SxzShTxBBDR6hIrrpLaIY4bJIb4bagAxhCRzywRygi7SxzyATzAjhBxxzzTjDQDhDARjTjhwBwzwwhBRDBiwSwiTSyjwBSDAC1TwAgACzhCihRzgJL7bqJYJ56r4bKabJATwwCjyBzDiCQDwggBAyCQwQjjShwRAQwizBTzDzwwiixBAwAAwyACTjAjRQiChSghQjAgTAiyCiyhSgzCATbDqZqJ7Lh5IqIoLphARwAhCzwgxwSxRRwjSzhTRxDizBQyQzxwQQiiRjRgyRQCAjSCAAihTzwABwAARSTxyRDiARDTjiDxgTCxSSBARKiRJj64746pYo7gRBCQwzjQxzwThCxDziAzDTgAzwjCgBTxQwxyChhwDBSyCgDDxjCyTwgDBQCAyjhxRyAwxAwACjAhDTiyhwxQRSQw5LJiK76baL6TBxSzyjyjgDzzzyAQADzDQjCwyCgwxDjigDwCyCBCiARDyBBjARThjCgyADRRzhBASxyzTgBjBzgCyzgDQSzyTTixqrYh6764JLCLaSCwwxTygBCTigwAigTwjwBRAADgAyxAQxCxSSxzyRSBiwwCjQwwTTQRzQxwAAzxDwRxjQSQTAjCRwjAAQCxxBQqKpKY7b4bKInA/oLQQDwwzgDQizRyjAjjwRzwDBCASAxDzgAyQhziBzCCTyDwyDjjRDxSgSBjwTyBASBwiQRxQwBiQhyiAQgCCSDZ66LDJpL7oJ3GVIKpTAAzwQwQyhSDTyjRTwxhgwxTQCjxxQBABiySgDCgBDiRzjiiDAByCSyBxjxwSQQQyyzzggzhDRDgAzQDCAAJZrKZKoraaLFnW2EKLJIDhRBxSgxBBCAhDSxijAhCxDBxTSgyBgARSghgSQzzDABQxRRigBCzxhQxQDhgCAjixzQhByxwySywSwAbRL64776JYrUGn2l0HEq7DwARCRQBTgAjRCwwQTyAwxyxggzCjTShQBxzgQTiQijyjjChAwQCwxjBxzTgAQRjAiiwwQjxAwzBSwBaJ777LI5IJYE0lWH01WNuwSwwgACSAgjQSQSQzSCxDgRDgTyDwARjiijCzDRQgijwzjgAxCSTRgTyCBiAQzxQBCgwgQSzzCABwwyij7bLLZrpLa1WlUV3WVXMoxwyyRzSgwhgxwwThxSSRzTDygwhTxAgCChzxxTzADDSTCADQhwRwAgDzzgDRRCySywQBDixQDgjgQgZBx5qqor655002kn3nVUO4hyyCABiABgAghDBwwBTjCwTQASDzwThiwDDzzjAgDBSiBxxCxTghRyjzwASwSiAhBSDRShQTwQyxih66Y46b4ZZ7p30WG3HGn1vbCDRAByThgBSQSwDgTziTzAwQSiwAhxQBxzzCBRAQDSgDTRzBTyyizSgDxDRgwhhBSzAyhRTDTTRzxA77b4prrpY5qmXXXW1WklsISzzziRTAQjBQAjBgjzzywiAQjwAgDxgRzxwgQBzSwwTDjywxgwyQwSBAwwizCwAShiTjzyxixyASywLjzKJL7bp552kHXGVE21M7jTzgQwzDDBTzwxzSghCzTzgzzzgATyjjywzTxzgADSDRihhiDjSQhQwAiixjxSTSQAiBAiRwDSyxzQo6764La6arLHEUF12n2EtZgTSAAgAjCTRzyiABSQywCQjRzzwwCiQBxSBADzxwAyixxxCxxxQAwhzyThzyQRwizTyQRiCgigggSgbzR57p7LYaYEWnG0Wn1nPMzTyjRSTxiDjDBDhRRSTxSjThDSixiDgDBDQjhAAihAQyiQzjQDASBChAzzQjDSCiDjCwhRACCwxjwT4AhQarJrrqYG3011WlGFGZTTjQwhhQRSwDhAwihAABTTiACjQiwTDxhDRjziwSjjTzAxzwhTCgxwgwgAQyxSxATwyjgyBwAijhSjhAhQYpLLop4HWHEVW0WXH4wBSgjygBDDTCyQDADzgRQygCTDTwDhwSgwAATxAwxRxjAxShTBSByhDCCDzxAAxxwiQiBzzQCDxTjQQiwD5aqqZ6J2EGF12H330KDwByCCACABxyDzyCCCByADzxxxyADzxxxxxxxyAACByByACDxwDyCAACDzxzxzzzyBwByBzyADzzzwBwDwAKKKL4L/xAAC/9oADAMBAAIAAwAAABBvtMfL/wCKGui2a+u6GCmKGC6ay2qqaWzq7iuqCGuevH3/AA0ulvtlrtlgjrurjunjopsolmqmnnvsspmknisl92q3Y517zx2w3kyl5Z829mh0rrvunntvhy41/wDsM/eeveft8vPvPPv+dtd9ONMPd8PsMs9PMPv9stbIKb7qIYraK+56YJKoYK4raMNYI8Zp9O8s+I4OtoCADSjDxTgSDTCA0H2WU01nUHmHU2fUf2lH0nkfN9UdMNGvds8l9MPtP9vkn3kUGn+lOXGldHXWE1GkkTxSTgCABzjSDxzBRYbx756CAAiQBTBQziAEmFn2ElW322WWk39e3kee1/vm0H3e+OMXFtc9vPMfvuM/cs3lPsUFEkenHGkkkmWG2VDySDjzQRTDggAyQgZ7I5JQAxyAwyiCDTzBimVnHk21HmGF0nMUWcuv10n2ec2nEfd3kUNu/wDL3PDbnz59NB3ltJ1rNrdpTQUZVowAIs4QIIEkUw4s8oKk022CgEowAMMk80wMoc1tNVlBxFBxVxZHDVftRpfj/n7nJh5zjjP7T/LLbnzHjXFr9FBRBfJvbJDtTfplIEYAY44gsE0YsQMUMAK2KyeC4usc04ooMc0wwARJdlBxBFJtRLF9NpRhRBrP/DLjDD7nDPPrnLXrHf3vbfhhtRlHpB1RXnzB4NRFJRUYEoAQUM8Y0wo880qUKWCaG8MwkYIg84QMsdB1BRFl5J95J5xp1j5h57DDHvf7PTDLLzTT3/b/AE40469w27yf/c14RU+UEAGwzZUOLHBGICFEJNPNIGEEJjPtjiOJIKCHAHIEILLMdeZIFcfYSVR8aYUYaRc6123w635x942/z20+8z9954/29w9w342b0YTWTXXOpGKOLPLEIALKCMHDEHHOAFJtuoAAOJEHDLOPHOILcAIAJeeWQ8TXXTTaQX2143xx/wD8tf8A7LbTzDLjHfPHTPjjTTTbj/RrZt5LNYAAUcc6MMQ04UkUIQsE8c2mEOKqCc08Y8A408EkgUkBgEk591JJphrRHNjrLzXPTjX7XzrzDTL3rLLXv3ffz/7L77Pf7rHbRNDPHhOeecoOgAE8Mss488MYs4Oy622SwWKcggUEc8YIkgQcEtRV5ttxlRRFjFBjrPfPjrfLbvHDzf3zj/8A405w17x12wxz28+x8x2cfw3eHPshrHJmFMHMHELJCNNMqEropoqlnLMPBCABLLHMEJSUV53Tb3+1zTwzz9/5/wANsuudMM9v9Pee+edN9M89/wD/AM4004zyxz5xw3+YPtsDKungPqAGMOFDNIPNDlsshmPJOPMFFCPGKDAGDJYcXY7VS7/bTfbQQx5w9z76/wCPfetMvNdu99+/cOMNf9tuNtsePMNcctWk7yLrK7jSTCxwyxhxiwSRzzw7IJJQiTxgACQQBATzwigilEd/NmH03e3kEd/veuMPOdssMN8Pf/8AfXz7fvb7f7vHXvvLvfHj7XTDHeKwmiqesw68waAoAskgc4gQ6C+KeKGAA0s04s84c4IIxx9FZn1HtN959PDHnfTfLDzvTPDb3DHbjPbjTL3jznPDLXPvbTzHrD3zn7q+iCkcUcwacaWIEaAAUg2UqKSuWuecUg8sAAkggUs88NrRd7Htx1Ddvb3f7jXPHPP/AM8/8wxy401//wB8c/8ALT7XL7TP3/bDPrKmu8iq2mAKAwQE84kAUsg88y4MWOyqggKQgQUEo40E+Uc4IU+hxB9ZyTRnLDXTL33fbT/LT7Dn3n77DrzP3vvbz77zfTPTH3e+KDf3S6CKGUMIAIYkYIcQywswE+Sk0A+6sICWEM4IIAMs4QEAoiwJF9tNDRDfL3/bv3rTTbTfv7rr7XnjrTjzT3LbjDvLfjfvXK6a+2fmCum+8mo0Co0sm4g0SwCaOCC+QOO2YoS4sIYUsMsoQYAwoWqWFxxVNtHHbr3vrnPrLHL/AM99z9zy5/0x8+/21z40280/tyksltovtnpvmmPDsPKnumuIGKMNPAGjirMtmuGDFvtFtJDIDLMDIItiN1z2Xc8ZW0zw+379zzyy/wB8/MOdP/v/ADnT/wD907/76+707sstrksnqgonlohjECiouuFvBBGJCuBDnMIlquMi7tGJNJAJBEHKODDthHiT5y4W+b072z8w7/8Atvcf+tMcvN9NO9+/8+/NstcdoY4pJbJ5Koa66ZK6o6K5Ko75Y46ya74bCoRiZ6pLDe8MvgQwTwCjADiiYoLi2oKg4UccMuv/APDzjLTnL/nz7jHfTzDfbGPbzCuKz2uGKe6i6ii+m+aai6iGSGiOKeieS6KOgMEkeyuKqFIAz7yyKGiaQCIAIIwOaq2OkCNz7z/zDPfzfDzfPPrHjDvfzPvPqWqSGm6yyCyWymCi++uyW+Oi+euuCOGeqmS26GaueoIwCS2i648EaM8WYYckU1JAUQA+G2eqk+aoLvbTrfHTTP8A453w+78w2vgtjqnqurDsomtNotgoqvjupltrnkkipgroigmjsrlsjPOrjqtulqHNMHDNmtJgtEBDIlgJAmpmtgCggshy08/9yx061z96wz2kpqvvjimpqrGKpJEENPsijnnkkpjoqtslhqimlijgjsthuvhssrrjqrBsAhtutlHNjMMBCrmsmvupihDtrnz+w06mv8+w4+x42x/0tnNNHBMologlohGMFHFuvsmqqllvstlqluhilngnustmqgoivjgshrhAW0IAEKBAOHMEFPIEnOKnqkvjqimsu5rgnvj9zw706uppulLAHgslqDAAijlvrqGivotqogtuphkvmshjumhhjtsppqhjhrurlhiHPPogtOHJEFLCHFIjDHAkrNPAJqhljgsoltj7+0292gmgmnuhigmOkPpnDNiAAivOtotnkpmjktskuhjguivjrvuihtprnmgssrPFUQHLONNCCrrButgiivmkruPqlrjgmuslnoouyw3vh6jqiDMlqMssjDsJqoPGKANBpnnoirjllnssssolliljvquklhhjnnqrmmqiktvIqOOgCECoimvjpirgDjEgivkvjrgomrqorz5v3+MsvkrksqMspHoPpEovvtLICLsslskqnvpuknikpkgjsrjsmlrjmhpqokgrIDHjiggmPqKuosOCiMDKIACsDpgolthkgnvygujw1NNMLJDhuCnqoPirAHMBvoJLMEBkAvjsvujqohmhrurjjpsqrhmlqopoolluskhHoCrhvvmDNKFOHjPHqlIlKDhqqrpttjntnoqpqstAspngiEDvqpnutAAiGKMMBjpkLFnlgsutjjuknsuihigotrmvrjkkjAolgKCKPDiGnCKuvokPHHkighggkDCopjutirhn1y9krmKPMqEoBPEPvFNAvrtBGNNsIFtIklKphvsvuuitkvutqsslurhpukjgvLiiugpCmjqrGHJnsvtKNOljLFgtnMtissrthrsijuughNhutrFIOPNOrvkuEiBKKjHjlPBDkkomvpjjpikshrppkosqpgtoqpnukKkquopnAhNLFNsMGLiHsHPlFFpDJPisLCjQruiqmtvlmt7iasFprhlsBoguqpHhtKlKMEJvODjpnsnuomknuvhtgghmvnuvvlDmvGtinshutgAKOHiCjNorqsknAAHgGJLLE8vmthomkmsIvFDuMJJqkvhtDICEHqOFIFrPNCvtICsmviukqorpiqvpvgojonpMDuOqNsvlnkjkjvrrJBAFoIqjmDChOBIDOBnhgkmvqngnlmrrAEjqqjoDjuJMgsplvnojpgECqshrCjnhquhphtlppjhjljjhuqgMNMsrmvormstvoqtoBrqFDkCgHMjhOltpttklprllvqongPnmtDKmJnvioPhJgKCOCqoJikOsJOOHK+qsijrmunvosiuigmhmiILCLFhALuhhghjtniNiinIEsPghJCDkhnhhsuDksrrvppntonmntOMINLoGJnIEvvkMNGDujAsqlhjpoIsousgvolnmsghlngukvjlHDgBKAOqhmqnmpqotMJDIlIPFglJJMCMIOrILChsnntiqiknIlHELlqipjCvugsgmmoqIEIpluKtvqhkopuriqvptsrtqvqikglMPGiIlgJnlsrsplmsjvmtnljrnnLPAADBimGJgpglmjqrppgroBGssuLFjmjnGgBAAFLqgOACJOjnChruhommvigphqsvhlikhmLOAIMIPNLivojmiqkkqlMjquFDkpqEPIgglglonjomksgxugvivinsAuIIChjqOKOjghCvMgrIiNNNhiitugrgosprvluujvrngNAIDAAMAvJkisrvovhtlmPjtgmNLBBnjtBMgGtjvjhptvgi1qurnvALgEkqhENosnshotviqstBlpjuprqmhonhkkmuvsuthotkpKDIFEjtnCrphiiikvpmsgtjjqvpglFsBGBshkuILqqkiln+otovpgkusqmgptrvnt3yhu9h+nqkMoGjnusgpgupntmoqjigmsumvLLDHMLONIMlsmqtlssmJGlMqghkksoFPkFCFplMGIpmjqt66yoktigvMLHutqjum6x2+nyz72g5olEjmvvqnvlqohnqslqqivkniAFrmhOLPMhjmtqrhpnlvgDOFClpumqhJMNsADAoLoosnoq95fustqvdOJr277842+/8A9v8Av7PCKS6Si+zLqeqS2yy2GKSOmCCeiaMwMEQ8ASGEiGSOSWmG+GCaaGy+sI4uCauKE0+gOMkQQ37F44FGS2qCL2OPzP8Aw/Qh36y202878wsW/wA4/bps44o467Jpoo775rJJ6bYqrAiBjCRy6JaY5bLc9vpI80BEJZ46YYLLZa44ppqYr5fZuf8A2CC8OA8br7XPbb37trTjb/TPDPt7jr/F/wB/tlvgkts8isojnpnhDGPhGpjOLAIgkmkmqj0/i6hgeEGGuJsiismilljpggntrkizmtupuist/wD+/wDTTT7RNr/nj6MErrrzTvVLTbhth65yIljt2iu+26C0mCQCqoOWW62eaeqGuCrqWD1L9QgEqICS0OuGOa+0uOCSnPX+Ce+mb/rHPLjnLPjfnfbjTDvvb7jz7jzzHR5j3nrhlO1/C6OaeGimOsAgMYE4826eyOuSPj2f1hFtVls86gU6+gi8gCaGkiKOO7CmCCuO6f3PPbTz/fP/AAw869/3808+5/52w/8A9tvvfKbr+o4744a6r5y4C5SjQwYKioaq54+cKbzm9n3HdJuM3ywLpYoTwoL4L58pMs7LLoZdteMtsNve+vN9ONtffdMvPPN8udceNtOs8M45KIJYb7r674DyQwgBJxybKIL6ZooO/Ps99dtVFtnigAYoyjQhcDDqZLrga65PtKestvNfMd9+v++feNdMMMNeNesNvutf8fe/tcM+pII4ooKL57K5JowCQhRiqqaJbJ9NOkWnXOkzb/8AKFzukA8i2oygalNGr0oGrvPbTjfrTDPfv/7v3nXv3jbjbrj/AD+35/8Ae9+8ffe8rtqbrKLIIbqBLJS4gAiqqI4ar598cv2V+EGl2cFttt55oI5iQTbaBpKm1LEMtPO/s/Ncscs8PP8A37/LTTz3Pzz7/wCw4/1467+755jv0+59rmugjugANPmqturnvrklk5137ydReUSTY85aTLKotXuY8mraXkefILCD6af/AO8sOc8v/ufu98dvPMt9+s/vuvMuf9M8eM9fOsNv5aapKahxAARY6p45Y6Jqa7uM9tnnmVG1ttfXb7Dg76zFxpj43mFz4210EudWsut8MMPefu8Nd9vd++tO/cdvPvdvklP+t/8APDH7jbT+2+GmKyWgKwiqGeG6eSfXfT7b9t8llJ9tF/z1RNsJFpX/AI38d7V8uRaW06UWW40/+4x+92yzw3376+y39z6y1R0eYZ70w+ww84x6j7olJomkvvjjhkpgiugtq29968gkT5EIVTC43kpwRXHMSffMEt8j5PcYRccRa7z9488822899y5w/wB/sc9OO+mHW3kNu+POt+fdsP8A3u+YuAEaieeOGS+iafyPPDDjTsd1b3NxlZs2YqNdlJLVAAISridFxLR9hdz/AJ+/111wz43x153wwy36w277+bWVRc71438y82x/h+oqgAlvggqDoCtphgq29z51/wDWcn0+G3xBjRZxQ8JDAjo1n34Az7y3GE328PtP9u88sdPNt/NNfe/fP+9eP+lW0m3f+999fNcufrJMLYQS457KS3kS4rLPM9/PPuuklHUO3HVmxSixwH3TzUB7geSzGkWvGE3U2UEMf+NdMsMd/wDfvXLjvvH7DzBl9RLJ3PnjLH/jPT/zCSSqmC2itZFBO6emmO2PzzzDJbahVto5g8ooFBQ9dNHBJIBkYQV9pnNTRxJ3nz/zHHn/AD6yy0z324788+y+4RRYYcb7368x/wBP7L6LZr4IKat/mmmIZaLIp449c8+0zwgHV/vNNsxQgChBgwz1mFm30VHHXW8E1FH9et9NfO/u8+dMvcMsOvPc83W1lFlW+vMco+fMNLoo7LI6u/Mk3NGpJbZY5r5ofXH0FKxX9s0n2HnnVByQRxiEwkj31Um0+E0v/v2et+tvO+u8cMvc8vt9/fd8vUGE1c++tfssP8OMP+Lqbo9seePVFn3b7ZbqrLqavffE18Tz1PUHkUEVEDAjSwTRD0HnXnHHfXs0nctuXsMOP08s9vPcdMO/P/c8dFnlnnNvvdvLsJ9MMZKKp8fdP9fXXW2qI4pIYZ4N36RH1w0ihhHTU3wnlimpASrlCThjmn3mKVNWWUvNGmECE2FPfevI/uefV9Nc0GlNv+MMfu/7obMu8MdYZO/sf/tlfPGIL6pYrIpqdq7X3LpRCyXH313hSgSR74OKRD/WzUFNkPlNmMF2KGVyGX939/OL+edy3kF3FGFXHlkdcN6ZpOsfP/4poa5dMGHV89N6JYK7ro67bZxgiixCzUlEQUmAQSzhTCTTjigzTkjc1GcnshK07stX+oW0vtyyTz9JIXGknxFV21kmsosMZuf85IYYpI6N8uNsPW9oIY5JKpa7a4Z5BQwTg3nGGFzRxwgRiRyS1E1xziyg002EWFXV0c2mWmU9fuuNM+/FU2FFyGl3glZWsFnlJ+XXua58P4t9/wDRBZnzy2Kiuuym+yGEEogQ05h5R1NJ9cIEcIQRRBwdN4xtJMFFhRN/vJ59dTdpRjHJHX3h/fj/AB3eczTXaZURYW686YR0vi3jp721546T+zspqjnripguILNOPHIFKBIWQVNADIECBMASDYcPIXLODfXSScTWXTQSW604X3/xz+dYaRSbcTeef5XInJHUHiDAku3vv1y60ybdSYhskkNrplChIJNHDGEJPMITBJFIFPGEBKMKOXeVfMLYdTTfeZUTbRSUTfSz3ZT1UXcXf7U0WTRx4+mskjkingnrpr/9/s18R4XffRgChLJhmEotMOGPLLJPDPSPJBHNMLEEKPMHeXYUaRHVcWSeXUdYRSQcefSfTbXVyXaTWYVfUd92fUXXopjslguiutp2w04281QRWSkmBgkDLJqCLOOPJKFPHPfNKGAECjKPICIx4ACEXfFDw1SZASRbYffYUfaVUcRQQdfeUdb9wyzwbSWDGlnugkisrvuw6y6w9UQQVSIMPnIGMIPBOFOAGPCEDFFBEIBFHrPFZAuun73mGdYcyWbYxaWbfWeYSRYSdcZXQQbSaSVZWcTYVEJAPFLJhEsuopp4y+w/bbURadGHHrFNFIPDMCECFEGKBFJALLICoEDPCrEDCGhEA8TcYWa8+wzUUfZ/ecc6fdeZYYRTeaTfYECPLWEEJBIDHquqijrmw+32SSST7SAEBvHAOPMJIAAPINMNCIKJDLMOHILHIOMJDJFJHMENQbaTx114/baYfdXVecQZ85yeXXbzybHHIdPMLJDKqMsvjs/p18z55VW28QJCDLGMAJHPPNMsPCPLDHBAOFDHJKPKMOHPEOJJBBITTXGDMRdBQDRY+RecaQ0d8z2dcXoT4dMDCP0AAKDHDprnupth1381w7fbwdNNHAKPLAGDDOHIOEBKKDIMFKMFEKPOCHKKLKABOOLHNZBIfMPVSVCBURdYVZU20zUdYRSaRLyIJAZ5pgENKIgCvmuvstC+5z/9XSDOCLCOKAOCJGPJPIPLBPCMOOOMGIMGGIKKFLFCLBHBXdQECfYSESfBCFKPaedaFPbQWVdXdCVOApIwzkDG4ONe/pTnnTuy3z0cUbuDEPIIDBDIMIIPLGLHOHADMKBLKFDOLBNKCMJCMJGcZdbIMNcTXdXTeQZLLUcURFWRfeYCa3GMFirBJFoCGQNFTOAAirjdqt735Y9VGBGDBHLAEKHOMGHOPDHHAODMHNDJGCNGJKCDNIIPLUZDIHRFWNHcbcbCdcDHMBDSVWLHJHFCOJPNNLPBHMBKBtFCgrkeprxbcU/W7NPCONGMCJDCAODCELOADMFBADNJCMELKIGBJAPPBUdZYTQCWVWVadRGLTIMMPKFQdaOJKKFPDPEDINNPEBGDPBigggzjrr0a7l+M/2XPBCBPPAIJDOOELEKBNALMBHPNPMCBOPCHBHJIEcZTfXabbTeATDCDONMKMJKUKHFIAAFOGDBPOCCEFAMCKFuujhUlglf/wD5KJHOclmyRSQxSAwTzwQyCjDQhgRBRwy7yRywTzSARxD0UUHF2FHzByTCxwTRwjzjziCwyTwSijCwwzCCgQRSwhxw5bJ6o6DQC22PPMLL20U9SxCxCDyRASRCgCSRyhDy56S5jwRRwDhwhwYfsHHGgxSgQSBpwhAjzzTzTDTTgSRTShjhiBhBzQixCTziIT6q4pKosdX8sttus7aueSBDzCDjpKaIJYrI44LKabrK4wDTQADDzL7o/mws2zIpIh6ZDzbILgwRzzSgCQSQy55CxRjSAAgQQxiwb5Jb4p45okEM98+tPuu1K2QgQhjSIrZYr47pKorJIo4JKrCggwBBSRjv6ZE8Yoq5ZqYoJZrI6KJzyCwRjwLbIyZbLSgDxzAQBSRgTira7oo7JJ1evfOvc9usjOgQyYZaIo7qYL4pZaYrp7qLrbrI57oyhLq67J8rqapK6764qLIpJa7rTT6zJCKL6KrrqAwSjhjQgSiCoCBp4ZbBQ4gt/uYpYcP6DOVh57rZaYoroa667oJarLL44Y5JZZ6ZZq6LYJ4oP455IJY5bq7aI7q6oLpoqZrZ7rpqj4DBQzDQBwzz6brII44ZJKg9MtO95q7KQPV657bp7IKLZrq5abpYKr6KYZrq5aJroJ44K64pqY67qJo54Z5LrqYJ7IJa4Z7Zbpab4KKgBSBhiiiQ56pLKLqYq77tON8sYJapT+UYIoKb644YbILb7rrIIJ54qoKapZL4IY46IqbJI4YpJ4ZaJLbJ4Lr7pJI5qrJba6KKI5owzByhwyBAJAg7I75pZzV+vMos6LaLQt1baqK47YYoKIIIIYLqZKpII77Kp5arZIJoZZ47ZIKY764I457rar6Iqoqr66rK6o6Kob6qJjTyyzxR465ZarbIobJue98LrpaJAd0LKqpK5qK46pIrLJI5ZLo4ppYILor4ZbZaLorbJ6bqo75pa565Jq55pJ4boJ7p7ba7orLJARhiAhwhqwjIYb6ZpLo+cMMvu4MoRoWprrao6r47YIZb6IL74oI7Zaprrb5pZooaZKrb5KJJY6qqY47qbLaqqYJr7K4bJa7bZroIQAjwzQAwoBgTIpIYKJ/OdM/bbopL4v0r7Y6444Kbbbq44YJJbZ6YbK5o6JZLL45Y5b47KIbbZ644qJr5bq5LrbKqqa5JJa5aIbaJBgxBgBRDSCTBKLIpa7Pd+PIZ44YpJWR46LoLr45IKa56LaqqZaILrL75pJrbaaL76o7bpKYp57ZLrZbbqqKJooLJo6LIZLZZZZIJpTAThiwwQRTTLrZL7LeP+P8Aj/j/AAvgfPnvoogvvonooogoovnvgnognvngoggnvognogvnvgvnonvvvvgvnoonvonggngnvonnngngAIHAIIAPIAIAgnovo//EACURAAIBBAMAAgIDAQAAAAAAAAERABAgQWAhMDFQgEBhcJCgsP/aAAgBAgEBPwD/AIG362MCCLiKEbBi0UFOIaYtGwcVxBwPo2444444444444446PXVRW8R6kxHHHH/AEFi83YmPzuJx80A4aDoJtV6tXQLh8sDY+0QKgtFCfLTgRcUdozdjSx1vmExVFo9sOhsL4AbJj7ivY8bEPe1WYuxpxhuEFhghghNx6F246ANIEduLAHEYrVUzFqI6hpTjvMFxhLqfKKxRfHn44mOxweVPxRqdfNVsYpmGiioNcFxpyo9j5+wHOymihi2Fx0dONdUUUVFFsXH8nrZCe0B6u6ARHqN+LAGe1aAFOIKuPniGwQweRcRRRCATMXYoqAcQWrjSTHQQ3CG0Wu4jpA1UdeZ6aKJWLYDMQUcAjH1WAEVomegCwjUhX2KYgrxRV8Fh1V9Bd6iioKiwB6yDAVHCa8T9Tgw1/dpgWtO7Fcw3C4/gLRsQdxpx2sxw6obB7ZiroKnUl2+0xQe69inAsGyY2Q/5bD24u//xAAeEQACAQQDAQAAAAAAAAAAAAABETAgYICQQXCgsP/aAAgBAwEBPwD4Tb9Qg20m71dhvg7Qns4MYgIS7HEZhHYTieLwieIBw7NAo49i3//EAEMQAAEDAgMEBwcCBQMCBgMAAAEAAgMEERITMRAhQVEUICIwMmFwBSNCUlNgcUCBJDNQYpEVNEOQoDVUY3KAgqHAwf/aAAgBAQABPwL/APUcb+pDW4f+xFP/AHqugJ5KasfL7tm66o3yRyGF/qNWyZcB5lezYN+a79lU/wDiDEfUQKsOfUhjVHGI2NYOCk7XtBv5TyBiJ4KJ4kbcKyJA1TXsdo4eoFTLlQuKofEZCjVVFzhj/dUzJZZy8Hiq+TDDgvv4qCOcw3xWAVBI58bsXBTTOme653Dgo6eV29gVPmZdpNVUVEnSGtj2SuLGEjVZla1uM6KCTNjxJxDW3KdXvv2GblFWBxAe2x6+nph7TJOW1U8LYoA235VS/BA6yomYIL896e11RVEcLqUYadwbwCppBBSuceJTKWWXE8CwUVXhLYntsVUyZURPHgqGHdmu1KrKx0b8LFAXOgY52qqpcfu2aqGLKja1V8vabHfcmPpoYx2gnHpEzS1vZav9RAkLXMXS2HwscpquRrdzLKlzTFd+32m4iONUWIwC/cW2Egan0lkgbI8OPDZVRuka0D91oLeSZExji5o3nY1mfLhHgaicDOyNFglqJg8tsAvaB99GDoulSO7MTFkSiTFJHdfxMrQLYWqGBkXmeaCfGJK7C9CigaeaAa3cBZVjYzhsBiTBhY0KqObUMjC0AG2rZmyRMVsO7rhZz31dgd2yscXzsY3guA+9h/U5Q4ss1QxiNlv87SGu1AKFhoOrU0xe4PZ4k2SptZ0e9fxLtLBRQNZvJu5EqnhIkfK7XhtfXODsLY7rpNQdIVm1f0lnT8Yl0p30imOLhfqOdgY53kqFty95V8IvyVN72pdJ6eYG3vZX7ivktEGDVyp48uIBVcmCA+ao48EX59O3XwmyiLiztdy1udVF58LdlUDJLEz1GAA02YRe/wD8brfr7jmsbPmCEsZNgfSaoidIzsmxXR64fEsitt40IK36iEFWP+RYKv5wsFZzCDKzmERWLDWcwrVfMK1VbUL+L8l/F+StVHiEBVc2o9K5tWGr+YLBVfMsur+osus+oFl1X1Fl1X1Fl1fzhZdR9QLJn+qsiX6yyJfrFZE/1l0eT6xXRz9Qro/95XRo+JK6PD8qEbBoPSe+y/q9bbcc1jb8wWbH8yz4+a6SzkV0g/TKNa7TLQmq3aRrBVP8T7JtNb4yUPSW3c3HNY2fMsyP5gs2P5lnxfMs+LmuksXSh8pXSf8A0ys8/TWdJ9JZk301epPILDVfMFlTcZV0f+8rozeJK6PGsqP5QsLB8IW7knMDtU2ONujfSXOqvpr+LPABYar5wsup+osqf6qyZvqrIl+qsiT6pQpz9Uro5+oV0b+8row+crozfmK6NH5rIi5LJi+VZUXyLLj+QLAz5Qg1o4D1+H/azGwaSeCp6nPL/L9RUS5Ud0J62wdbcoZhI3z9HT+g9oyYKb8leymntu/Ue0T/ACgmWDGjyTxk1Yt4XelgXtObMlEY4KkjMcDQds0oijLyoZRLEHdc2AJKpppJal284e89o/8AEuAVey7Gv5KJ2ONrvL+tSSxx+IrptPzXTabmul0/zLpcHzJtTE42B+7JpBFC5yoqfG/Of1KthfDYDiomYY2t69fIbCIalQRCKMN/z3ntDWFclWyMbCWk7yqbdTx9W4Oh/qs9O2YeajpYmje26yIPphZEHyIwQW8AUDA6YngPuAd2FVHPmbC3QaoANaGjht47ZaqOM2AxOXSpt14rDqBQ/wARVufwb3tZ2qiBqPGyFFJJJjlK3CwHUqH5ULivZuJ2N3DaS1o3myzI/nCzYvnCa9j/AAm/dAtJIB/oWZHeweOvVSYIvyqVmFn5+655RFETx4KijIaZDq7bcNBceCo7yVEj9mgJKZUGOVwaL3O4oRzPb7xyGinqmQai5TfaFU89mJT1VRlkOZhuqaOqZASNyjgqCQ6SX9u7CBzPaH46wXtSW72RBU0WVC1qnkyoi5UkxmYSeaqoDMG24Jvs+Aa3VVDTwx7hvKpWYIR59zO/Lhc5ezcTnPedlbM+LDhKjJLGk626h6tTUZI81G7GwOt1XVMDTYuTXseLtN+6q34GbjvUOLLbi2OcGgkoyy1DsDNwU0DWSsa07+KHWmvLUBvAICw+6gq2UmYXG4JtWSAGwlZ1UfDDZRdIv7yyrndgRjVygiEUYb/lOIaLuO5PfLVvwR7mc06ghwYRrzTJpKd4jl057JoWzMtx4FU8joZcp6mPSatrB4W6o9c9W9gSqEXdLJ59YuDWlx4KnaamsxcL3Ti1viNlVzuqHCKMblTwiGIN/wA7ZCKiqDR4WLd3PtSQgNYFRswU7EE9ufWeQ6p6tQ7OqrDmgLADZHMyQkDhsf4HfhRCAXMmqpHfxDgzw91vmqfIbXNxNITnx00fmqaNz35r+tI7BGSqZpN3nj92OYxx3tv1IYy+Z0r/ANgpJGxsLnJsctUcUm5nJBrWCzRYJxsLqqk6Q5jYwUBZrR5bKuAyNxN8QVHBlMJd4j3tZJgh83Knjy4WjrVeMwENCo46mMGzBv4oUo8UrsRVI3HK+S24abKgTYRlKWGdkeN0xvyVNR4Ric43KDQNNmNpJAO/rzNz6zDwbse7AxzlRs3OfzPcyOtE8+SoYGm8pG++7ZU1TGtwt1VJFgZc6nYVIIw1znNCoo97pLa9zK/BG4qjYQwuPHa92FhdZQtE78b3ft1gqxxc5sYTGhrQPvGSJslsXBcNoAGgH6Go95Vxx8B3NQSITzO5Qx5cYb/na4Geo/sZtnlyYiePBUkRa3GdXdZzsLSVSMPbe7V2yqu4tjHHVAWaBy6nSHmqyx4eq4YmubzCayti7LLWQiqH/wAx6bG2Wo3eFu1xA3ldqpfyYEAALDqMrC+bBbq1ZvgjHFMbZoCe7C0lRnE0HZO3o8zXt0KG8A9UnCLqnBkldIfQej7dRLIe9FuG2X39SGfC3XrnbbffqSvwROcqKLsmQ6nr1MmCLdqVSxZcXmdk75mmzGo5+IZwOFMfHazOo65a78KkZ7556uUMzHfY9uNhaon4RhdwWNnzBTuz3sY3fvQFhbq1ryGBo4qBmCMD0GqpMuB3Mqmq3R9kR3uVmVR0jTekfE4d6b2NlFGGfk699U3le2IfugAAAOuY8UlzvtptvswNvuHUmkEcf5VMzCy/PuCAdQjTRFRxsj8I6oU/bqmjl6DvY14s4JkbGeFv64NAJPPuz1ngzzf2t/Q0wxzvcfUeZ2GJ34VEOxfn6H3/AKkXWWdHzWfD866RD86NXGPNdIefDGVk1Eh7brBMYGNsPsIfZllhN0P6lhbyWVEfgWVD8iwt5f8AV54f/KIJ9TAw2vvTJWSDsn1Gq5SxuBvicoKZkbO0Lk6qVggnY9vhOvqNEc6rL+ARVWLwj/3LgPUSY2gf+FQNtBfmdj24sPkfUKrrTFJgHBNN2NPMbK9xEAHzFRtwRMb5frukPNXgZp3YT6sCoEQHoyNVWHFWP/KtZrR5bK3tTwM2vliZ4nK4I3H9VNJlROcqGOzHSHV3dk2a4qi95WOdy9GQqymypwb3xFPLWNxO0AX+o9oe77F9UXiT2gzlsnry52XF/lGCnDbyS3KoQ4McTpfd3AXSy6pymN479rnNY0uKY+eYXHYCmbUQ9szX8kL2bfknOZGLvdZSe0Re0cd1S1OdiBFiFHOyR7mt4bKypdDha0byhfC0nl1K52OSOAfug3C0NHAd3XSYYcI1cqODJi3+I+jXtMdiJ3IqsnfI6No0ITqdhp8vyVK4irjuqx5bTvsoKSB8DefNMo4Wb7XW7uHuwRvdyC9msuZJTsrnPfUsjbwRYC2xF1JNHEN5/AUbHyvzZf8A6hTS5UbnqGmfUe9lduTsmBl7DyWaIo3u+N6oYMuPEfE5XA1U0uKqxEacFM6rLM0nCOShJdFGTyU1cInluWhVTubibDuUOfJO6Rrd6wVTvE8BRxll7vLu5Cvn1vk3+lTvy4iQd6pZXSx3dsfUxtkDD93TxCaItVPRYDifvPBArojxW4/hvdOAcC06FdDYPC5wQpxxeUImDuHtxMe3mFTyGnaWOY7VZs0m6NmHzKNE8EPZJ20Iqs+KQBR00bDc9o+eyWMSx4SmiriGEAOCNJUzS4nmyNOw1DI26N3u2VEmXC5yooS8mQ6KsxPEcY4lAYQByU0LJo7Eb+C6U5sD4TroqePLhaO7qZcqEnidFRxYIrnV22R7ImYnKKqhl0PdGwFyjVPebQsv5otrz8QCZLOyQMl33/U+0CTgYFAzLiDdgbn1G/Qd7JM1m7inRTyAuvZULnFjrn7wv3DWBuK2p2TwibCCdwQAAAG0J8Yf7Qtwv3U9ZPFJbALLpk3/AJdTVEs8zRlGzeCz6qwtAiK53FoTMUURdK65TGPq3uc6+FPoYWROKoM3tX8Hc1pIiUOERNssVt5KaTPOHfC3ZNMZMTIm381TRujis7VEtGp2SytibcpjsTQ636EL+bVeQ2TuwwuKomdku595PMIm+aghv236qqkwMsOKp2YIx38sojF1G/G0O+77NxYrb+6mjEsZaf2TanKgcx3j4KjjwMxu8TlfZUMMkLmjVQVD4WiN0R3I5k/iGFqFgLDuZGB7C0qlkMTzC/8AZOhD/EUAALDRVUmCH8qmiwReZ2TDOnaG8NdlZM0zgckaqpbhdazE+siaN28rpdQJGYm2B7ncBclProxuaLplbE42IsnPYCAXa7ZnYI3FUbexi57K53gj5qNuFgHXcWtFyU+s+Vt1/qEnyKORsrA5uz+dUeTUXBjblRgyvxn9v0EpM02EaJrbAD76fTxPkxkb+rfunEhpIVPmOZdxVdG3Bj+IKF+OFjjsnhzmW4pnTmbrArLnf4yB+ExjWCzVUzZUZ5lUdJb3kmpVY4zPEUYVPSMiHNym97VtaPhR7iUunqMu9gFHBFG3gq1tPhxX7SY+SV8bdtYSSyMcUxuBoGx3va3yHX0F0MdTIb+EIxhsLsI3oPdiO5ez2va11xu2Ufik53UzjI/AOCY2wCqp8MvZ4KnlzYg7itASqaV8mK+ixNva+0kNFynVsQKBuLhSStjLQePUqZMEfmqVjWtuTvKbIx97cFJK2MIVDy/yWfeQNHoOYD8MhC6E0+KQlAACw6wp3yS4pdBsAaDcDenPwsJVLGRikdqe5lpo5HYtChSj5yVVAm7Wx2A4r2fDYF5G2EGSoc88NmipG73v5nry/wAp/wCFREZX77IqQRyPdqmSNdpsqzlSYozvOqonh7L8UTZjj5JtiHvcN50VFGWsN+KrJMESpxI9mEJ7RFUM3/lPMkgJBsAqR5dD2joqiZ732+FYWv3MjUbcuMA8E6Rr58TtAmVUbn4VVyuiG5Njq3txF1kxkkziC7RCjbxcU8Npo+zxQaA3Mk1TWumdfQJsTWm/2UPtSYOezCExuFobtDQ3TaGhosO4fC5ji6Pcmzy/FGnu9y8+SpXsa25PFOmc/cwfunUwMTuapHxxRnEd91JVROYQN91AcDveXsmyx8CqmJ8stuCjbhAXR3yTuc7S6qjhjDG8UW5VGVStAhbsrJsLcI1VNS7gXqRoNawNGirY8cJ8kai8DWA9pQRZbBsrHMy7HVEvBaXNOFRvY9oLdPtM2GpTXMdo77c8ihSRB10AAN2x9NC43smwxt0CLWu1asqMaN6kjMTmHki0ObhKjhfHuxbkEacGXGU44WkqmjNy92pT7YH/AIVHFvLz+2yacM/Kjhc92N6mLGs3t3Kku2c20t/Rx/TJYjM9rfhCgaI6yRg0t1nvbG27juTXNc3E03H3QAGhSVBJwsUUHxO3nZYHVBjW6faYUJxVs561ZGZKc24b1TMwQMH3RIC6MtChpyw/adZUZLMLfGVRVL2z4H37W1zsEb3cgqJhwF5+LY+SJnieAul0xNg/0XH9I0BPJUrOkTPlfojRxmoEv/421bjhbENXlBuEBvIJ+PLdg8SiZCS/pDjiCdCJDeBh3cVAZDEMzXY6ptOIQ399o36dxLKyJmJyje2Rgc3T0wqSejS25L2eB0b99+1z2sbicVADI8zuH/t2Pe2Jhe5CmfWPdK7sjggZaIgO3s5oEOaCEFS3krJHnhsrZGMh7XFUD2Ng7T9SrIvY3xOAXSae9swJkjZLlvUqo3zkMG4DUqGIRRhg9MLBzS06FNzaOQtLbsK6bBzK6Q926OIptO5xxTOv5bApyamqEI8LdUAAABoq1zOjuaTv4KmaW08d1M/BC8+SpIcqLfq7XZW5k9UI/wDClo44Ka/xKeeRlLFh4jVRRUpF5JLlVfRWj3XiVC0tpgee/bZWVlb0xws+QdTmvZ+sxOt9hhjL8Rbv2WB12VTnCB2FUMBb71/icpr1Mojb4G+IqzbWtuQhh+mFVtbLOyFg01VrAAcNkgeY3Bmqip6txIc8gLoTvruXRqhvhnWCtO4uFvTUJ1M4SF8TrX1UbZB43A9cANFgNk8ohiLjrwVFEQDK/wATtoVbJNBcY/EvZsjy4guvf09sn1MTONz5IOnfozCPNNaRq663AXOiaDVz4j/Lb1ZI45BZ4UNJFC/E308cWsbicdyD5qsnCcMaZEyMbh++2V7qqTKj8A1Ka0MaGt09QRzTjJWzWH8tpTWtY0NboNtRK6Z+RF+5UcTYWYW+oVQf4aX8Kijy6Yee/Z+VJO6d2VBpxcooWQts39z6hzjFE4KBwym70+phZ8VyiKiq/sjUbGRNwtHqKaeJxuU2GFmjFf1e4j/oVBT1jIjhaMTka2pG8xCyp6hk7bjXiOtPJlQud/hU0rpYcbh6fTPy4Xv8tyoYBgzHC5KwtcC0jcor09bhGhNkerXkySxwBBoYwMGg61VViBzW4d61APMem9d/tf3UVsmO3yoyBv5TKaNspk1cpaiKLxHem19O5wGie5rG4nHculSP3xxblBUB7HOcLYVSe+qZJzw0T3tY0ucdydUyTg2dgYvZ5lL33cS3qV0L5ZIcLdytYAcvTd7Q9jmHiqdxYMp+o0VhrsfE6OodI5mJpUlOyd7cDC3mqmDMiY0HwqPOAthAUsYigkOpcqaPKga3jqV7UxZUfK6hoIbA3ug1rRZosNrfaGJ5aIkKmf6C6S74oXIVMR8kHB2h9NpI2v1TGPb8Vx1pGYyz5Qd+x7WvbhcNyFOxh3E7XPwNc7koY4MOYxuu3dyCDQNB6bWVu8Iu0g8U1oa0NA3D05mY98ZDTYof6lfihHWfVCw13NpX8d/ar13Jq/jeTV/G8moOrfkCx1n0gsdZ9ILMq/phY6z6YV6wDRqxVnytTel3Fy23p1c9xfzWIfMFjZ84WZH9QLNi+cLOi+oFnQ/UHpzI6pxdi1l/Gni1ZdWdZQujS8ZyujP+u5dE/wDWcuij6r10RnzuXRIvmcuiQ+a6JByK6LB8q6LB8q6NB8idSQOtuQp4B8Hp1f8A6N09TDB4jv5Ie0Ij/wAbl0+H5XKOeKXc0+oj34GOfyChHSart6EpscbBha3crM+UKqiwPilYLb96PqEFXvwwhvzFUtO2OJu7fssj5/p3uaxpc5Goq5LuYOyqebOZ/cNfSoKr97VRxjgFhribXsujTnxVC6GOMrihuAGwFpJAO/8AS10uOdkI5oANAaBuRGRWDk7vKuYxR7tVSSzSXxjuHEN1Nu/c9jXBpO890XNGpVx/VT9jFwY1zjwVGC90k7uOnUFjex2VsUkb85hTJq6wOWHKStnaQ3KsULlrSRwVtri1rcTjYK7C0Oxblu1Cc5rNXWQIcLg7u5c7Cxx8lHilrGkc0VWb8nndbjx7oKT3tYBwCAt1wq8ufKGBRgiJgPLvpnY61iPcVFRh7DdUykc/fI5R4oZ8vgfvuqxOa2MfEVhDGho0G2ZzmwPLdV7MktJLicnVELNXhPkdU9hjezzTBhDWjgme+r3Hg1VFVhflxi7lUGuYA8u/wqebOiDuPHZ7TnJdljgmQS9GcXk2aNwUFUW07WN3vuuiExvkmdc2Xs//AG//ANu5rn2iw81T0wjaw8dkuENLz8I3KgL3TyG+7ZHKyS+HgnnCwuPBQyZrMVtr54Y9znb0yRkjbtOyV+XE5ypGbjIdTtfNGw2J3ob+pewJVO3Mme89+IGCTHx7hxwsJ5KjAkc+Q89j/eVjbfCj3Gia9r/CfvGwvfqvoYHm+iZSU7D4b/nZpv8AJezx2ZH83KUOgqs612ldJp3DVU0eXFbmbpzgxpceCgYKioMhHZCqrmBwaFSUrYRiPiVVIGU7yeKoR/DDzPc1spfUNawXwpr65w8ICY6oxdsCyrsXRjZezW2hceZVU/BC7zVDHhiv8yrZQ2PBzUbnsiy49VSvlFS5jzwVVUZYwN8RUVDi7cpuSoMmFhGMDes6H5wqyobIWsZvCgkebNy7BblLVzPeWwhMe6OoGaNdktZDHu1KHtBh+AqN4e24VW/BF+VTMwRDz2S178Vo2XUFZmuwObY93WymKLdqqCV0kJLuae9rGFxQrmFl7b+SdVytAc5m5Gtb8IuoZxLw37a+fAzAOK9mNOQfyp6jB2W73FU8WAXPiPc1koZH+VQROY0uJ14fo7j7m5qNmCMNX5QjiHwDZNHmx4bqNjYmYG6ba6F8zWYeGqiZlxtZy7h78EbncgqKPcZTq7bO0vhc0aqF9QxojESmEj6iNj3fsgALBVkUssosNyhibG23HmqcXq5XFM31rsWytpcHbbooujdHLsOioYAGmQjXZUG0DlRNaIQ7iVXQh3avZOlkZSNUFPGGgkXKkZCGE4VSi0X7qoOZOyPls4FdIyi9uG5uqaOV8wlPd1WZVS4WaKmhyYQ1VczpJMDVT0jIwLjeq+YG0QVPA2GLfrZUnalkfw2Fwa0uPBGOSeQvINk3pDm4GNwhNiig3udv5o1UN9dtxzCuOaL2DUhNcHC42ytz6i3ALT9FVyYISvZ1zG4n74qGufFhCAs0Dl1LrLPS8w6W6ga0OLhqVJBHIb6FNbhaAntxsLeabA7PyhzQFgAOGxzQ9paeKZSzxnsSbkIN93m5UsbZY8BTY6qLcDcLKe43eVuAVMMckknnsnmLvdR68V/pzMOva5pr5Kc4JPDz7qpkP8tupUMQiapASwgaqnpxH2jvcjoVBS4X45N5VU8n3beKiYI2Bo2VDjI8RN/dNaGCwU8+U3+4qOndJ25VWxhuVh5q3ZGwQ46hwJXRI/mKniGcyNqawMaBsqZRHGd+9U8kUbLk7yukOf4GIadd9XgeWuamVET/AIlcc+uF7QfjkDAoI8uMDvR984WBxcBvPcyhxZYKNgYwNCqpSPdt1KghETP7imytaLPNlVzNlAjZvTBaNo8u5wi97b+tYXvsmfhZu1KgiwC51Ox7h0v3mg0Rmj5rDidmv8I0Tc2okLgbNCJwN3lU4u50h4qR+BhcqVlyZHale0MwWe0qmjlmjDzKVlOmmw4iQEKWJtluGg7ipLGxOJG9U1G10eJ3FVUIhbucd6gFoWfhOc1jbuT6iV/8pqpppHSFj9dpcGtJKpWZkzpD3w9A723qn95M+Q7HMa/UIRxt0b+isNrmMf4moRRjRqkZjjc1RCoiGEMWW9/jQ3BVAMkjY+CAAACkYJGFpQkdT44hz3Kmiy2b9T1p5HxgYW3U1S5kINrEqB5kja7Yf4iT+0JotuVR72qa3kgNAquR8k2Fo0TekFuFrMKjhbBiked6M085tGLBZdYztYlNWY4cNt6p48EY2OrA2UMtx2E2Q3rcBvUlZE1Q1TJXYR+pP3hwIVOzLaR+u47XU8Zkx8e49otJa0qGohEbRfQKSUzdlmiijDGAK9gTyVIC+R8p2PD4Ji+12lRzNfoq195GMvuTTFG0WIRmkl7MYWQ3pDGctdksohZiKjp3yyZp0ugvaEnhYFTgiJgPJSySTPLG7go6OK3a3qOINrOzoEbDUp8rGC91N7Q4MVG+Z7u1p6X7iLFdHh+QJrWtG4bJ75RtxULMEYG008ZOlk+kY/UlMpY2+aaA3QKmGKSSQ7K8E4OSZUx4bWRmdgJaFSx50hkeqqUxx7lTMtGDxKOiZGGqqw5BuooHyjXco6KJuoTWNbp6Znf13b2kJjcLbbcLPlCn/kSW5KlAELVVsxxfhQTAtA2198oKBzMpltuIaf10egTG4BYbMqP5UBseA5uErodvC+yEM4+NZT+L02MD/oB2Vxz+wx3w+4ppRFEXlQTCeLHa36J7msbicdydU1E+6JtgoM2Ksaxx1+wx9xkhrS46BRyxSi7HKyt3XtR/u2sVLHl07B+/6EkNaXFWfWS3+AJuCJm4aKCBzpjO/wDbqZjMeC+/+vj7jc3GxzeYVPBepdHiIXQ3DScqpZLBHizyqMvMN3m99llJVQR6uUVbDM7CNx6gUn8RXYeA/wD5smqIoS0POvfhVL3TyiJmg1TGCNgaOrcNBJ4KnlL6/wDf0fG0Igf6i23Lfs9pdoxRhNbhaG8ggpa2bFhvucoaWma273AlSMjNZHkojbUTiFn9yoGbnyniUFWF09TYc0wYWMbyCqqnIaN1yVG7Mja/mpJY4hd7l0+m80CCARptc5rBdxsm1dO52HF1aubKi3eI6Kjhy47nxO61fNlx4ea9m00mZmuHchSVVqlsQ9CB3p8Drcl7Ox45rm42Pe2JtyVTMPalfq7RBM99XOPBmxqbSGonkbe2FN9mMGshTWQU0ZdZZtXVOODstT6CYC5nVE+ZodHrv3KtYI2Aavco2YImM8kFEejTvEjddCjVRAXF3KNnS5zIfAFWVGSwNZqVDR/HMblGnpzuywomZbMPDZUPy4S4HfwUUgqZffSfsqttPdgh1TQQxo8toX+4q/7W9f8A3FTfg3unHCxzuQVI3NqHSHh1Z5MqJzlRSuliJdz7keg2oI5hNzaKQjDiaV0qWT+XCmU2/HK7EdjnYWPdyCoGWjc86uO2WGVkudDx1CbUg7nsLSpWsniLLqKnqouyJBZdGBN5HlyaANwFk8Z9b5MR2bjqE8e6eAOCo24adqq7CsiLvD1faf8ALjHMpvsnnIoqSGLTeepI7DE93kqBtoS/iT1qt+CHzKposEXmdlk+ZjHhh169c/sCMcVDGI4w3q+0nk4YmqnjyoWt64ljc6wdv9Cbq+2RuNjm800BrQ0cB3F1Tx4A4nVx60sTJW2cm00jPDMbJoIG87amHPiw8Roo6maLsSxndxQqmO4FA321X+2kVL/to+sff1P9rFVTZTQGjedF0Kpl7RkVLKYTK17tFTxGeTOfpwVXPlMtxKFXua1oxOTJ5c7BIjVxZoYP87NBcqWZz6r3bcVlDUlz8EjbO6jnCNpcVTMM0zpnacOva4IT2vgkxeaa4OaCOOw1o6Q2NouPSVzcTHN5hUj8GKF+o6s78MLiFTMwR+ZVXHI4sez4U2WZ4tl2UkJfUYB+67LG+QCOKrqf7VFFHENwRZJPUm2idE01McbR4ddldUPLsDdFSU4hjHzHVVts+G2qlrLHCxlyjNXWuGWVNW4riXcQpps92U0cV7umhF072m6/Yj3KnrhLfE21lFO2a+Hh1ZYxNG5vFULy1xhdwVXPhblt8RUFKGBp49Wc4YXlUu+Fp2NqXOqcvhse7AwuUftJzpcLhuXDqlzQQCd59FZImSajfzTGYfiPUmbjDW+e26DAHl/NOaHNI5qKJkTbN2aXsN6giy7k+IoIU5FTikO5S1MUY8VzyUML5nmaTdyUcdRC93YxXV53cLLIZBilfvcdFSRWvI7Uqs7dQ2Mnsq0EbLWCcHYnWFsRVPEIowP89UGz1XtEZE7dVQgSXmdvPWkbjjc1U84huyRSVmJpEY/dULPFIeOyePNiLLqL2Y5sgc86dUKvLhUC3MIaBT1bYrAbyhv2vmjY4NLt57uSsYJgz0Uc1rxZybTwtN8PUczNl3+FuyWCOXxJlPE3zTBnVRd8LetLwPJGLOk7fhHBNiME3Z8LtsjxHGXKle97SXbXMY/xNVbhZDhaLXUDMELApHiKMvKpKrPaefWCrosTMQ1CZWAU+/xaKnpw5mN+p2hVLTPU2amNwsa1Svy4y5U82cy+y4PVq5cqLzKkhy8onUlDQf08fdjr4So4xG2w62vUCrLvdHEP3QAaA0cNhnJdaNt/NDgpffVYbwbs9ou3BvkvZeLNJ4dfdY30Ti3PBw9i6FrDY+tsbMZdGtkw74rKmle1735ZN02oJ/4yq15dgbzUUQjZuVWbQlUQdk7+oFKc6ra3gF7RIGUhoE5zWjebfrpJWx6lCpidoUHtPHvh97hYW4sXHZJ/Kf8AhUTgYzzU8giiLlRxkNMh1dsrg6eezAqOmMPi5depeXkQs/dS0zej4QN4VM68TfLZHE1hPmq53YDOaiZgjA2VcD3PbIzgmSVR3YFLjknbGSgLbh1NAT5Kj7Uj3r2jvlYENB+F7TdoFSHFTxlOna2XLU1UyLdZCthK6VDbVNeHi40/UVMBkdcFNpGcl0VvMrorr7nLNd0jBfvB994X0z3Frbgq0tVIMQswLTds/brvLsPZ1UUQj/OwMDdNuUZKjGfCNNmIA67HOwtJVI3E98h2eabIx3hN9kzsMLyqD+ST5owMMuMoKVmdVFpKijEbA0aBE5tb+FJFHJ4mptNAPgVc1jAGtG8qJuCNoQ2VUrogwhMN2gqWZsQGJAhwuNmazHg49057W6lNe12mwyMBtdYhz6oUHbqnnvAh99n9DNJlRlypo7tzHanZXP3NjHFRMwMDdldJgjDeaoKcxtLnanZWm0CphhhaNgQ7Na66mqS4ER/5VA3e960uh7Q7RGBGXOqmX2he0f5bVD4G/he0fgUYsxo8kFfBWG6G9S1GCUM2T1AiHmoKl8kmF22abLRf7rGhDLO+7tzVD2KosGmyWnxSXXRBwKc4tmYwHj1HbmP/AAqHWU96PQyutlt38VGLRtT3iNhcVTh0shld+2zTemwOkkzJf2G32gf5bVoBtmpmSuuU+NsVM/CqRuGIeex8ULQ6TDvsqSEPu8800KeYtmYxqC9o73RsTRYAKv3yxNQ2VMGbYt8SjnlZuczejeaqCCrGnNvbsqj7cxdwA21+63mmD3TQeSkkbAxUkZ7UrtTtCh7VU47Qql2GByoR7n8nvAUEPQurjzIfwoKiPL7RtZSPfVvDW+AJrQxoaOtWG9VEEeo9oe0tQaAABsqAXQkBRMwMATVC3Nq3O4BBWzKxx+XZUdqtjC5qKd5qcBOuyRwEbj5Kibcufsqpsz3UahiEUYb/AJ21vanjYnnCy9tFizZryaIEW3bZDaJ58lQt8bvPqe0HWiA5qnbhhYO8CCHoY6lgJvZNYGCw6wVRTzSTXag2tbxUrqns4m6KnlzG6Wt1gnXy3W5KkZgj/KCaxrb2GuwR++dIpXYInFUMesp14bK11oPyqdmCJoVTnnssUME0RvbehLJxYsZwk2VPUOle8ckO3Vl3y7HxNkbooy6OXLdtrDanKpBaEbQq0452MWgHeBBBD0W072dmZHhTGhrQ3lsmjzMPl1ahwbA5UDbNc7mpOy8HmmkEJ0scepTC6epzOA2+0HbmtTBZjR5bQo/eVZdy70IIIIelUlM953u3JjMIsnNDhYo03IlCjbxN01oaNw2BVHvKxrfPqPNonnyVC25kf3oV0CgUPTBzw3VGrjCgBdUmS3Urn4YLc1SNwwN70bAgUCr+l5F1lM+VWHU9pHwBM3MaPLvQgroIFAq6urq6v6UlYyOCzxyKz2IPbzWJvPZ7QPvGIaDvQhsuroFXV1dXV1dX9KbBGJh4I0zE6l5ORjqGaOUpe+Rl9bpug78FXV1dXV1dXV1fbdX9Kyxmtupw7y6urq6urrErrErq6urq/p5dXV1dXV1dXV1dXV1f1Aurq6urq6ugVdAobB6Fj+q3V1fYCgUDsHqDdXQKCBQKCHqGEEEEEEPUMIIFBBD1ECCCCGweoQQQQQ2D1CCCCCGweoYQQQQQQ70+moQQQQQQ9Qggggggh6hhBBBBD1DCCCCCHqGEEEEEPUMIIJqCHqGEEEEEPUMIIIIIIeoQQQQQQ9Qwgggggh6hBBBBBBD1CCCCaggh6hhBBNQQ/W8fSYIIIIIeoQQQQQQQQ/Rjv+P28esP1XHv/wD/xAArEAABAgYCAwACAQUBAQAAAAABABEQICEwMUFAUVBhcYGRYKGxwdHx8OH/2gAIAQEAAT8hlfzZiIjiPA8LXkhfPgxwtoo/wAXxMeEPBFDwDRPFEpRsngb/AIcIN4MITjjlE8QzmDQPCHGFgyGIuG2ZhyxcHIaU8AmAu7un+ZhbnEjSmQXxDcgvE2RxD4IyNP3yhjwo4bTsteEPG3MfKmcXxyd2n4ZlNoQERYMBAc/XiBIeOIi6LRMgzdMBwTyR4oXSjaafF42hEz98bdpuGOcfBiY2j4fXBEwk3xwuo75Z4O+cPEC8OduURfxJ8LuB4wiZR48wrAWTyB4EcxuWIasCyL45h4IifBHwzRPg2sCJ445Wk0w4g8fu7XhG6Oc1luUE0TwWs7gLrcPXihMeIeKLgxAzC3vgDhC8LQ4nSFgyNde7qzuB4w47cAWRwnHihxR58zjibsniBDyYRnFzfIPgzIIVsvILTXAjOYi/rw7SmTu2YiAlEG4hsBb8AEfEi2Jm4xkF8T6uiwFtC2AjzTxBMYi+bhnNgSHwdLDeDxyT/AjwdSCQ+DflatvwBIICTfBe0fGmU8wR3MOXvlG+JDbPin4J5ZiYGffBMBMc2zbaI5XXDE+4C01wwKHIF0XijNqO4GUWty6nA4YsCV08w444hiOBuXUjWRO3JM9ZDxBFruoCB5RPhzN14F0Fr+CtOLplMTYeUQGEfFi4IhASWHg2QtCcc02RYEosdRzILwlHgRIOTWVd+Pu4PJsib4tmwLp4oub4guaTyujyqxHEFk8c55AkMggOQBIJtXROEZGsmY3GgULRQkfnDjGAsGQQNhoY/khQ4RiJTwHv74LWTMfBmJ8W3FE+rLrV/UrcETVtalfjm6LYtGwIbQsDhmwbGrRsalENWzxxZ1NuTqbUjeECxSYXG4w5Yk1KbYsG6PHHitEQNwTNZM5nHkXkETZKF0YgYb4huGD3hIeI8hzEwF4eAaZrQkHkRe3eblHgk2TmAiLG758uIBHgFCQWD5kxOrJlNs3ekYi+IiTcwFseCPJKa0EPHBMjwQtzmZ5N2QharIeOeDu0b4tvHcD4nXBEDxxA2RKZRI0hQ4AgOYBab+BnjCTc7yOntkWhu2BNu43jjyChE5iJdTHwpsHli6LWpD5RqOqNkHilDmjliUwPGPiDY1yhwAiQcwCLgGhbScPoymTcBK8DAI8bco5IsCBsnwBumDeHExnE46tsKASC6Fg9LKAgYiUxOeC9omYIc8eS1d9cHSbgnhn3OHZA0wWI0CC4QOm9oILcmCLMcfqaAg04gLe7ItiU8oeCHDNoT65W+J34aBEBX2LBGYRAJARUUdpVQWAxlkQ+hTk4IhMGBtoyDBKeHQZ9r/SHe+iDTj0TTvtFh2ARhVEMkMiKwGZC1RICoRnljwL+DExlFvdzqUzNAcwR7gbCs8hDppClFh9Tcgd9iAFdK9VIEbdgkhdWc6d7KiVgalFTih5sxGAGcjVAC539RzTnB0Ahhr2n4thTwTAs6GYF+DUlGHneiMB4DQmqPZXpATUIJtYD4l0jbHEKHEaQocDUwR4BlFs2W8IIOTuulh5BQABHAYm/CKNXC0cdeoVAg9Vkc6amYpRtVOVuqBSw31LJFxKOsAKAGQIpUpVMAGCNrxqmYcANEg36SgIAdJ5CtIXKGFEsyAdECqjMDoc0eO1wDwavAZgIGJxwxQ8Aa5Cmuyck6JdN35xBQCAnKdDCCMmwoGtBsI6iSNdbKJUrPyg0jOgFkD3T3K1nQOWC3CDVkASwCW/WkAJrUnEsAop8WO4iQSDnjlNfMxvDkhNYPAKF8QcraEBHTXTkSU6eAgFtMLsba9jpCyWa4CZ5RcdOn5w5jLqAlblC4ICRkOVqP5iLGoPOYMKp3BV7AyEUR6PwjlDLgVKZmGgGg0uvDtbHDNowEpRtCyIFHgiUWRwTKU67mAiyBpAIQaJhuZ4Y0NPWBQM48gLIvPMZzc1bMGviUcncxtk0KEAhmU44Bm3aPKPgRMYiQo2AhzhKLwtlMggFUUyYpkExTSmBwggEAgIYTQKZMmPUGVO0egiPKgFySmlEBbHF35QSGDTC0VqcWTFphA8Z4AobTRHBM/lCseCj8sVUb+0wohwrMbTwYQRt7VsJIAUUF1TFpwLOlDhFK6ggQ6aLWMSJzK+9CD3UN0A8KrGYn8r/AMCtT8w8cXhxzYMokFsTDiHkuRJTkYOnTxewE8CitrdgRYohsoWBaHAEp4o4R4wQQtCd5z48SiIg8pjDsBEOUHoIjQ4wX8I6vyoQsqWlwsYA+k7cqUADyouC+UOGEPDHi9JosYGVU0GhROO0euiPRVFMaRH6XXQoOwnrKCdUaCCQiknsiqysbUgKuUBqGIhupCwEwEOQPLmPXimnCHBPABNE/wDUCJ8p7hhgv7azP+JbKSiZDX/rr3/sh/2r1F6iAIHYIX4QAGhIYPYfw4zZER4Xa3daIgLAmPPCaYTvLqOpTF+BqV0JxwTxA4ZvCB4TTCcWGTNzRxReFgQHNMpvjwDcMzGxqBQQkOpxaEN8vNgQE5lCNkSCd/IamPI3zRMbJlacWxxQntDhiJg3N7st4IWzyTZEp5QlacTCUcY+cPHOLGrYmpKEUb4unlasNJtb8SeAbg4LSCXfCNg8k8McUIWcWTHdwQEgjqbXOPFHkTxRzdw1JvgC6LWk8dQCPCYOm0zaIXxMUE7jk4WSZ+k5xhkeTMwsDHHM2rB52xwdTi0OJgqSOpYFRsyFCdrYVL2JixRiBjkt4M8IWKSCB/gukJwtIWGgcxeBgYGQREwX+5Z2jWP4mEFIarITEWqBV5K/gT2xUD9KYHde37AeP3ELhXs/pez+l/4CGA63SCHC1AzGAujiCyEcITajvkBbgtT6ikq9SVkEA2NRNBluAQC0ArOSmMw/sWg9BdazCFh6kAQILBY1aDeTqAsCHWyg/qoE+pCmOjxQ45nCNsWChAqoQ0hAzBVEygQaFATwpQ4fqAqnRegIulVsqhqE1EAmBycBO+DJj1ZEXBfSpDFQKfUbtA+EAABgBRAQAQypbpVucky2nwMPaB/96p/50MJaBGGpgKIIAkZCMxlPBaGkEPZT1cdTBPHaVU5q4I8gYbnEN3QsIWNzhGWapGLHEgHKMhJIct+YOChgNoRs64ngGuggYAhdQugtRPiBBmMoC4dX2UbGNsVFuQoSVEKsa/xRjpALJOT+oG4yUPY6QdsI6f2WYK8dYE3WrUigjhCIQVQmpRA8zYgyWXQP6qoNDKQIQ2ALsLCRxJpZH0wGFowaLlnzloYGgmWHaiaSZCYD5IEEaEAAIC/rj6vGduT1xTxj+FjgqLRPpPniRd4IHxXb2i9oCqoCaowUV1oDwgLh0/FEAdv0UdTHQYFgJKo0HT77YJCgsCgOnrwcQRwgsrj+1kKckqpjtHO7E+kgiIfnqTSIYmqCqMzs/smZgNSZQCCCIHEvowMtE9RTREN5wTjyXYQt4tFyDlXqD27VEAUURRuxKEMmiOcUReFsyi2ONuIvjiGIQARVbWMUTlPtAzwo+Xz2gf1fZCIwEEx4CGbRByiEMgHgBpje96NgQwEE9gdC7mNTERrFE5TVzsVSSCvpB6xAijXFdqsl4BB7c2QlkAdCiozMEzfcgwAA0hlNBGeissYuvVa1skOyUdkc0b22UFkAFQ4/SZKY+khl+H0WYI4bTFOZGbghQzMNRMKkQr6gK0IjjGwP4fpUKyT0AYjgl+E9gThfniUUZnQjCAd1n6gEDA//AERygu8VEMe2lCc/QQ+0Q+tyDF4BogKpoZKP1ghrXtQvEOgmzAAJ1IwCJGAqv2gIbAUjgEnQdakHEp9wTr1eF6vRSO0EHK2oRgJsSgKWAFhGcsjLuWs486Lm/EiAo56DpyARMYEA5kAHYBWsAE8Gl0BiYHDFYogmYKyA3zUTQerScx/TCbn7ymTsRT5vThECQN1IAEUT5zcpI5VqHvIJioYJupRpyyTX0iJdYgUOWUOW3HMBYFtuGJTYdA6Ango6hQFcY+oSNL6E7QEBAg3Gohh+hXQtIcmsLQDThAdmCJIJ8goDAsRCOifRVWK1zhb8WZdBjQ9zD9iTYvDyw4xQ8XWsCwYE55RiDArlYESrMEgqGAL4o59ImlEyDx++KOILDQHNPG1KEeCShWaj/bInc71wTBdkDARPBPiBJS0LmuQcXDBrzoAdoHyIAcrtavQXrLFP8QsP4KEP6rI8aJAtzGISiQhCyEyHKKHKLitQoSJz4YykuRRzgQEcEA4H9QcyDz4gJjmG+IbBgVqQSFCIlHDawYtIOK3HaB5YuDkjhavi0EImyJ2tCXX8PPhhMIHwJnCETERExtjhH+IvxnjuUcNpN8TEpMRd3wdX2Q8AOGeeOKOIHIaAtj+ED+DCUTgWNIcXYgJCULI5Ytla8cOMPIGwOCDlHNcMp6OdyCUWRxmvHlCcQExnF0cocARCCFkTi0LQX0w9IDYzxVBWmCNgcAx1xBxTxBIYtMLo5wiJuphyjAWQwqcBO4HPSBobYyDgB0BIJd2RxzLvhmyLpQvG23mzxWiM1keizCfgcOJ11aH8b3KJRMOAJxESG8eM1gBC4x29uvUIYBSkYDUwRZC8ZQEQVYaFHNgQBOQOyj4s8tuK3lzNiQvkhAAGgQEJnKAdGQAglAMXgYiAiBLVMUyEplGU6YLZIp8tgO6C9LcieWZRxyJxJqDSHxw5wkOoRC7T6fgyBKgygh30AZEVKxfcsVOjPWU+I+iYNMDssyAGEtos1SAsboVCWnspscCaJilWOm4AQT17r2T4Wf44HXpImAqQeIqt8SUD0QTMhATBNWSZlXA7eEeW0QtfwYWijwHnGYQcKE/aohUPB9oQhgsjLkaftPvnUhlH8n2icaIIoSsNtK2iJYIIvRZiCGgAKmp9KGgMAnuQYRl27AWNFKNlARmufxAMNah3kX0Qn6eudoq+0W2jlizJKbYPY4C/tnVQge5tRFH/AMPHAaJlHCOxmiYlWDjTnd6nY4IuC8L4sNARPBFg8aHI+oL6AfqmCg2RTUQtX0J1+AdBZP5Rjcwh8NE/VdE/BgNVD3TYlC2+Yqsu1HR8ZvaAxbgoWHHQQinqCJ6Qd8aBbqdH2hCf+IBBD4Bkde4LTyWLu4hzATsmXyoQohbimTFGBaBAsZ6KzDU5HEYBFP2iq6XoXSEyZZxxiG4g+iTsCelWcmQWToy6I2zFnAQcMWNOGeKbxi8ROIG4b5g8wndEpdpynRsnOuSYBDII7doCLACi3DMJkBQ4r1MIBGZ9VU3eiicKq/Qx7QKF6T0RgQcGo2t8erzCIy2zVDQdQiAFgAgdB1lbdB0oA7DplYD4hnQdBYOOMWxOOfaihbTSYM2ss0fcuAjlmKtU/ZlD7FZmsvMgjNjiNMOCELpxwG4onFkFlXgI7ziI1KtV7Rz2gkIX3jVPTr46k4R9EDAL0doAwMBYC2vLtlzRis3SEhsC+1QhCOapKZAISf0IaWRI6IaXWZbWxgLKpsAjIJCTwAEbcfKGCz9oOAHCPxVNkWTeGMySYnpCIjRSCCHeAIOVFl+eoIIAkdBqSgRXh0VAw/UwsYWrPKAM6gR4UyDmG2eNvggqvOhMQnImyNyoCcHbn9JpcxUbICIZmwYQgpQRowiN8/KpI0qJw0+ALHcNULOPYV14mU4Rka8HDEeyizZYKMsrCCsBukF9kiCH0EKlUkiIBOCFgKp1RC0NCZuxNFReI0Q38TAMoGseSAIyO6VUeT6RPpAsKgMKgYdCDwGCCxkdoQzUOFvAQZMsdkmFkHAP2VYGqHHBCghqnfE3xBESHjbW5Hk1EWTmJ8TTaqWk6Tp/toCAwGIBPAYK+VgJ+tIuBBZK9VhNAsuQOwJ0HAXfOFHW7SKCwFUhFPUfSI6zOASIIQQGRUtH2jRYDhA60E+0IhezOqenSA/QhTs5dUoGpQbRByU05lkb/JHhyENgDWiC9c7Q9YJxHUgusdIR3IVBEj5iDzCE7IVLKc45VAVHClvBVPYHEE5iEJ9oTiQT4QvMSmQxMDLu9vgDgaud4coI7Qi9MZ4EOCJLAlJDVkLBJ9CKQwQUabfRVvAJRJ2qmcCvnsMjMgGqMAZQuzWqGMExAgEAMdUMAZZEIh3qgw0AqrVL+0S9xAnIM1otTgAQhtnMGk2TgIpYOEQH/TwW5ReFoo8IIgAgA9oKWi2eAeDqAsNIOGeVQg4CiVrptAyBRedcH25goEOAINGrPwjUFCFQD9VQntP6TJDAogEwQGPdDboAbCp6X61hCIeOiaOdDdEpQtDwwXgjupXJ7nBync5kBAE3dHjDyxF5haIcEEUKbAoAjAbntBBSaRBZD5INEDgjhBCYcEz7slNELMLq0BotEY5IDvWc+EHmAJNWDiMSjYku6HCMg4Y1MZBa3a6tBPuA/Sej9NJqx1B8sbpoLAAikpsQ7kFjdpkPInwxQ8WMRf1wHBnQlZugcJ+rN/UETWBn+vKEO6F8EomqRMEqgGJDX/xQQqsHKMmRDI4iZayPwsqT+ICB8IZBOZtoQECije7sPDUphqIhskFcMmIbMAFRpYFZRSKAI2KAon9EWZwRRZrUZ6ymmRr0qRAaQdBP72icYcQolwCyEdt6STx/drfhj4AcYymwOIJeuGbJsHEAYoyqOyEC/wBhlmB7K+ZzVaYUGkDlGgUAlRQBDVBwQqzZNHmgflNPtIGycbTYD/4Rfk8VRsCo36IcfeXKAI/qRTZMwNCSTk6yfEjzgsi8ELYkEo4JiIO4YgEe00XAfwnKK6QNGZYpkKqm/snRAYHDunTLnJohpq4n0FscOgkBsgMJwsHoOrCZjQMIZqYynwurWHZTv1EkIXQibZlEBbErXB4HXOHECxEWN8ALcN8EmKHL1igX6CVzCnEIfHZ7K9fz8iSaQzn8VE+J46s684Lo8KLgmEDAw3facTiQSGZQviSqi7EqShJR2AVK+Dv2j6xJXRRc9i0OMP5AZxYKKpaa6eGAitsCoER/aFhX7ZTkpv0nGV/sh5MHjB448A+JETDUBd3yQmhywEXnZQAjQAEDFosUF9PfBHA1IZRyT4oWzMeALJ5pEolEQjBnK+8m6FACSYDcKS3G/YjMZit8Qc0wPEEosnkjkakPGE5zKLJQiLfAMGWb9IKkEf5FRiGz2ukfAi4PEGI8xuYooJk1sR1e3AR6sNII+I44n91TjYOU1eSLwgZTxzeEg8ObAtniDMNwOIbi8ptCzu/qtavb8EIG+fLiBtjh78IJzd3fJqieOfJmBnEHuBGGuHoWRdNsXBN0jKJghfHiDPuA8YdTajpBM8Bd1GqIaIQhoh+CULvlBZgXb7KEZ98oSDxQ8qbJvbtCYXe/B/UXYZ1RBG5Fk/8AUlkVuDILtNr+ULWgwTIiiCMKiBVQIB9lk2N8MeJ3dNkWDePnhcm0DouiYjrZ6BHvULj0qd8wTqSR7VOgFXFkNlOwpVCEgtENdgX0mO0EwMZMlSEMlMAYBpmuiwLIuHwpsCbXBER4M2TAoSm4HzBYFF/IIBJAB+0DWAYx5+YZF/M7aZhCZkXpdN+Su2H9RUAZVIMsxbCaP9EABtVX2wuyQAaBZl/pYoI5Z15t0bx8AfCmzuIMAa97RBvyFtOnMHqjjHY+kSqgCDhp9OhARQOxH0FydOiDFf1IlQHnOoPzRaPin5AgLgTukSTQZMUyZCUeJUFNAsEot7iJChlDmv4DSMDwT4MX+r4gJgtyBNEz+qEgBIhD7vqYwoR0UYEOq+awnqorRuSQrBtaOYCgUJAmo6qOTAWDYE2+MObriC0ZBIOWLYkPH7lEAhiUxTdpq5RBTewnbY/aZ1/a/wC8iDP7Uf8A7K/7a/6MApkYMdQ3KeMZdmJ8NrgiyZBxhMZBAcPcTMUZRIJAGB1Feh/C0l8CBP7NfITU16/sXtfyv+wv/Mr/AKy979qiyAKGMIQaigAAAYApE8ETb4Ri9kcFpja1bEh1IOIeKOGOAE6Z0820JDOOELj8k+HPINsJuCZytIWTZEhlMRxyhHUDq4IFCyIjhiB4I3eMDB0LL39TBDkHEBdPB7hpC4Jjx25OpNQEDxxiwYGI8eIGAjtd8MTb4AQDlUR7qXTPa7QI9l9Gc8MREDI3IF8QPBMhQ5erp47copkZwHlbWahAQABE3+hDpEFgWUBxGTFGl8WDqAgJBwNccxCHKMptC9qffJNkqlNojYqHJ+pi6cgcMDiYw2LAmCK1QBU5wWeDYHGN82BDV4QNjcBygitza8Rqd74gAoAHaIja2j8II4AEegQQUJDITVTYRtiBkAqnWUY6GwHRCJHvRDW+weEIFttzgIM4ogtymbpUlkBYPCBKgvA8V4jlkghHXC3xDO6eLw6TpzF06dPHUcFYOs4Rt8ImADrABY6TImpyU8gBGU3IfSJgBNQTuonTA2g0p4yg4Ajg7QpxI3EUFgBnSMcxms0LmpfABa0CepQgwgFqQEWHGFkAF0MpujRCygJQKpzlU2TkQRknEjILAkKESjwTJqIQmMmlqQ+C1HtdQyEE0DlBNBpmTRaP0/fFpORcg6otBjo9r+1ZC3IfU10IMgdK/wCFHAm0dPSU9YKIE8+n9yYmK1fgJgnQHZbpPf8AcwgFQ+VBnSv5gAaqg8R3VGJ0FUd3VQdUIDNlWTJnVPY6KtMIBIdURoWgQbRAAdSM6gLRIGiMDZEBlFBbOjP6zKuI1Ccko2ZJlYJAEnCAOAi7tGGrB4RkCNzrhFCButZ3IJgqBle0Yg0YrJZelsAgYAAAAekMuiME5U6X9rTyK3GIYhf6Aq8l/ZQP8JoyC6pj9LQYYflN+8MulVOg8CgADBe0CAdthYDuqd3KvfkMY81LuJRoD5k/U+HdyNmVAAkaSfPYB03VRdCA1ZO82GVRU4CpgRtGl99XTA1GFsHUFqhDW5OrZJe91FezhBG2DNEP0ntu82JE4cjJGV+JqkmKJlUAOacMAyIMnfICBKRQ0JodIRT+9stPaelFvhFqJzBeU2hyRETiJsGyJnTp4mLxF/IA7DIQnRKoQwAjoos4GfkAFNlUMYCEAzgVC9PICeMYG1v6IkwL76LH52U/gJyGAgABQBkEzYVQ1lsh8oC+eJZ1v0i1BLqp7LBvtViZ0g5UNAdDSQkNIQE1NHT6QGU2uCifZDhMFVMBQaRD/NARwuKoWDMYhCAkHZwFSalAJn6gPvZNNFRYNXT0AZCUMHakCJ1PQh+xoY2PcmYVkldQ/wCsh01Xwk4BxAJjesAAANT6lMRiPspBT7HrS2bwiVqY3xOLe5RwHuvOItYKspIdCH6SA3Qfg6CnTwD92IbN+0IDgT9QSWiMIhbJAxoGhitBFFB6GU0WUevSoH1oAvw0KrQCfEZYEB2iJqll0gUXWGwVYXIew6Z/XQYBlqlE9qRc1TaM0MtRGMZLHmzX5YEyIv8ASEVNwFcATKQudJvCgZ8EE7eNoISXg9oAWDJlu4FIP2+YrdpzHzMFhQByscCdwEDEQBHL9sgj+qzGJgZxvHmgT7l0tzDFzfgjEmR0BAjIZHi8CPOYQA0JzjYKlVQQQVXvlGJ5DDZDv8ybUB+4E+WCc/ZFDKejQgGAa+k49HCKcgokF7AEQe6BANdI/oSq8QGTEF0vYxFDqXZAYAWABiVAgRwFAF4UI5yj4gENqt2scYQqtbwWe4BpMJdIyhJpFG0ZxYNoXnhqBQmdCbcwvjwBW0GD0DoTqhpANSRGjwnCCRiOICseBNaWdMyMgU5/gIAwMIHMalCZoLb0hTyqK/2zPgClREaGdUDk4CMt7UwCeh5IA9CIDSNUYP0iqwpBfUARGc4D2mjPoU3+w5TOvUEQQAclExxhOQSoi7ZTMGOosihYMDcCwUICBtBbgMzHaEwiJRtNHaa5ucwMRIa2AtxM27W4Z7ARSvZsDhOnMWFTVi94KZiIgoLBQJosIdhH2QE/lMMaL8BCBqhryJQcOTws2QzZMnmk2VQuzoU2B+gsb6oEHtJWUgVKgi5WHOhqEB2E5QpwEH5RRkopMYbi4snlbkOrY4grZFs444TVttKJBKLhn1EQIKA4MMZAhAwH6F/UODghjUJyBz0mrGWRf6QvAF7QMIUKKcptyBGYKMlEqZjRPfMp3uw/lOc2UaJ32gJ03SfJMPVUcVABrRMRbKFsx1xxwhbENzG/qXfKM4tm/pAAYiUwAgDkIIg/MC2w8ICgCMtvKPTyScmxAAI+IEQE28OmAWqoGFSpd2N3RZNvUm4PcMruU8rSCMhsmcyiB4w45vCYsQQcbQXCjp9IkL5IIxAuC4KLjmTUUD5F9ecI8Pdkrq2ImiEDMYiYZgLxuDV4w1e75z3hZObolFkSbk0hxTDdoSmqEhxeHBEuruueJia8oWTEQ3B4GcoQPBHGEpjqAt9oR64Ivsmi3BDQBMwvGAQiTB+EeKFJTYMW+M84lN8eA3Z0ZvxZhDAZGIk3baACLmQJx95VUHZEViZBOcThCwOOOeNh5ghZPBMgW+WE6ExoaDlNkH1C/pNYCEB8kuu/yHfmYWgi4sAgUIkKBk0AX4pyyYAOqnB1wghEoyCBQQ5xhgjmYIxN03RF4iAxzRLu00giIhI4YQyBNcILNwT1YBAppHR4BHsOnoKtDQ8BDJB7HVNgQMChYguCKRMnSMwVhFjXEEWOVoBCBwKBPLskc8ESGAiLJxd3OZwmpE2RbM5uhCB4O5NoIxEwh2nQgJjARCqYdhbgHYq2i2Z0AFgAQI9kRhPS75s5Q1bQh2RHKbshDDiq98YC7saCzCzxwC7eCFSqIjMxDCYgHraB9j+ERpyFIAJqsExlcv4Qp9HDEQATSGUAeQNItYBEAAxoSjQymYxF03zaGZm5hthDlUhu41IUYCJkYxfVPm/2sOsagT//AEoqjFpkslIf7oKkFeIzsoKEzUfUOwpqaCIKryvVFS/xWCMnZVWN6CMMlzBTBOtBNQfSGu/AgsDk4gUWDsWNQCDCs9IzsgVuIDN/xRMoLOTpAdtRIZhhGwEwg+FYImsnarURJ3MzdsYmQoXyjKUOW/GPDwJdxOJTZ1EJoEV/IFXZ00KA30oh+U6EPdjB0toFkV1jB+I8ECcIYxqFQGMYEAfWirA4AH6hNsF7Mms1SSSvR4meoqE0AjRMJpoy4ewo1j6qJOBKhpOwHSE3ONpRDbAXoiQV6TIBNFkcGKnVAcKtVGAQCMZxQQGWqiupGREIQ14cx0jbMpl1AwMXs7lCFkoR68BuwGA31kwyMCLsiXyAmiCqfRR97hVYhaTO/h6VN9cUAVD3EOhWJAAW0BYr9aGLtETS6Q/ogIAICqq1FehY7HKfXDD6iHAKiAHqQMbP6prZw67RQUcGAXzQhH3WoAILXcEBSgoUU0Qj7cGQbVTL0jDUBAIgGIWJRFbR5Q4mrB4IQkM+kJBEWdLUBODd3wWlMdp1ToSfK5GwBaRECZtgJl+pQ+X6ILqEAfZWaiiVNqw5QqMeSq1x29L3ChCpZEFLBUcfMX0GqAuZrSEPmcBFUNQsAnv9pZORcoUbqqxdBa3sItNSohPD9aJvGpMrKZZGShcoBMgBAAtoUQCC4sEMDAQCA1GAcEo2jAw6kEhsbs6m3AIXWiICyJNynl6gbplJP8hdoQgETTZL/CeARs5IyywBNI/MGAUxBOj3yFFVMCVuFgTQCzmsUZqRZWCwfabEPEOxdfxGW4oVFMgIwjBoBBbk1kBB+wRRGV0tVOtSMtkhBQiGKAQPZJ7bJhAgJhO0LCxOhSkBDJHckD+hGm5Cx9ImOzIJkxC0LIeYRAdBWHBLErQRXUROZtWNXRYCGJBDrkiI8SUOOWAcJvHH2nTqqIP8TtP0iQIV7R3f0qcV6I5lwHkkZ4ersm4P+JMyCIPSwvPSARZwFGMCRof7Va7MBAeBgKJiIqVUEEKFQXKgGDQGF+vlQKoZj8I7kAF1QBzhOKEGAgFRR0hHDay/ouEOEbQRUQNsWNITCUQCEgRQnOkPJvYcAMkLc7cxAY6EgthVTGwCCIqRlBOWUZFKGGWdsgLBzEQCcDaqol4YuAw1IGLSUGZadqsEMwMpWxZRCgBDH7CAHsaRCyREj+YL+jTiEHtUIDSlCQ2DbBQuBFAX5ThG0IQhiQSvZ1AWhCshn1IOFucc4WjASNX9Ip4OMr7qVRRGrUhSgyiwylCqllMAW3jJPO0qvtGQRly5DI7OaELGkEDxyyiIAhBRugrVBEYAIhE+mJC/9sqDzRCsenpO10yFCFSj7iJTdUogI9EA5yCZan1LoWRhQwPQfqp/5EM5ZBkNAFfwtJ4hCYoAoTPWAXVoSCARiJxATGLp4CybghqUUkEwsbssmnERFgQQcFE6axKDqBgAYEAAC4AE5nEMZKIQ5qeTB6YzxcQwRbMk6d04CPsWIUZxYBYNQIBTpA3ZNZlEIqrDrWBkNDey3we1pBQLYIvW4gCxIbXsgOu7iGCODCpA0yvHSZCKAWUugnkF0C6IkaTx2PQXzbw2nskiQgICy0gk3bCFoIw3YaU5l7jqQ3X4xiIGUoRdOipA3w7bSrw53XSOciSBvgKwDsNF6K0QffZXxaGSMGm2VWvG0qbtgiWFlqoQMJa1ALoB6xG3vX9HWrtejkyX7B/WAM8MlAuEWAI0IVFIiHDo4YGQ6GjIB1ULCyWhT5DoRoROcRpG690D+6yMBZBRIFBC6YBC+Jgni/A3aHixMOK49kggR0sE4CwPKMJ2EA7DC1cBQUFS7igGfoRdkQUD+iff0nhujH64JqiOfuqxCIC8r0wAv0ZYBbTaiBVUlHydVMNelVlDFwLK8k71VPnegiz6SnQVDnoOhPVuuonn3RNEfZOEEJIkSEjo3Be1AWRRbk7ld2lK2ni9wSDhm4ZzEym66wGTdDjXZhCbIyFDhYCUL6SEGPiNNoGBCYKwMCGaIkIYldl7jUNV6KVEEB65lo+gUPOACCKrSH7egQwqYTkmpQ8Z2hVfrSKYHMC2EBgI4NBAFfWCoH3AEF7/AC+IQFo0SJAw0tyPaEph1MVqAvnAmGOELomMpn3PW6ZRbcRWogCbJYLNgpkpKHJErem07RhgUC9icqqcnWAoVQnKCZMyzBBL9ILCVFCVQhk2QNo1VgtO0SNlPdkAH4Cq0IwQvmEdNw1dp3XxZWl9YV9fWAWabnsIAADQjuwESJFALx4hh1becmG+GfEvcCNkymJKcwABUDCVkFhNKdqWqgO0TpvVk6AAFEE6Cryz4T/5NCyUGSdgKGOPGFSZliiEJ+roAiap0ETlioSCImJGjRIq80z9JoNDqzuJgF3DcRKYPDUpk1B5dyFOnQlCeXcDB7J5L2TIEJXRM4NVWbXhAGGEwBDOF+UGQTIzhCGaPoENKIIQ6Pp2wh3ZECQigkCngE8u5xcMdzdcATAWhKYnFsiAvmAgI9wHAfhFBGBTREMWXsehLSoiCZbQCCc3VNfc1kxIFtDJiSBRRgICnonTp0E9ra34IoQF8QN0cR0IPeMMJ5DbMdWd3RM6eIRYps4OgLCCCEKH4BasiARIkEKIiAIAR06BdPOYCB0t2hA5iUMJoC2JBeKEwungNa1MUY7m3ZMog0BAoC7tGTchFHcLsRpJZFp6P7QITwvk6EwRIkCggkEIAiAU6eR46Q8GbYtHik84ZumJsBbgMyC4JSiqL1hFi9SNGx+UXeq+4mFmgqgLdwIGAECCCFCCGFBQKCBHQN/UwiY6Eu725dTES7QlMotMhYNnuIlMxnMpgbRRgVV0Db6uPAwjKENWG0ICIKCBBAEEIFCBQohhAUCns7VOIyafpGfU25nkEwsGIsC+0TMb5QTF5tREQjaHAMhkEdREXQQR4hiEFCBAoQFAoFPRAx1cMj8BoHhHingAzDlG2IiXUTZMpgZhAJ4CGrTp4gUKECCAEASBRIGyIiD3dwE+5t2NyCO+SJNTOhw3lF84tN2DdGbZgYUayIAoFBAgQGQAFFRAoQGI7iFqfSF0yGXqc2dx64e4iy8BmB4JRl1EwEhQmN0RMdzBHKNgziOrroIIAogSJBDUBAoRFkSNSQTvK/C34cwOl2tcYLqPaMChZFpkbOzaMwkF8FEiRIkSJGghAo3ROELG5BATmAxzBwH4giOYZzAQKE24bkNsWBOCiRKgiRwAoFCDccbQj3fMmr4W+K8m4atC1ufvwAzZM55QKJGiRokDAEIhOhwt3NiAQ3whZOrZl6RlHOMx5rI3DydxEjRo0FgghIU05js+JE2kMcgcI3TZa0OAZAYlDjC2EjRoFYIIRCKC1P8AmA4RsiImFgT6QmF15CZzYNncDdM+rTTG6ZzEQF8QEjlgTCQShIIPNuwLQubgLYQuGLcIp+QeUYgWDiDLcBWQQEotCYxQCVpQiihF5TLqAs64hgOGc3XuHw4gUIGcyC08wPKaCYwKCEDPqULtEwEOrAu7kMgQtDnhFGccFkZBETtEW9zGYwakg4YimJILrQaxuUR1f64R8YJBA2Hsbkasm4CJMBAngiZ4lBDhCZ+qFwW3nekoxZCPJPF1bOLZstwChIZSUFpEcJ6TDhCLjxZuBXc4jiJhqfUe7pvlV4JkFg2zZNsIxJQsmJgOYLgnaEupCLAy87TMm5ZmENpkyEvSa26e6Y9WXnKFoSm4YBCIsaQvmQXBO8OCE8zrVkR7gFvi64BsdQ3wxZN8Q6kNwxIpAI7mEQtyagJAhwhyBAQvakFnuJtbRtHhbvmY80zGw8xmFscMTjjhCTcrozCJ4R4B5JuG0JDEWdzCcTCYwEBOyxAocMWmm5NiO4G0bglGpDdNgLfO3ee43FMotGYIIy7kGVqOuKopTWTi4OHq6ZNWtoeEeBmMThCzrkiXVwxHLCCAl1JhG46EdyFCYWRfF/VwyCB4AiZBB5zdN0wEwRiJDAZti0J2BKLBRzILbcgnNzUvUwgZgjAWyhaN0yhGxqR0YlC1uOuCLAgOKJ3BMIDEpRlCMzp7ggZdo8AcbcjXNWMyujJqycSjhC5uR4GIQm3KLZrDqsYgu9Q6h3AYDS6kGUIHMDDRGQS9w6uaRygtrSE2rGhDUvU5xDq0IDFgQ0jERMgQgMBHKTqQILuAWodQERuYQFGG5CgghA5K/8QAKBAAAwADAQACAgIDAQADAQAAAAERECExQVFhcYEgkaGxwdEw4fDx/9oACAEBAAE/EMQ4N6NhrZ+spHXiQUpo4Mgl6NQ6mL7NaiIeEVcouDSSPB3h8itRum4XmETFj+h9/ZIid/BqrGqM6xKDtUXMQ9g0hD+Br6N/5O2l7CjX1lIkTBo1yGqfzNCUSw2enyODe2y4SuG91/BzhzuH06dQ108C2tfOFQvaIakH75h39Cwk95XhdRnENm9iofgv4M0sI+jjsGXkOt4uxqjiJhj+Jmo9Q2LP2LM+h/xZLmeiNDab6Lw6HRPY4QhKJbQtMXT7E41jWviikND0RcIvgu8OoeIhIWF5MON9wti6LKQlpMg+DfN46kjVK9CPSz7WPBQXDyng04XjHH0TNiR0fou49CaZo0XGl62PaETQljjR3uWLGhmtLHwjk0LHzhbY5Tz84eLEfl8IqVw168am6fB6hiqcHTehw6lDlG7DmE16x9PSHnTQxLWPlmvRjn7Py9w7RrTFtt0fEvR/SH6evRt/0U8xwa1goJkxoi4YuZ82JEOXEeV8HhYyIrD+sqDNQjkGt3CRGOCJo8xTQh7RRFPgVPkYutmsN8JoYQvBPQpGeCQoh+i6WUXEfVEibPGJTFSUSNaELHBfb/h7hIQhCaG9scTH4Kao0LbFs4kX6w0vGJITxW0cuOC79JD1hsOGhdPeF0edH6yxi4j9Ci8w3wJzzEFLoXCRCol4epHv7E6fOZF0U0FU9iPH3o9Cnz1jX+8QvXBdWPIPpP6HquHq/BpHiPBiJpi/SG1hLncLQrEMUrOiVJXjjQ2ewSSrHpMoxLQusbvfB9ERNoS0RJC5Ri/AlCELMtNnEzrZs0JC9PYvB6O3HwdTzp8RBnWPBJhY+hE0e7EtDfSRlE0J4hCENI6I+D9jH6duJzCf4Hp4Qj9GxRZuDZUKIej1vFVFuI+EL38i6J14TuYsdz+RlgfExLEGddhE4xvC9hwTrRuYovzhcFfRsUb10tvxi8Gh2miPghonCKMuXPMcdp4x+v6PgZR1Mhz080Mh/gn0fsS4zraE2XS2NUkEr8HyJHtH7C7E+62dw2L5w2uDe1hDvhuY+BubL00vRWiRm8dDfprZ6i9Xgvk+x/OHuHpulDRq/s11eMZXOj1o48uo8M1/BsQ+B9FxfJtFGx9LGhi4cPOieFsS5jZeY8HYz1HxMWm1w1qj6ja3jrGxX5IeIaRpTi/RRSDNeockEuFFju8IXOCtEr6SeC2TTIIQtkMUh9DUQvKbbQnwSx8CSeEhfYzxfIvMLFSNg9vBr4g9JlGQXB/kUh42ea7UfWNuhrQkksfAqfOPBqro3ojg4kQ104V1Iuj1qH6Qtd+BJ1jw+xj6jwSaR8T4Nk+SMnD54TCUuLtjTUL8ml6SIekvk3Dxkd0N7XR699pRpKC7iDxNPeOJfIpML4uNfI3ollNK6EybNDm+GkI4sR1IZ8kiZrgrw8PaVo3r7G3NDsExU2LZKP6NEr1DdQyJk0Vi+WNbxRYfRMeGTCWsJliRTXyNMXGLbYpBC8NJCxrgx1hMZ0/9ElselhqY03B6fo4tD6hOI9Q2PCcYg8ruziEJj3BKTY/MR4SdX8Cng+MjCxw3fqHqNVEONYXBPHkWnqHGWHpN6wkJ0mkdfMI3hHhJj0rEtWjo/J/BrBofUJnf7OCdE9kw26OH+jeIqhs0pj2idOCPXh196lBek/2TQ2s8XRfH1g1sR6OqVJIpV0VXeUekcPQl6Xaz0XFhcEt/oS+jaxPsSRv4LH02JdPCE4bT2TuPjBBN+iVH1iL9D+RMfp8DH9frD0XpMr0fg9uiP0MmxDR5ceoYk8oRRCa6ydGscZdYduINwQxUT4hEbNtDImTSXoonTQ/0McC9PRNiFCiwuMXkINxC4eZq4NKqiw+Cw7CbHf1hM+BvNEOQbYiCGttESENRrZ8C6IXRiaR8EJIQemIjnBtC22EThWfIxNobEJvGoxE6LD6i3NENjZ6fshNsXVs9R4X6OLCcROM3f2KHwJ7GPfyJCU3h9PyPSNcxEPgvgjPBDXMaawmPxjQuw8/WCw+HjuERi3cNY0xj1ocZ6xGkSQeunUWng1B4lgjcEQcxxj3heI4xaDQ+48F6dZ+hoSPkekyyahOXDqxcUVWhI3sR5+ihdPg9PTgTJpbwqKFwpVrJH5F2RiHojnotHdCSYxCNMYXTj7LSMmLwfgvMRiJfSbQoxlrPYPoiHX9FR8FWxKnIU9Eess8KGIfGLG2cR09p4hC6KU99wuFJ7Sej7fhHhfBRNHb9QT/0eMmycw0aOwZ9VEQiwS0lcRR8bFt/VHBp4eI1GNb1jbFyiNriH1aG1sTZaerH68LrQ/WJ1NYp6a3oTaZxr8C80JjUYpHcUTYmeYWGhIxypj+BXQnoZ3ZwmT/xniEJpjm8vR7MX7whdY3To+zZDQmav6wjgioYv4f+jk2JREKnokhqTLw+HEIZuGj3KR0inRLYlCWieIEuHrwrXhI8LtiSF4P0aIvgWESC8GcwnjiNC+/k8KxCVaEjR1noj08RJfk+xvZpibKVaPWfJe/GF3eNDQxaZB1j0VE9rCYqN6ElIOEvwJHvR6QuLpsQl0M4j52cH55vHMrrLhfWCRqjRsYh9ElB8w48aLpBpl1+jsLspZBxJGtIkgvtsa6sRbP8G5BKnGtHpsaqZXo5Bj6LwU/yXKUWsXdEtHOHwNV/ofA4TWPEbrxRi0hDexsWxaYsVYThCXMx8E6IkW/kkTEiEGt4aKkbG+CyhrY+l2yEIr/AxIS2JDPkSPEXU1hV/ItKC4fgR7+xoTxOGuCfUP6HwWsL0SP/AA/QtY9FqnyNCexnqPkQR4yCKJ1o9E9jW/0cSk4MT+vBY+BdNTHwK8Na+DY2PtJVCjGt4S3BLQsNiOlIunWJnaMaJh8aI3s3GJtm+HysTi9QlURps+j0fT1Yo9Uaoj0NaTWPgrFDpiFuUsU+xiMVIPDX+B2tk1MLTRatiaG1LRCWEuidFxDx5BB8C4ekWx8DQ+LDP+Di/UwjwfM2RnTqeVif6I0qIS3hPg2j3GiI+BvotI2zzCEtjmz8FbYxphLRxiKLwSGiC30fEj6Jv6HwR+Mq4+jSEquFg9mzWh9YuRo8G6h49Ehk4MQsPiNnpFc3gmLqw3BfLG6oX6FYVs42LSvRNEfT0dq9JunwhzmFKhjPhlSzH/BtwYql+j1jYjsEKK7Id9L6J3C0kaQlpEhtO0kTdJtGqJbeE3IMbEe9IawluHpGch7CyDT/ALGuY/RoM/LGFtbFUxxCsEM8bxNDaWhqkUR8jXCtChogod0aUFjlEfCpIPC4ewm4fB4xJHj8wnKMeD4xZ4kNDEt3CW0N8EPwV0LgiEg/D6p6XgxWlPDzZ6Ub4L5w1oYiC3BzCRI9X4IoLw+Rmka2S+kg1rHEIjmPYej8OtQo1Y+Y8Cb0LuxKjOvpCWxjFYqREF7mnyes92y6xeaohVIfxlcPIdcIJEZaJDPN+k2jm4PTebvFop8nqIh8OrH1hCjUZyKfHpIN1MXNk2hCW1jZofB3Q3WMrTy1qmxabjHsRDeE2V0jgm6XQunglhprRsb0Nx/o50Xyl4RPo8IR8Hz+BPZHFh9HwbR6L5FZhHzvZHBlvhYN0cRxpjceVzF4fIsWGhrHZBtfypeCHMQSYxfQS2Sfs+WVDV6yDU/rP7Pf0Ivwzj4hKfsfayRFG7B6PRdJsW0hjEtx8hzDVEeno+HrCiHsgj022TTPXCo3ELiqIaiF0XTiELqZHbfcb1jwJI9IstiIxdEubwuKYe2KiwlMNn/oiqzHyPpRFoSLouzY1vohS4f+DuGOrKQ360L/AKd1DxCLp7oSGzpO4vPyeI7s6evM0cX7N1CGx+Ghp1HqGtCxw34OiLCui4htoghI3WQk9w9b+j8vwkoq4yQnKNkUH4z4FBCTgnh3R4Si0sP4H9Hw8M5DRLnwanmKRDxomFC8/I2U4i4uVtn0To0cXSI8E1ob2TaPFBIXRXwY97PsfnBm5+xNRrp6Ph6ixG4mM0FtrpFMIWY8xsR5j14SwuoS1lPRoSejej0g95ML4EJ4uxcNwnMSD8/JFBJoWVpichRk5heCtI0Q0J6E9unHv4Hg+omFhDfRN02e4fC6RR2HwVUQltU9WdPULD+D0+BtKlaw5BCfKhtVix8CL0brX6EuM6yDfwXbF1HpdCW/4LeIu4qq/AxChN0dqPWaOHo5qjdY81qI51Dsv0I/8xur6NjSE+k2WfZwRcXyVZc0RNbH4Nbsw2k86JomiqcPo7j4jo7qD4JMVR/7hjHuE5hEmNIX0LjLIV5YseoSaYxE0L0UwjYmkVDe/wCHGPghM79EhfCbPkZ7jpo8Q4LpdC+xdQlvEjxBIXyPiF0UUPBdPgXeD7w34TtL3BJ8CxwhJnMTHokaPg6ia6XCY+njQxqj0yrD0mej4bG8EFhebH/pYcG9F6xrYkKrJD0L0qE0+Evhz+hMuEONic9Ll203sQTvuJESq/B6mNbRN7YhVn0cFF6XWhOjEcbFYXeFU6z39DSacy2PeE042PD2PsEnrMEz1HyXZQhp/wCT/g+CRwLhpw4PTQsNvE4hpYg+s1BbEts8PBmjEyCWoPo0kkXWGRw3CRDaNpi4bxSnlE420hiP6guyjTTwyP8AguCWyf7bGtsRwQxwWEOi+ycJd4k2UehLjFTdVlFxIQ9FxEIqpenwXapw9Ylg+4n3hMq5RCFr0pe60Waxq4miL/GDh6JjHjWFlbf6xwNY40M4tfAujUGPYu2LVI0hfIvyM/AlExUfcaEkek3+jQ03sQi9HwbQSS0aEMaIjUEVbZrYtFFocaE4bILoycxpInzBCT9X2PbzR4hEUH6TXcdOJiWyxKD93Dg6+ML7GlSi/g4F+RULSaP9nYPwQnro+56z1fjEwu4b3C9ZKmPqEujQehVNsrJ3Qx3EdzN/xXDgvNmmzUQhnjZIxomWhCf6Fwch4iUaxOnRCaY372Dkcx9CHvCbWEp/eEUg3s+hch08+NiJo6++nqpqi/gLn7GJcY3JRP8AhFV9smiEEp74OGxKX7IOXXyeFbohoRxM1CLo4mISURwW0M9In5hjTh7EdQQub4RPX2TYyJXE0M/Rt0Yvya0LhNfwjkIf9YfuhMXBunoimzzCHto58lWFo2MSdw+I8p4PbotQSZ5tkGN+lcWEQY8clPoY+CPo2aGui0iDtZBDWxM68bH0kg+0fhpHGvgV6Vl2PmeiQhxU02TD6eixLBKCGXPohcfYo9jQ2M+DYhrh4HaJbQlTwfol+BJnx+RrZpI40SmoaKsbYtGqzTLWh63/AA9PEhYQnj1naLYmvgpeF+j1DPs6hFR4spixTwS1su2d8WH8fB8EjPG8o+Mqp/SF2VaGNHwZbR8WiwT6s4JbX4EtHWPv7GRtkqHtz7wkNNoSJI8ouD4sTb0So4+irZH6N6GI8WF97Q5/gXv5Jw35MMrZwJt/mFaIRm8J8z4Juj3DaouE2hMXzC7Qn9je5mDnuxIa3lD92M2xcyr1Oi8EbM42LZLg9Q+Rl3i0+2PuS2QTa2TdxxoaTRrUHpoqOvp8Cb+keITLO46PFrH9HKLqOOCbWPjpNHmhdRTY2IbTEtCS0cKQe0cT1jjG3ojvDaIWVwbYguC8FhN+oRBP5WEuGiGsIXahPokoMb2tG4ybPGM08e4QhitbPeYhNJMdFGziH0kwj/weHGyoQQ23PpE00IXRLDTFSlVrQpo1pQQ4dHGTeGjRjejokEq/0T0Y9pfgosRtjK40L3HpoR8ipdIpvmG/vZRdy8j4tFc0VJ45NmkX7E942XQxrV+GPa2aKxeYf2eMWrolotLHIVbQ+Un+h+sS2IT5YuEM4xbFvo9wumTG4QcqHxDETgkJEIJH7IWofT1QXiguunwcHIvtY8h5iRLHRGyw9JDXjGokaT0x9y6I4LzDGtbHWpUR4TrJ4P5JIP5+CtMajPSIuhJwXmGmTWOISLqwQktEKFd/Q2cXcEtfeJyFExbJ8F2P0bRN/sXS80fBSU/OLlCfGPQ76bhODabGhCz4xLHCyh+EF0aQmhLAhQe5o4yPfiNEEtMQ7RiQniGuCmjiLsbShUPxHrF5h8Tw0J6YvMyL9mmTswhiQ+vou/s2aZGoV6Z4dY9YSWHh43CTrH4Rrw7sS0IghFfyNE+vcpGVqY+nyPdP1BdlNJM7RIeHNUYzpzHC/JBdR6SQgtCE+YbT9HtifAsLuvnD/I6oI6TnRL0mGsJ4sg/N4dPTXoukokuiuxaN8NjfTZB/c6fef/B9NKCH4kJF2Q9ZHdmnGcgy/wChfg9F8j4IJV44URu8FguJGsdPNCwjzG4NOFFz8nwLppNG4PiF9m4hEwyUR1F/jpIe4fRQ9PcIeoJaY4KoZUj1CWkNyL0fv4GPQuQejUIbTXv8KKjWh+Gsbgkfvw3WN49hZhLh5MNaQufs8RB8Yv0Pv6PyzYkdRUVL0ex4Qvfzlag1Sf7JD6IxoSRvCwumhfkT8o2uZeNJHhH+xMeCNFEJnVoT2P0Y+CIiTghWtFTZ8D6cC2XiG69ia4JsTaotwdvTWh9GibRBjehC4hI6T7HBnPweC0loZxltJ6SvHUX57lE3RPaHsPgrz6Fub0ei5sSZdoWF/RwT8JUlhdLiwWF3DYjU08JV+xCg9SobLsXeFdQ2JVIg6xpjQuUSLWy8FhwehnxDYyP4dM7i1vbuxNfwfOjokUciFNtD3vGyLGt4398FqmiEt9EIZxfA/kdGeIrQvMJibJYPukeEw2LnByng+M4nGJaHrCfhrCFNkIfZD68o9OGqN70P/SFPnM/2IUEisn60cHqiaVIJGxfA+j4p80bKPWRtEF4fs4NcHFcLXc0fDV4JRSnw/vE2PTPVhL4y9ZvBiSxtF3DqfYsOYfx7ht7X0KRjPTmxD6jfpufsSL0S2LDej8CXtLosQk99EqFWjVPYIWli/Iv4Q8NPwVWEqI7oncRiwhNc2eczG+DUeH2j9E0h3aR41ifwemzrCb7hdF1iWyY8R8kUWhej7j5GuY7peEQhvSIN/YjwS6QS4Q+jx/IuHh6iUf0Ib0JiRNou0aYrcN9F+RPY/WMSGlLlEQvwdwu0iokLonO5W8Ih6h9CELvRk0KnjFKO1nlG0L8jVePoaH5MzdFExxL7FcI1lwR/4NbYn8YSPgWFXp1wXZhnP6ND0kLomI8bpBrTOTGzE54eBJjtf1huNE2Ix7j0Y3wXRQ2m9GsNBU0N70xJw+N+HIhwRwQuNjcHnKaF6VDx9XhBDKIRqlx5hd/R5jejdg138E4HEhdQ+DTr3m0goxrhwXyPo8+MSYjFTR1CxOp+Hd14fOSe3BlHw9cQ3rERxshB3QhQ+MNlRWIbDf7NqPCb+C4sjPhobEhKIvRpw6zcxU3iDH16FeISZNOCJXWPgfdHYLSw1wbj/Qv+Dpxt6PRtN0ShKxi3DhN4vMVIa2z2DX+hOtCaRBa6e64I7EcHjRp0SgZ9MU6eI0PGTYteiT6P/pIjWiEEg8KvfwIeXxcP6yQfqPejWxpjPSFw+CUo9E2ziNaGvRcwXrIfCG/sZ8pY8fkXOZWh6Ij09LCczRHeGxz+EeE6RQr0cKN82N8F6MvDXrxdj6J3Gvg8aEda+kdJsY9IcTTZakOITELgiKoqTWKPayLRwPTFpIfOCRCbxMJlL0g9C0KBaXR+r7ImK1Hg9Hr0bOH4PgiYuIoeJjE4f+jsYl9iGmxQeYfBoWnBfmUdFTkH4QR84bGt/oSaGes8JULiIMTS3lv7Lw2lSa7g+OI9/Y6MoOF6IbdxP9i5GKJaGNb0XTvTUW8LRtsQiLW+j8OBtDEi9GunoktM0h9EL8iHbonTuNwJCIWtRHWLGh7QuI8x0etCRpjVw1oTevijYhEF4Nxm4soR0E+YRXvCbJhWJY4kcSymxGijOIWkLCX3iF9GQ9Fd7PnExNYX0joWOj2OQSq0Np0vuhLWPkcdh6vg/J3R5occF6Xu8MQ2N8Z7R7F4MSdIJIehQ1ojnTomy6/Z8mxOz4HwPgvya5RKMaUV8P8AwaqQhoYv9sppoUElnpYNlbT0jkGsLukQSGWmzw+RQX2Qfo5CC8Etr8jE6eylaFZwZ4hPpRJbHfD5Z6x+/RsXCcO48LwtWXiJ+6wuCdPBWonTiZ8kjf8AkVdO0Thfl4SVFzWE/oaihHh4b0hFbKfgzxiE4N8NzHwTgtI+FRtq0Y+IR/0MfTvTo7CDEtiWkWGv+HGkhPGtUS2fAsV63hHpU8eEPMTpBEbQsPoui4jYqT01hODY5h+hKH2Xp4xDuxpOYmhfBzvCqQnzwZbVLeIvSfBBcPkUqH+MPQ2hrhu0Q18CQnfBQfD4FzDYuZQt6RxdF7ho8/IxBCsuVMpMR0X/AFj5OsXg5vYySbuI8L+CSFuifRkWtkezgmedwsK6Hiaok8Nkx9OnqEpB9glNY8Ezz+Bv4yuP5PvJtJi2JaIaJlp6vrGLuGkkhBtRFdHnD1JnGJpCQhngz4Y/c16JpnweMRDFEsPqE3haTE9pi6sKxHgkNbTE9M1TgiCG3RCGI/RwqsEniaL0p9fRdi1T04jY9QdwlR36PSqjwrx9FoQj9YS1+hFjWOLMEttiuGkaadWmhU3safx9Dup4e+cx8E/JBLdOMQxH/ghTWGI6Q6mSHjFxSptwbS9EeC7+zT/smjUGhjpsjgheCSE1sXCjQ+cJomEOkHymxLawuM9Pii0v4LkGtDK6y7EJ8ItRCIPj+8MW+kG3/gR1/VGfJ6d2V6OUUG7Rei0mL9iEcWj7H4QXcKlH+Blt2n/DnRHi0MfRpxiSENwpf2JXotHXv1DIIZ9ho9/R14YhfFGJb8NPHCnBrHEIRqfYnKXwZ4jQtV0viOCEoc0N9ENCFyvBMSYvC6wuHp4E8Ms/A7jiYm8rC2+7PaMjvRDHw8iP3h3KvLhcHpfZ4SfgVYLRObOP8CfptwYv0WlhdCTG1MLy468TZUt/Y3Csb3KbbJGQSfDYvk80b+cPiMacU8PiiQbIfGPRPeHxD4ni813HpdYnyhogvNDVl2tY4uH2h++DePcPTjmP2fRZojGrqmkTRdErHqHyzwhHw+D7xGM0HfBCgnsQ7Bs7MKOCUfMPqcPeE8Fy4Xcrh27GyBLQ60n8MSLEPqgnv9laNuCjcgu09eHZw9EQ8ZxrXgzX9D4O9pBoSIytNa84TSEn5hYNTpNjfcvkcdNfsb0zgXn4PMIRvWUja91iHSLhpeDw07+hHV94cN/4w9iYryxLGkh4M3EhMmxNY5sRNUSXdChpMenCCWUOuCS74NEokqPTPFheF2I9FJDcaP8AhO/RTa+CljE9sbS2zSSGynPogvwOC6hL7E9o9PW8eI5Fhnp6MRw9w4kNpsmyTROM0duG/t7OtjsWPhnmPRQ94d0ao+igutEtiEEtqs2uo0z5cJsfViBPekLuxcKTEtIQWEm18HusLfmFofAlDSsrN60Lbo+iXaJmtDhpIWEN1wQ+qC92foSFsqFr+h9TE9tkF6Tg9bNxHCibZ4dJo8EuoXNj4hcEjgkrPs2jQq39Qe3+xeDf8Iu5QxdEuYTPjMFw9Y+9PgXD3uHqCd/unovPsZsvBTR+fM+Ia+jiFzmx/pkX+Bz5Py/cJdGqhLZ4dPoWhpf5GdCaRCD0hKj7zw/Y2axXhU4qIT+hqrqEQhJHlNOk9NwWmRQRRXCWx0aOLG1Dh8icxeURaizoxxuDYunmNeso+CXCb0IRsdTEG89Sq3iaPWeCvcI9x9HIz4EihNen6OiFULeLsYmxLomXRd05EncU40VxCbOs0If1itMZOmtFWjohIRaM7zoxYmkJpfpYdIcglGcb/BWmsTqPHyJijQxcWxYRpQ+BzDaF1YW1iKvF0dguLHwj09ExCzs+CYu1ssw+kqrPGIf5HFPdC+zcZRekZDqOEKLvRrX7xKqJUajPyhLv5FwqiXlIKujUQjVGJ6JMXX+CxUfNibQ2hTZt4TQ16xsQ1Enc1ql0Jf6Eqf8AhuE2hLz7NidUN6SJcekP4J8rD4zwRwtqFzbH08a+iEH4JE6bKvCRyQQxNGxKGv8AJdie5BF2e0Y76N+i7iRUkPvRvQq0Jje2dezjRelI0jfwqIqP/D7P/RJ9pym9jfNmzyF4RxD13BdpN7+CGunf6FBCNC0jUmE48bvCUbgmoLuNbuHqmzN3Cg9oqNa+ljdFadfB80gnt0YlrDG2hekCRoicEJbOX8jous8YxBQ+CHEebFHhvoiYVYuD6LiNRZaqfguC5+xrmxLZt6OUa/xaWoQuy0JC4x06J8OoSNI0nPzg9ijFlCfg/oRtZ8wfo9wOHBjESLXXic0SF3HhER39CWv4Li/AxIbiZbRIfRpje8JMnlOYXaUSDSSxuFWiunjEtD4iJDrw+iQuomCJskeHIhKOFqTP0VMa+CSkuE9J9E0QjpHUJfZsVTLvsUH07BtpsjqGNuFuy3RwWxHg1wbmJpCY9w+Ka0TRVn4mS6IejdUYj5GqXyQSd4Nb4JQchThouEdaFBcRDtg3jgRoqSXovEJPFdQiNIhNZrnRDOkfBMj6eP4NGi2HUVG/1iCZzNRXTwk/I2bLop8YehPWE64TbRRMJXRCeOkGt6KLojhXR4UIMfFBdw+ZeoSFwl4yd2OM65mbPRHimKoTQuCE0nBPsgpwSihxLRD14fEz0ZSY8K7+TwT0tD8RTZ4xOY9N0jxr42LwXOFRcPHmHhkPY0PjJoSan5wmmNpSmu08exP5Pc8J6SMg/CCSg/DlHpHyiJMp+H5+RHpDb0/sXbF1CX2TCZ5DwbiFzg2Phqn+Tglw9Q9j7oVbF9I6xFl/ItsorWKadKEtDPEfgkZvWhtzDabGcFn9lXyb0ThdCWj/AIsamxcovsTOnwkLLE/BpLhoaFj7E8fjHpo+WJ6IJFOImz4HYcn4EJbp1smF1i0LR4RtHQ/BU0HsXgrrDShULb/Z4VBhaG2Imx4b2PqF0p0RGgsJBOwcYnLhbO0QkMQ5eHwfDEeX7E021jwpWNo9PRG9CZamJaw1tFxo4K4N43rC7zG6LqIJs5h8+jhHwewuiPULSh8ihrfwhLVG0mOs8f5Ni4QgjTGPwfUJ7GynSdG4xjhKi+BJwXBEjqKlRunkg0WRIi0xN6Ex6o1vTPRI4N4W9i0mPmvkVStF6vhj3BuSj+CLHZT4/A4O6PRvWl0a6LC5NjWF17F6cxyIfFoW1h6yNliFhJ6LdH8CSSwrrYh7mPDxhcN6NxjL8Hi0XXBtfSx/6z7H09Qi1aw00IfRK/0KQ+RYROia/wAn6HhC4MUn6Et9L2D3FRExoh8oY+5kF9HlIpYenyJLHDohpinC8RRDwT5+DxLwai/eELp7jbINbGcEgltQSPelx4N7W/ceQSw2x+iUfNCehFZ2aH0tTG+aG6lCufoVOhifCje0IWGkyjehLgmlEj1CH4KISKjEh6G0I03R+Cbihs8LVRF4xj2cWGSbYkLxB8FsSdEhl0WXHEKtM00hc+ibTgmJdkevsVPwQn1TVGuErWhxxn6wu4TbpdnKbqfDdIhtkXccJUIYoJKl6c4bolsSSHr0S/0XeEtIQuL8l/hpko3GsQajQ+jWIvg6w2xbJ+zSTZa2JaZ7+xnwMi2P8l7+cv7NHIcIh3YsVibZ6ND4XQ27hrfDRYu/0QXJhmku5Qo8PMrpK0IfT4IqcGtI2PWH3RLhLeFR8uOEJpcHDuaeG6xLWyETEn68cjGtCJpm8fGzhQT0NexGm/rZ1v8AJ4eM/Q6JOMb0vyNG2FxMW5sTwb5sm2LchPBqYW/rQuno+WcPSouQXuzuWjiRYN8H2DG9T9iTbY+AnvmOEeCV2NFwmzngkRxFdL1XHPDsK+Bjbj2Ibxdj9CqZTnmF1EF0ip8H6/glbywbFWamhB+j+IcLYmL0aNZ/Z6cgp3DEIT2NPDqbRqI4j4xKSTCXd8H4JN/0XdgmdKMaUQ3w+CDWjUPRSi5T1PMeJDbomM6ymufJ1CjaRBLoTYvkETCFpvWPGMevyLrFH3G6oSe+no/nEdQ9F/2eDX+zdPkSehrM6Ph6TRFccRwRqk6h8FcSHEeC1m7wkJejiY27KcDwLgufs8FtsiQ8Ok0IrSYvD9isd/gfjHorenWIfCBNiPDvSuDY9LrfTVapqtDvRHF6N4ScEN6OBCDFBC4JOO/JBdaIN7HrF0+T1BPpsfU/BRjZ8CX+xbF6xeZ0Qekzd6NJCcHBVJ00JITa/giuzD+iiYn9CkGJnuPgSgUQxzC2jjFi6TOHm/WGX64jwS5fgXcNpxI4Pp42VEzUsG4hcVE/sa/2MuJo0rsSb/EFWhThwdbOMNcxWeHimEXCRxnwaWvk8NDcZfoXDSZ6ewXR8R7cTouYfc+k+TY0P87gzxrCTqsg8Toh4Y4K7F01EsLjmGo8Kkk2cPHwhI2mKvpdtD0h/wDDaWNM+GSt/k8VOmtfnC3jdNaYpUJ0UOhIQuD4xJKkH2DGdrEh09HwSs9QuQbKx3sSihRo4YtHyUaMSNnhtNQTUKoSruNs0i1tfQk9Q+2eE2Lk+z6IY/Tgfwbh0SHyD8FahC9/g6J7F4Lf6eGbVNC/ImMsFjyHCjhKNa5uH2WNI9FdDlRDrCQlcMRNNCf+kVw4oTX7HwibPTyCfgl3HT4U2PHv4GketfRr/IxdRtiSQxcHl7k+TiWPOYooh9RfgSEtG4OPNOLCqaQxCH+SHNm1jQzxC8yel+hLCguP8mx2CTJvY0fA1YPzLEjdYkxjHgylkCZWnh1xjfD6pxBJtoWhdwqI9GecHrg9kEkdLETFN5YmdQ+j9PWcN6cOs/KFY2eT6Fwo+/QlpHDoeCtRoSi/Y+I+RBd/Yui/yTbERwV8PkYkQkTE1+CViUwtDEtCXwUZT6F0UKsPh4NcFwS+hHvBIkF0ROi+hPolhPrJWJIaG+oaSEIY/PmCv0JS7Ez1/nEjFo8SEo0XQnrhDaQkRw46e7LpRifpoX/Remh8Ok/nQm6TZGmVQysrmjiS/tiaFXD/ANE4guo31FUE+k1KM0cgntCeyIqh6fQhvaY2fJrp8kUJ0+Jh4Sq87hb0Xa0UQ+ISOpCaNnJ9/wAGcI/wSNGrz09RD5ENYaTSRdtD6l9dGjeHwXh4P/hKTtO0UU0J1v8AJFmLyngukR2i6zoukzZucP1jekOYnT5Jus6zfBpa9+SnRr1Yf0K/Buv/AATQuG4LBGoipj7KkJv1C/weoSZfTzD0hLo1hnp+iiWmenwxuJCE6a1+BHyNPFGxPTPH47rKdFzouC7iDwmKm8QYlaLj/AukbHDNFOt8RGpKP1OnuvkTJUIuGrBbb/I1PuDotr9H2bs+Dhr1HwTg7BdSN4dENf4PgQzdHuTwa4xC6nhXoxtUT4PmJ9j4sXmht2Cd19C0LlH9dGLnSPk8eJENw+aMXT0munguHh6h6KW/ylQlBio9rgko1GsekeEKEhZQht0aIJNNHh4av6IQiFFtjR8w8F99PQotnzj414fdPFSO9HxCR8fmjKKI4yXDRcsfUJ7LD1j0h1z4JqF3B8Z6hC6tYnB3SF0Tf8EF8YQuobOBjf8AoXTT2P8AGJv0msLv6J59j8EhdQtY84Lz8DS1o3o6j/0XcobFw5fvC6JbZOCEIgmO3ol8fJ3UE2b5qGTq2qejinFbToONps0SeihCbNaGJw8fDQql+zgiSH1l2ikF0htN0XTwVbjd6cRqYgjwvPyIWE1jqG1RsnaQh/vBeJn4PRcNF+xvQm2+C6Lgl1k2j09QzSPU8O7FRjrx+hTg0fWNiXSoMhZ+RJ4vBjQrw+SD8wh2juxa+f4vcLuYmNaEtDWhKEPsYqkeHiw8K9K4hmxLh+yD59k1Tg+fBKj6zehiGkb0Opso+G8Etr5GF0fFo+Bp60JRUXSDJvCemRCPv7z1oaWiG+D4cbZXiCWGhcpBdeivClNjQuk2hGNawhXHg6hfbx62J/wL/g8L5El0Tm4SX1mlL0rFQ05JTi/OMjgmkzj6domseE3RpCOMqqPUNo/pF2NKbQlvgudNCW5CK4g0mjWksr5xKNInh+fZRvQtrCShsiEOTpMfZS7wRIQjqOPXwTaxDrF6enxoSx+h4jwxipuJfR6bhdl7obWhN/MG1VGfOxD5G1CzRTzLYkrhjexejfdE9Hxa9xYuCEoP7F/sfPKWFjR8n5IzVRd1iH0bELbKmn/k6yMuj0mI50j7jyjsFEL/AKRBE2rwdXg0tYuxYS0946mbKuMb2MSUQtIYrrG74N8FhrX7Hw0ktFGk2nfk2S+cppnlmEmNdFBt3ovpjSZEO4guYp9Zxlw+CxOk2yR4TsJ9i8x0myG9j2CpVnEaJSlREu3o/Rqacb8IooleManGhgT+ZuF3d4g4Ylq+CHHouaXTux8H6NYcJb9HXROiuGtnn6FwTRERL+8e08fgScFrCPgt/sbOeCClSGnSsiSYjxnkRDZSq9eCTF0YunSPjDFSf4R5B8F/DlFh8wm4UuLxoh4xiYw36Q3jVJse0y4ROjFRK/2JM0NaPcdePg82j7H0XN9Js5wpyx4b0J9wpxRfvDF0aVYv8DX0fY9LFLD7EvYLGqVR3CSh5hWMbdJwnDp/gmHxE0MqHAlpYeH8CXGQdFzHCHBMR+UPprEQul0Iu8fAbGx8Y/hEeGJC+3n0b4JoTqGxeiohbVxb+etCtm1CesTd1bjJ8Ly3M3GPFUU6H6eNdTcFq7e7esUzDpI4khMZbVtFNFHX6hi/bF7Qk2lqNpV9k4NpRgmev8FSSVtIhT1O1kPaa06xwV4nNCFEGtOC7QjXgloSf+ejqieVuKibDSNeNbwsaPLij9EhYTKc0NXhIhKocJw9xOE0d/oW2fX0MJLZeYq0xLL4TZS8K2n5vWGsPSwiYaIJMS2JGxdpf4rpHhdivqFwQ+Mfg2Ig1RPbEjdG0sQQsJHJCaHfD5w4kyTuEiCQl6N66cCt4JbENnbw3hOJD1D4x42IgtCkPjE5RZS2N7xyYX8JpnELqvIVVGx6m8JCQnBUaHRenRcfjCES5oRxi8o+omUhCPTdZdY8IJiWjXgrSIUx0YkaIorvQlVxwqp6F7gwaNZ7XWXkcY+zfv8ACA1l6K8SR5LAdI3/ADN8Ed0Yft8RZe6lxsS3f5FsWr1jcXNSbYnm3f8AA+5Kk8qNf5YU9GB1nlxGzIu6OI0wnETohT/QlK2tDavWZs+tM9HYxkdNsMPVGVfA5F+RNoQm0yaKyVpDZlrwQlNBVetj8LhLaOo/hibPJnjghd0bRFj3gnpsv0R+jEy8Y+Hqyj1ZbWEyw9/RAg0sJMgkJVkYoxpsh4TuxrQkTK5+D0+SLWPCT+BnFiC7hqZg3pmoh8PDFE6flnXxwbwlPghcZ8Ht+iPg8PVxwSF0b3MPWsqXRB39Hk7juELEcw+mkEq0acJlzWGj0fIlKcemQgucKLlw6oI4hLYybwlj6ePRiExaWX1lp5ms8FRtJF2MkRCiRxF34HxrhC/apH0kQSF2lsppO0ai7Zj37lrfYbbbtvTiHQWT+ukP5RMOqB6FstKGm/YIr8tg9W/IyaneFe/pt6Fj4USgu39+KsSocTYvTZOVIsxJP0e7PP2J60n9BMUTEiWiBfZdi6j8hcP7Fob5GM7i+gRdLFPwNmJCVQm7MUyuC4xQV1tFGbrN2HWxRbvmGmSM9WEoPYuFFPghGPHgro0i7OBs68JHh0aFBbF9o8HI0LkZIJHoyYhKT4Qlhog8RGszC6JFmELR5j3WHwaYkfBJm2P4Fh7uyVISmhsSHtrCFoQaw0UVtH8l0/pHUQYkJcop8QehKeHxrY3V6gnw0CWxPaIr64NtDqYw+VFCoT8x8Q1CfRBJT6N3G+HUJa18CQkJND4PgkkfoY9YujXyPuvR4a6Jr/AinoxD2LgoxC4KdNI+BOaY+/s8/R094d39K/CIrdr8jOohqRPVHmmaTSiNJbiSRJdpblKWw0aF75fqwoJwahOSfLaLCd2xL8CSQvKhWO9pOxMe2L0zc4TN+sTG78xldoElf1RaftdbQ4N+SfUhEQlUxpsOUnWozHS4Nhd2vNHDaQq42JXRCQ/Q04t+C4hdTouh9R04FaJbgkRoiptDSyb6yiTg3BWIezgsLp6eD81lzCxDp3ohjQj7R4jngzlZVJhruYbbGTRBkPSe0TOCRp4cEM4O/BKxCEjJsiRpGmNRsaEtDF4Ug/cOtoSwvWdsZ0p+xM9QtwWmKKt/J8D9FzgiK92TfhazezqeLDY9bmJXBa0Jc8EIXWeIS2JJUfR80dY5D0qQhC6h6WEQwh/jDG9Hh6lTogh8OcEekGodfDdEnSzEFhUnyMTrxs2Jifohe/R5+9n4NoT2LxjDcrPOuQW+hp0W3waeHwUSW377Bq5r8HyxNf2S/EjST0J6QTYhw1avoQyW6oRvwt6WsUy2xKxJG8T7w9MN8NUSYgp9nH09ZDngyVdONCNk2JoqPZfkTMpfDw+MN/wmG9MWhjx/4elKQnGPwT4LXuWyaWENk2IWGcQ9okNYVHr0u2JNDZsfCHD4PT8C1WSwSUGjppMP1FNCOJ4b2x0SU/JT4NqD2XmEQ63+dkmH9ZS+jiFzDuiRDeivhxfoQW0bqEmapKLH7H+SVjGJs2ITg3UvrBtfvGh/wduOsSN4pHaM6MVTF6fY9m8IfFgvhnq/JE6h8jad0INJIa/2N9Qk5Tj4Vu6EqzyhOPQ6PsqdFKhRokLsbdpcIBpQ0n0eFUUXD1j/AIqb95FfGNmXhyDkMycCfoaNGh4b/I8XzZ4SJjW6IVSJ1DW0JiWj24S1wfRauIP/AJoRuD+dHg1BPeEQ8v0LjF0mKijo+dz0LZdoU4PvTwkY/fyNkLyHGW+6/i+CEJXCGiG/keG/oXUecFhMehdWJ9I8Y0LsTN/IuibrfuXz8Y+BD/Auw2xI0HynpE0r4PwrWH4hGgmtGiwkPUiEgkcgkLDH0d/weDhtelE0oKD0hq5M9G+L7xfRTF8wbWGzosKtXCFpCmxFH3gvPyRN78wSl/Bu/hCg54NwTT9jeg9i3Dmhj8wsrOHCw6JtCOjdHRVfeDKPTj6EmxaSy5NiWSnYi83saG/ZHX+0RzBctbTFw6No+CNrQjzgiX04i08aIiUaEsMiqGiaGqoRwaTYkJHWfA1oWKeE0zQ+w8P0Lo/yLR6s+Db8N09LWxIqHgmMmExjR8MVF5i6PGN6zBH6PGKhPTGJ8YvgUxRFRZmydbGf+mhQlaPS8F4LlFz6OEHX+8P4PorH29aFIbqE0sINfQtqJViFM0fdlyxHt+xYQbG/9jexhcHo+2PRwXgyHB8Eaohaw+fvHwKYWiq4/Q7Z9CqYz1j5z0hpCL4OcJwfkEqPSKbouEC5FUz7m30EinvwVXfhreKJMmkTZINvwkZu4tg0mLjrFyfQjTGx+CSEvoSCUGNvHovNFFzLgungnlJQTsGceEjenSi/g2J/LGeDFBnoQktj8xR8GhKMSJMfBuiLwSlGxue5kohnycSwkywS2J7Y3jg84auLoZS6XHGxPQxP5Oj1B6aJvZN/rD7306LqhqVh8Qj1Za0jQqoLqwk9DWiHj+xQS2vyJFiYu99Lsb2Udi/BNEKhsW8mNjRAvsa5oeqJCEVdENiSGtoXg8upoWFDQuGqJnEdCZpnyaHNqtCb8G14boNFBFfnZw0VXrRvR4mVjUehG/BJouRGkMKPVZBu/GhJ8gk0G3pEoVUkK/BOImnzqPwpWVgR21/tEFopfZ8oSLg9p8CkN04oV3hzfsa8wY/EeiekJaGybVOusZNaE4UQh9RHoRD15QnUTQ7iE0yIX3hvYo3zD6XTG+C/JqUYtYh84efMr+CJ/sar7/DaY3MTo58DHtEYu5X4H1jmhLe8MZBcIIMXBiOl/wBnBHBLeEtCxWjkKj7oyY+BeGgvphLY+DpNC7wYWtvFQ2fFxuwSKGTYthN735ivRBbIQvINMqm4NVTCXPyScNM9IeImV4QQ2ViQw3s34y2lP7GFZY+sUX1/5MZui/I10rfZXbSf3R5/6AXlf2mNbYXKLCW1LF+2OK38DQs38Cff3E/f8IWkQh3P5U+HP/NJPaB1bWxBm2vxCglHZNpu3qmhq2e/EJrj/rGuRw1KlFSb4o13/InaJ/8Aei0Tddu/yw20QOpI22h1CW+ClrE9Er2jScHwflFoW1YIQxtHmOJiKJkolBFE+iXghLRMQ0nhj6WwXRr70NU8GhrZFsarEhI8Jg/IvRDNi4Imh8KOi0N1ZXZGaw6Q8H6UjguZSETFnTzmhfJ8HRvoRBelSFTmj3mE/wADGxkUS4IWoet54inB6Yn/ABTRRnsIaDWKTaJtYXg2kkPCR4hfHiQ2JnaIgsGhJoTJzRu4XC/eFvHIJaNzhRMT2mJ5drFsuky7UIQ0hA1TE2Np4Jy5CsVFtvha1PBt6L9s6+neM2JbGjKoqMV8iFcvyF2sWn0Pp1D4jhkdFW+CtxikrL+xvg8OP9iFqjLumhMO4g+lH5s8ZR2+4S3R2k6fOEhLX8PyIfB0pZeNl+z5JshMJEx8bIhoa0NCQkNVLHRE0IaH7lbGzehDwyOC7Bw9wtrDotRFp2YaPkVglhi2SK3EuhpVkexqi6Lnh7sT+B1k1wfkX8I+vPQ5wfo4Jj9FuxsXHinDR0eiWmJbIdWIhI18Yo3oa+8LmxDJ8Q4ibJd0SiF0ZTyi6NM3oi9N6PEXbJwlREdH5RPR082TSPyjaSrF6JiPY0eDp7gmIbUFYtYVsYk/B0tMSlYa020RkH5Zak/Yv/7mnTNv4Qi6X6EtSXzohrSfmOiJNLuOCarfX2MQ3fbEsPihB7X6N0cmGqJcokdcH0SOY9y0LC4JbN7EQR6j4PjDZ4ivo1tE2PUGM9J3RNonqwunrwt5nB/DxN4Ia2TC0JiSo+08X4NnJgu7x4jWh/WLoUGeGqLhK8NtGzaEoSjfMJ2fGPgaOUeHxkc5SaHzZrZCfYgm8e88xxQ3xiWHpCwkoR0Y2OCOk2L8CGJDYvhj1IT4YkLQ9s0JD1/Zc+jXMJ2FOCZ6NjE0ITRXP4RM4RnpRC6NIjuiOjJwuFeDXw2UkiLzYtzVjaFstoafIuo0/ljJ0XZ0f2PuWPzR/cGqPf8ATH9Z7o2utfM6P7w3uX/DG/1fyPnRDTX5aoiGo+tLhf8A4QnZ1/svb+npyz+jY56HMX6NU/xlqonYtI2L/wCZWPa1rYk0TSJv84aZLs8FtMSkP0LpCaFBj4NmniE0xrB8yz0o9jt6VTCPhD8/ONQvB7o9QXKeD82LjFNsWEtJE6JekcIeEFwTHc8Qopj0fD1Hrvg1hdO4fMUpB+Q8Nym5+w3pnWtC0xMR1w03j7pVMJaz9DPtoa5hIfSX+xahNl2x06kNVm9iHIJE3MMY7cJaIeCCfnlGb0Tgh9EE5hKXLY8pPDR5ikPUeDbJr9EqJrh8DaVOM0JQYiQcPDyi5Ld8tC9fvoQ6A2pLZEt8Hrj66JnRS23PobT/AFj/ANOfK/8AYkKtr/MEx7/SIdb+Qnrf9hI4CU5U4yf0N/o/wNvMHKU/wLvEmataRpNODt3YnIjwvsbLtkQmzfonaytIf0K0Lxfg+RHppM+hnek7+RLSzOjPjHlGnELgpMfoZNLCUQyrbYls9WLhwQ8LcPDwdYuJE2de/nJceTRyIbQsfRMbo1oSS6Kk+hnD42URefAx8R6JDx8HF+jZNoUrw9IR6ReDmtHy+zguiKkGLD5BrY9FPB8FRJw+CtYY8PR4jEPp/wBiVZCsvR+oaMmIImhrDF4S7OF0OEHwe0jsEoSCmhaRT3hRDEPEiKaYtMbqw1lDVWdIbFK6NuqNiexDe/0N3T4xXEhVaEGttibSPxh4k8bDZd03t4tF0d1s/YzjN+fBHqsQxqwUwnCFIX9YMYvB9Fo9EGJ/JMO58FwmjkwhrhvpYaENxDE6unp4LeziPBKsTRHR9OJrD4RoglvDUP0JRG14M9QvyPHhNi6PhMLw2PBEJv8Ag8tbGRQQlZN9OBqREPMei9Zu41Bk4Wi8GMeHpTakJsfRC3+hMWuEQ1IfJDoWmIbHofDo0hBdr1nRSC5iwQ1sQ2dNtjRB64h2nsF3C5BfAkh6OjE+DWsMUujvpGQnBi1lt8GiDUJof/OlQvRXHsEomqLDgke9Gej1hNivcMJNFUHvCHYhlRFEesbY1hLRupffRj4KGsuYQi4RMTREjbETYkfAmv2NDT6Ikoi0JaIeCUGkeCvos/BObyhD08f8PCbTHii4aYv+n0MQ3Ey6Whe4WPkYj0mXpobUSwk0Me/CVoSGcF2CPUNRHqNNkj0RUWiGPZ8CT5j2nB4hHEIj1SbPBrQfWhksEEhjOhIPWH08EJrD9Ffe01cUXCoZ6On7cwmUW8NjFSHuOIaTQsIb2Mk0Qg/gZGQRFBXj9i16JdPgiLSQxN0m6b2aFj2NYRstUF0Ykg2kUfBIXCm9Gh0SQfgvHhOD5BGmx+HhcKjTyxO6Pwb1oZVjQvoQ0seof8HzN4P38nRzaY3uGxdGiYS9HqCOfxa2ej0dgxdYWEeiMWkeHUIYrEi7eHM3hvR+CM+76TQj5HYTRMbgZOYS4M0NxVm7iDgv+jRN45j1CELoxjS0fso1WqJCaFhj6feC8GuDagtCLDVEt/sTZrYi66JHg4cTPaSNvEQnBLEjhSsVuGfJ4JcdPwLCHMfQlhD04Ni2hC4t+HcLpU7WLoujRvWNDUGlhJCdEP7LTmULZ4eTMxv9i8H1iaNMPhVZummxcWuISEMUTGzpt7N+F4/rHzvgnxDWPaXDVhMMuiG8Ue2ITL2hDQkOD0LuD0hNlHsWILSwsJfZNDcRuVHxhrD8NsShF5h9PcI9IJ1j4Ni+noybRFnUHg3UbJMOdExdaGPzDWoJC6hLCyyRcEkJHhcH4LuGeUTqHwTSTyWfQrOCUgvtYY8x4VhdC6xnp6K1ZnRLQk4O7IPn7NEJTLNhHmPRaNI8JHsFxYXaJ64JhE/Y3oTQ400LwXUSC0Xa0NcFa/R40Io02e5S4bGT5OiREGjkQiImsSYS4RVDxxExG14JCUx7hm/4MbLxEcFqDNCEtokOY9XT9Y9w4MTRfcLqHnzKNQ46eIXTxl2liUWljeJqi7nafBIkokpjg1YQ0QmhGo8JwaHgil4OY1o68veCUENbp8mtCcDw6mI9XJD1o3pj23i8IeQ8h8DuiXh8DuDNUfBcGeoXYamFwWlkvSF08NIm0LnBaTKLZoaW0LYhtfBR8RwuNKUkPgXRLrK7QhJQhJ5h6FBVBKQeNBfBlwsMfauE08Jcf0bGM6LZODWhIZqqiXWPwdrH3+DwuX6GNI+TxC4PxkGuD6cR6cMu0hHycg3tKm0zYtoQ2NCokLDDEt4/Y/RvYzZDzHrWKeYXMLD40UR6PuIeC4IJH1g0NNQXKJ6wb0Qqw+jjYjgj0+B+DasokPSLr9E2iNE4c9OTM4JYLh/6IQ9QY/CigurDsKsXQkPVFMJDYj2iNDovggsJJIbaPaSD0ISQ2cH7h3HCwtig1saeNfOJ0Q9kPjEgrSY5o9Ymnvw4FYJim/yW6Kx7KJPRVpiHotJti2h/5E8bNfGOt/CHwOD3BXf5x7hUbFoaGzgZG2NHFjocJgkN7eVZTrL+EotHpzYhLRScPeYWJodm8J7PDzK6QQ0NOjUOJil2Uu8ahRHlODag3rR6qX0TpNMVhqEE4bp6xrgvBxlVQtKCvrx9H1hJ7HB7Yzg3BN3ZdEEh8w3sWPUQ8f4wtomxaEkQWEtjR84Sx7ht+Ib0tZbUH3+E0z0qEns93xFaYmJGxPmH4LX9jEozzudJCGPESjYhY+Tlo5oWhvSOEGh4T4I+S7Js4G+DbQS0JCTn7HQku4enBDdgxbQkxNHYPojiFKLRc30T2ITcQ3oSpDwWyXzRRs1WfkNrYhDeF3F/NEbTMXAus4vuHKF08DFo4xBV8S+Dg8sZ6PCw/B9OLPwN7Hgx/BaSCw1Q6S5God/S8/RZ00e6Y1wsqEsN7RvHp14biFR4bEhKMu2cQjsOoh8n5JlMWGuHU0iIXB+no9liGtr8HZhs4P0Xh1iXprDI8PkSPR4fGFzD8X2bg1DpXXRcEcHB9NC3iEPgSw9YQ3pjjF4L+BKipEmxIfcPETRBcIjwZSiFismFwXcTQkqPGsfTEhJSmxYYuN4YkePZB6dZ9IfQX5EyI3RKJnRI8Qnal4NITh6hNUW10f8A0XB9C4hcxOjWjjRDOhc6cmN0ShJivWxrPyJRL8CwhI8jHOjUV7NcIXTE9HoiSwrRSl2TY1oTxOM+CC6JsfDibE/nWX5hC7TcZA1zIbP0HlY0TImxIa2SNOHwNRIa2JCQlRLGiCvIdGlsh8C5YJqolZ8nXhMfgxCHzDJoQmxLozooN7cLupU23hbRN0r0NHxMwXyi6PouInDxnBLg03mHaTZF/RD4H0aWFJZliWiocFNk8w3vh4JOJ/Yj0TGfAnsf1j0h3+DY0eD7lQZvCx/5ma/eOzHh8H/tJw6kzpNLGksJ8TFKdHrQ+olYlrC25RuWcHusNJWIjILgnRRbYra+h0Vh4NbWGtNYJRI2E8+hrBRjyqncPDqfBIseie0QtaNkOmL0LXi6Q1EJ66IgsiT5Y5PbMn8rDwpu4SRPgusrEBkhfGJ8C8JsZ8T5FsqTKhPhRv8AbJS8UawuyNicr+SlcH06UZ5foTv4xrprDwtLpdX6E8KvbEjS2WvGkMXRiafT9CGtY9KJE3o8GtElGevEhFS9PB6GX4ES3CULwcYS4dFyT/Au/wCiheVvthOfX7YXF/4sReb4IQ2NfR8HouoqhNCsyyP/AAeo2Lo+UjcolIE8ELE3oTNkT+BobPBMjEhLmdiPELhYig2Lpxj7a4K7/A+J/JxiYrr8j5VcPkG6L5Gi6H2/R5hdo/wbQ7HyOCqyt+9RJAk6JfRHAkduG9FVLisTiEhFW0I4mPbEXb9wntv7xBISSTFHKmxL8sLt0dV+tlbGNzULXPLi+BDlhW0h4dXBIQvrVNied18ht4SFj8Ya6J6x7iqfl0Rr3JAnC1L5x2x6f9sWNNj7EL3SlLHhaNCEhKM5imxMb8FwWjkEypvEiG+mp05m8F/D5ELveMtGNkY1WemsMT0eY9FSGoTcEiYQn15GKT5uf/wMO3ebeELzYq0J1uiKcw8cWXico9wS2MS6MWEtie2xXD6srbNQWIMnT1C+KfONQ9GIhGhZffTcxIIaGp5h6Rr/ACTYkiHB+fkS++iGiUx9DS1T1DRqiKCREU0cojSwlEKNEglovpSPVilF1ikF00SQ2KaPQXXBRsxttMtOCbZ6JE4hWlIGiXaCjSUR4Nsu3qetkagjYZOSGnZqJutxjaPBioMbEo4mv9DNyrH/AE4XdE0j0TL0QlW0PbcEjr0Wjz7GZFabT8spijjT5gq1rd1wSUjIIYm6zeVimpHSh95oapkaCB5o2lH1TUvqNNOX0gpyzG0LDZ6F9kOIVv4Gh7g4wxnwTX5I2PHmFSgtMTEnhrJhPz7E8Q+UclPsfFBf8z4bwlUbGxwf5DJbgvliWMb3RcNyi+xbYkI1afEOSj0fsSEVQbHifImJC4PTR6M4L3JujRRcIJIaWkeD3BiEfJwRNk1hduFxEGp0fgjxY4XQqMWL4LYxvX7Gi4+SbtK6iqfrCohlIXRse4glh8YkUpom2mbEuGzhpwSP9CNcND2N6wc0wfW8siS0e+49MXyMjEhLGzogglNL8sRW3xfsIySDFUnWMTdLPiGnahJkSbbeEjHGh4gy0s+s0hFSEqJhSG71sJ0sfk6XrearcRaE0ji+OXQ+mcYu9EPEjwLwRoQFJXXv9B22/wAm2Lo3KEISohli5+zE9Wyr9j3q1EFn05KCcQm2jfUyM338URLbpbo5pG2NoTf6NUXyxVBfkmhK7BBW2rTfbGmM6j7bHseWyuoawSTT7FB9G1DSEIXRc18iPa0XW6VhjTRv+1SC/IlpCVZj0krdibgoMv1eZ8/hGQXoq3OXnWIjHtt0tUKHRPmKH6GtPmb4I09oPG6Lxib+jsXc15BRFIjw2IT0YsJIQi26Y8PgmenGZ8CJwZVo+BpaaJoWxzDfWeDYsL0iQu44cGx7s2ImmN7InhrM2R+HgnBO1GxPD4yEYcFbv9DSovsfRYWmKPD4dp4ViSgvheCen+BEcEka2JRl1ROsMfokPz/IsejYzxj6eC2zWibJwfek3r4Fw3einTVmUbZpJHBrT7Q0iLOkiw3HpdgtV7+QJ7KbbENX5dDKFp57bLE6jhiE44xlXHfomaRHJdO6jW/HR0prQkkvhFb6VwVTQhIuzZaIprZRPQk0JPYhDbv2OjYxIbSWDgoyHhbbzB+UHjaQ0nGr5QrTqvyBLSC76Jei/j2OcE6i0oNOiOuiCHwSIRUWNVhsoDb9lkNhtr36QSeAkQtCpOFBKdPGGib+FSfzZFBMNJKhDic4jb/CEdu9tiY63lAudttkxVk0qxjUbwlpDkOmqMXfBJxv4VE3ZurzRItNLhRXhpQovCpbbOs7uX0Y1Rpo2IO380KNmivoe2cmvBJSeFGLR4LpPgZND4InSRidvpNQZ6XbEv6pNmhjemJKPCKobVx8ZWH6FGI8ouZWsnhDehEwvzh934Sf9P8AGhY+b8i7Ca2eY9pthNxpnGI8dZKzh0fRO5Xp4cQmhDVbG9n1CV9GPDEohDldKPp5+TaY0kaF0r4PJr7GadT9GlpUosYnokSLkR9zFCbblcGfknjvDWq8LrfCH3NbvNocqoJLolhtNf6NrlcjCqlb7SE4I4nNpxtHc4vySHptrCOURdnp08QE1tFdectmlr87HjRkYtIV9n4i+BIezbtD7Xw2V1GPRVWGtYz2qoqlGJY1JrrZ7d5GnSXtX10faXRTR1n4h7xiYnhNwXaR8dKf6iKOJEkNUlxbbtG/ge6LDQyFtL6EcDFnWmjIcP0RLbbOBO6G5bGRVDtbA16RuxWxSVXR+kPjFwQkPhiypr21+TEn9iJoSqDnC6txC5u/9RUVCS4miJkEEtnD8HqyRSfEnuPjD4+YcZ5hYUmKqMV3jjEPUPUISFoWEWstY1hw6GtD4jw4ifB4JcPnK8xa/wBYkQ9aJrpr5zzEv/SJHJsS5sYkJxIb/wAiWjWhKESNOCQh6Ez5LqtD8EOCw6LHjOHjNUpaNk7oZ8FSRrGhHyMvRdGhtk9+j4wioTwmaWnKI1Y1REwEkWkvgfBrqaU9THFYPrSIeCN+lpdjEjYTSSGTC4KNCcQzR7iO7i4hFfSHg8IbsSjtST7EfXFPlj5LqafDuAbvGJqcXBCaq/2jKVv0fDxBWkqRSEei2iSmn5fgSSYi8cdM+hacRQYhzaE3ZWqS9SNx4XMNO4nB2YU5p6PbWvvsMC/dz1oiqi0tI5MSrkNtiFnQbfwJaXH4QusS4RcdR+EOqqlPXq/J1ITH5BXVO0UGS+BHmKSFvVw2hVaTVOL7GS1NPqNC0qeHPCmFhIaMlUeDIv1nSRdCPIIbcGsJEpI6Xb3o+x7eNDOB0SEoL0es7Flmv4Uu8fOOiKz84T0MkLODetjRokHwWEtMQxFjR7hrmLpEUEtkScFIeIvlxNCHtq44Q8DPCYQ7oXuFpU4PothoYvsaw7hE0x+ZfGIhN6Y/MtaokP4+hLuuC0PaPSx04sIfu9Ghyo9VLsT19j3MriPRTQ16YFWnG0v2xCJhaFsiwSNCia+GNt9wm6dUlQpWzwoK1n2dcppLSRRfoZOKkIxLYmUmmto0qTSQxrsjiUuxpCW2Pw4jr8mdIpuJYSSZNIb2NsWerDrF9HCY+11LQyUV2+P7FfKcXQh8YhsENt/BXpVIe6H9+sXOi8QtPNUkj8G6+m4OqX5Fr7dNmNXRfkXRpsTiNp8JHtx1sSGoR9il02r91k33DjHgx96Ifgki8G6XeEOp9OHiaFtiY0tCxxYgu/siNRQqjdEuD1CdEzjR8iymqPSG3uHqwtsfEoOfAz3ENaw78D9FhNj0L5G2OjEmPC22PjOoc0hrmIeYguCig+iaQk5vB8Z0RdoaFjRpDQhZiLTjn1j4OsMSuEx4XC6SPnHjQuImiDxzDhOnpxmjcEJ8FR8whJFFOE/ybvyrII75ZWKn47GoxLe/4QUIh00OsTwqiFQlsHPa+j1kiPfrExYenYQ4fB6dCcPT4xISZEJP6wkls8aGhslOFbxMb29iECSZbUbutoRlZfAvT5wfdukRyOwJUhOYXrJdjbf5OLNOteDSp+KcQjLn1tsbKkISErFrK0io0WnB64USx3GxjZvuGia/eHmd8w+i+ziTOzY/+iLh4mEQ8eHeYuxvSx4z1YXS8EbwyOsa5+TmVjwvdY6U0Pj/AAJc1hf8FIIPhyHuX4efsTY3oT8wusbPCb/Q7IbEJG4XYmDccFwTiRYLY+nIW7wjhPcsRddElW8aiEOHRPuGyvTXIK0qgtoZ4LTJG3jwQ8bosQ7ubZz7EW6xdEQa/g5hHp4eYaH6sop8YREdSKm8Kkr7qwzUO4QzbGLsRYLY+rFQhNz+H5ESUUS0kJ4iwuHzhI/YvzwSEkxIUQ6T4mZuvkWGfeLxvG00dYuImF3DY6L3L3Ccx6Ja77n9nrHhNsQ9TGxoX8H3C68MSxdFFXtxD6XYjwQlonRnv1/D0gjmxdExeiSqOv2atQtaHwW6KFEtnweG9ZR84YsNCLCQ1xE6Jwix1hhLh+CaFofaWIQvTiGufRo6L3QkQfT4ULKkiVCcSNHwRNjehLWEuaxQlFV6fB5lnBeY8Rq/wfeC46IQhFNIJWDguYTfTRCW8LKw+4bWNpjeKIh0Rs6JQhD1oskFDNJJ9NGuHwPwfBcJsSjHo8ZQsavTibQGsltrbFNoh0a/0JEN9EvSJ0/XgtkXwK8z7hpaPCkieEX7LDZFej8npdHor0fCMTiWbiRIRs9GhoSLomhG0LC0K7PRYfgjTWJ0fDxGmoxJhbJv9EYQuMXozkQ+pjqovB/MEqQ9QqYuk7+cbPg4hLTxrBsWE8Xn2KVDkZp1zGz1Hv0JFPcTYmxXYn5ngap15+CHEeJfQ+tjbsovRImJ65vL3C4bSY0Lh709Jo0TtG4SltopRBDY2hdEapYJwT+zuE3ldE9luh6TFzWPBaE9HjOzD5Ra2NuDIJQv0OOUSjZCD6O53p4S2OujS0bwkvkpJDIf7qPiv8PQ0p23xDTp96k7vvKiOo9R7hu3SdPmQa6TaLrwXWfUHlvQ1sawukw0bdG9D0hIQ0MmEvgXMNnghcE/sZ0Vh1Gh6O7h1C5m4Wz8ITyvmYKHo+EQgS330bLqE2oefkiCDcNqz4EN9G0Nz8G0xjNAkR4vwcYh41MLaG6NtCd+Txs6xa1hLWHRZpxEpBrKWEeiWhHoz0VBupi4LqwxcGLovcIXMabSJsopBcWGpRJiL08ZBf0DohPgSJN8GjjxR9VZzBMvwW4eE6UomXR5plLwpeGj3WXCjK2IUUP/AEUPvEuNJCENaPTiZQo6maFv8oYVl/gjF/Wclpc0E5xJfhQbH044Rwiom0NqsXol0uEoJ6eHTvolw+cP6xwarEL0Qx1oR4M9HxkoqmN4tISXC9zSMTZ0aWszhIsL3CTEtofKeMWJ/rDQhjPl8nhooJDU2NeY80JAk2jT+g7czDEznRiWkT7I1K2Jjeh9QukPnHQuv8Y+RHUJHsPAuLBcXCooaJ/gXRIQjKRNDaTNEkedNl+x+I2F1HzRMV0sQohlxD6REJfB4JHER30kufBrZKc6iidwgkNE0JCEcNkGoIfzjeEiOiQljzYlo50S0f8ApsIZ8HCbOYrxoZ3CY3CiIMWKl4xJjrQ0hJ4ShBuY8GhaEMsGxCUhBVizN49Qlob6hk1RiJskQjzpvRBjw3MLjH6IRuFnSm02Q5jY3pqCbF5j350J04xtlF05UdiENxDF2Hh48NfZtJFNpC22hti0N6Yr6cRL5OD4caPByiGtl0eD6hIjwuUTDG+FOsfinB/6Qjw6Z0xabF+IjWCeXt/rCZwezg23REJh6Qgj4PMJcPk8EQ457jsGhiC9y+HiYvR9ILEJjpN4Zs+MIYsNmpTkGKYQ2jjei0fgu/wlR5o3TwmxLC0Nxj6Ji4j8C5Sc/Bpo4bVHXBHFc7+RrRR0elw4jwfBs+NYSohCFK8PgfhvDEt6HtYmEe4ovsrHRPCdTx8Hgj5Pg+yDexawzesVm9i0mQx8Hpi6dotDLWyrq6NWL3fcL/GE/gd4Pwi0JvSP0TXBLTIpB8JwWHXD0dovRl5cJiGIQlhjbGtKY7vFPNFdOuYeC0N7w42KwSIasJo1CcJw6w5oVbQ9M4tZQ9LG3gxcEkmzTw8Ib1hxMWEPCW0fLCOnhso3vQusaIUaaPDYkPD+CYaJocaYnzEzrePEKNsQunyer7eOiPr7F5/Bw8Zt07RInMI2PeH0ao1R8HzXwe46xaPUL7FHoQoNYWOtYSxNC0maiHW8Tf8ACHTYk+YfUJwpuo1O4fFhrsGLo9OEOEoXUPglunybChPhjSQ0/kfmPT0/QhqMmEKj15hbg36KaWFNFoiuHbshpY8cJ9YZyCo253CPTdZUMfjC4V4gkcQjr9j8FRpwf44TjJVPDU/wL0mPsWtiW1NnUso+BaHzHhP4OpYXjPLlIXS74dx4eIcIsEz5wa4JY8IQa9HWawhrEwxHRViUJs4THuK0LoypulEeM+PyMXYL0SGtU8Q+dFlraPJR6TOBrQmPiExtJTCEh90LhdbPnojrNXC+cWFE+jwn01MU7DRFgvR2i3CbHNHhGfAtLOqtYekPr2IQ5RFOPpLCfg6fGf2JcIx8xtz4Yi8IMiTFxDdYQQl0S2zaZ5R2/scPRa8LF+ynDdH/ABguT5Y3xCXRei2RUhnsejsN0QiCGT/YyiRHyJYt1DyYovPwbGLZ5rD4I4kerDf3hrS/LGqcTWdQX2ViReCWszG2NaERTCJ+em9HghEEhpYm7l6x5jVLiQe8eC1njOnomF5hrZ6Mm2e0XB7WGLHyfYkM3McYuujLYiCYj4YkPokhyoiJilH0/QniHMfB9E5lvaFhDGN6NpiZ1YaGeDa8esL44fsaPgQjQiRaG3KM6LRBJfB88w9qDBxL7JCb2eHu8JjjY6YhVX8C5lwp9CbpHs4hCPLlJkHwY4FbUQ3psfRM1HCx6J/wXkwn3/Ct4nc9g8Lswh+iWH/HqFvo/oeC7hs7DiEJGsSGjYk4p3+jdJlrXRCtEs8Tx8fgePUvo9PgSdePgXGPLLjp6ISwuYoxtHokkLjOw9kPMGbeF8DQhj6I7hcQsJFHhLFGHzHuxeJYmziwhURrQ0R5lEv8D1cQ9Fjg+kw26hbE4xd4Ku0figqbaEtEQ1rC4QmF6JHn8D6ljTglwfpohrawpo9ZZw7BcYvkXokSl4IQydNIh43YkKpEn449HUei5RIVxDe2J6Yz0TVHT2D5jz9sXf4HshMvVEQ6WCexeiYxcw7CXmGRvDeUenmHBLX8GPBqw9SGo8t4b0TQksop7+R+/QlhHpx8Hj1NHDHsfo1GNlPLg0JrCf8AJ6TDc4qKumx7/GlKmPpCC6dIXxhi7hvp8DJ1CUWLhZYsrMHo6/hpCRzZ3E4TeFxiWziZ+hNNl0PpoiZhEho68fGOXCaw9khBs8Qx1/sforRMd6KrDW6I2aIIXhafGEPUFsZ7X6OoxELq7gnKmTibFrTT040ei7h0aRdnqE+x3SPMN8n4G9YS4ISVJs8pOHEPwacKpyI6jdEQ/D1l0LlPUIfTwlcIkIeIL+CaPgh5ReDe1+RrC0aGh4l9PMeY8ghNibQh9ueCQqbh6RiwkMhDwRKxJRrFG0Ue9D2EvvMG4ehrawz3h4SDGS0nR8F/B8o48QsGJ0o64TC4LqH8n3iYSYljwe2neC02JjXBtCU4hibPTQ9sSrSoz3CDi1iP+sFj9D0hd/IhCXT09Fwo0zsx704J4otDIhvWXqE2IXMRj6idEPbRK3JIrY18Rvjrg3p7UMvREn/QhD0iHRrYuHwLo67GtiEkPaPggusVwZN08Ht4TbFw8ORFE9iXdi0cWENbQsQiSqLgnzD5vCEWVBeCWEtC9x4PGsI8L3QnhF/RsfRTLFGn+DaMWJ9kWyYQ/wCClR01MGyo7Bw97n7g8XY0hM6QnsYsaHxD4LuInBIp/CaJT6oro3eDEemsrDT3rE3hdOCno+nxjdExuu3ghLKJt5Q6hLXNGl6eIfyfr0X62JYX0MZ6LqEI9VJUMSOS4TdR1JwS3+sNCZSjLVwa+xdPFif7Kqh9QlYULvPC8Gprc1updxWkUZFbf0XYT6WlL0ehJb0aSOMfi9IIPSF8RiYl0S+xDehHExCQhfgQ05YNQQvfsRs8FhKDUfBDQ0PHh8DOui8uEsJbEhXZs5ROsaR8Z8PBbR9CGxdYtF0PmJ0Qk/4NcPDufRo8E1oWxDWfo1caKii0h5+WN4fh8h7GcYlhdrFEXTwhOFVHrHqJsfMP3+EL9mjKmz1D6sXn8E0eBbwmMNC2mTF+x9Owu2UjEJbHxL6OC8Eq9onBdOQ4z4R6NjY/Li8YkMbeGtF3r4N06LbCHxCZ1jUJtFmkcra7BjhTUfFRKv2OVmh/aQrGRv5H8DHILqGl8DMdqh4KmJ0fUR+E4xsnNDXBCwsS1CQwhf8ARiKtInxcn4nWfF8lWixnzmCP+R1tsq0vsgUWL3GLPf4J4RCQ4QR5/BRFovvMwkjp7R3pDwXIMfokLw3cL02keE5jncn4baEuEiRopuEz4X3h9iGN8wjkZ5j08FtYabR1jlPUTQ0LFG3R+Ig6hHB5mj94Q0xEwz39D05lD3BiFKjwTo8K7wma3MLmjaWlhKpISNpFWzuE9o6JE7rDxwojc42JCxHT1DwusUL0fTRoouOCFReGv5DZNU7OSCy/SHVOFqX6m1+WLGS4tDWcRwuWjf8AJsmxt00IqInr7F6LjNxEvyJP1moLj+hriGvkYoaPRGoSUm8JeCbdQlHhWDLt/wBli0Het9De+eHGL001CH14IWkeQXg3hJNYjYq2UY656IdmiUYhEyuHp4bgsNDgvCkcH8UQ4ljzGiFdCiKP/YmkRzHuOMeJomGMQta/i8eCk/RRQ2hNJDZ+hHgj1Xh8IILggketHomLuHuLC7EK3HruLhOtnILmOISEob0XCrePSYQkNEOCFqmjwSwtZXZ+BqjE9RBuD8IREolSEY0yjHhYc0LkwhYcgvcJD8HDWCF6cOkdLq5PRrXWVlg5iU6Jc0/ynVEJ70lW/pISdNLpMGbNtJWIvIhcOhrWhLgtCHYOYNEow6al0a2EVWssVcHhxdnrHxLNtqhYpClXdKOg7k+4N3gVe2NKAnL9HL319Aix9TfqN0V/6mycFwvw2iY5T0Yx1FhbGkBsjqYl2cE7+B3o9CQ2Lfhw4OZ+InYLkuv1Q7XhLWVoQiDEhLWEhpJYdbEEnpkg9I+CD9FxjEPTz8EEv4oa0LmYNYaFLh6QxDesJCPEOsRxuDELj2LT7hLmFxLCe8RDzdnyVTuy9/A1sm+iexiw1hKbJs6iq4XjPnGj4FlC8GJ7QjduVwXSifv0ejF39F+hCWhnO8NaN6J3QnT5Yu4UP8oRKhrYj1sglENix6hix4iFf+BUx+E28fJBYmtfkmM+qlJPrDO6xoLaVGxk4W/ruvEHiqaKEplsfxupCUVpFpYoIr0Qi7IPSNqBipXHG0a9YpcZKXyxc5CafrRSsIp0s7vl8P2xbRVEX7Yl1CnWaePQFXNEl5YmdprvUmLZOLxesRlXS75wb6TJONpjQdZsehXS3KKjIrkg7bL8gxcXPqXZwQO/BxaPRLD2z4DR4IbhY95/A8hKqJCIJCTmER6PMXCRbE2b6bNnsSJwY+s4HuokQxDFDf7wkNI+RdwxcwhRyT3+h6USuVcaEm3EL1RkfhMZ70+BHmIeiQmhLXSJomiq22r8saXe5XDxDNiEXePR2DT0e8GzZl06JRE2Lx4ROlWrrDenkzeI2KjQhraH5hPQ9MuHyLCWd6FhaRY3RvQqohKI6g2PotCdPTjG6oITLjNq/rCdRTjcw+dFuDSF6aGJeiR8/nD2RhF6Rr+sXQtJDA6uvwglcKuoQW99pKFQPMEs0tiNM+B89vEFNpX9uiX0Lc2Tf7Ei6YigvBNyXoYDI7qDbAdHwWcW2/S2MiI++io+gHzZ9DJ1bSeNCoSwkZ3IOxDEMTfrIOaJaQ6ziv3sQHN69MVqO7nAcu2n6FqEqsd0TQtI/PDU8/f2eCdY8XdKbqJUkMfkQdxX72bAjZ9hb4mJWoRHIsXWWmy+8TSNp1fImbQQh6QtkEIJpVtj78OeRG/CIWwv7MPpMUb0Jpq9XytrE4NexkOMRdno/CaEPcIUuYTeEtHbOdCRdS0ly0klHucwt+CEk1giDWYSCVQ9DotIKghuE73nMqrPh4RJD9iQsLmYdZKhqYvV94J7H4yulcZ6LuII3staFceYmh4gj6iFsUSaJsWWPK00esZCOIUNHuxZNDfxhIVZodybIfbgxHgujSZDdwWhpQR9D4/xis1FvZyFrxyIZsThf9CaTCdZU239it/ZUsGf+CRveEy3HF/Qyuiuvo+GN+D8LpEJGkxQ6Xyeln9FdG80Mq6EVFyRF6coxpvH/Rq/tDbq8LN2j4ygyqgzGqfdCiRo+FoTuiVoySTYb2r/ABdRp/tpliStpbiGhUu7Cu6qJ38xKiFxCcFBsLoquRuJUSW4Kx7zbYgCZt9aNNmcXW2ViEo74N/2Zl8UcK/4N9Fvg+J/yI56+9Q1YNNeCWx6Z+8Jn28SjXa8JwhIbxHXxbEb3d8f0Mq5wYtyIHJG2sXWJC0JXuHolQlvmSCZNiJLuME7Uqfo0vta/Yup4T4Iaw1CbOIY9rEEvkcU2cQrSLgNFWx7FjR2j6LlH5/JCPmsYv4GtU/MwSWLzCLcaHxH2jZPs1aND2b2IvhiYervDqotQfRMb2OQpYoI2ZDENI10+RkgkLVH4WpjLRpE6zRtzHjPMeCH2EJDX2KEjpdq+j8hraIJQX0JujwsXBupCH1HpMExLWxuaWHp0uzr4evASmUaarbG3UWeD2qUXg/DrCcYnw93okH5Wun2PjOttx9JDb1iYkVomv2htG5qp0962/YSsSiS+BVbEt45CaEt4Z+/B549P4ZoCa3BVbavS6QnzqJIsRxkiMPQBXr58iALNLiCp/goJy2/tbViidEKhMZrcJBXTK6mJGxix8CEn9CqYrMynH6Gls0kx/Z2CdVUa+cPqcZEP7tG6kOnKmxSZEk1grELgglWSseE1r0b/PCD6ttezo6Fx6Z1MQe+7JPskkToQTq4w260/AmnRSU/eH4J/oRBpwS+h9f0TcJscSvhMm1BTOkI2xg4mJHolTw9WJtDfGNNYS2bFhiE4x9KkM8QxZTLCi6JnwNHlFKz0iDfBSMSOyfBdDkp4z0TQxFZdMuziYsWJ7EJbf4EsP3QlWbxViY2YxkiGzwXg3s5iaqGo0T4xFoSJNi2heH39iXR9ETHvTrvB79OtoXosm+jfCKoWljs+2NY8Q1pEp4I/ZdD8JMSIhp/VRZziXIafDjGNnUPb2xiFiUfGXRSxy9I3CaJLx8Dy6qo7toRlyv9CUfeiVqrFc8hMm4Kk3+oaJb30xCSrEohPSneFGK2ZqjxW7vgR3sq19bOjFsh6LuJoWtIlEDqvWjXtNzrEPVoX6yjWh39IiT6RIQd7WyaIRBxQsBNTcL+hvzwS2I4KcDY9JLbEeNWolwT2oU11fgcFU9EytXzoXgi2dGZ34K/CSSG5lK0a6rhUWXjnPwMHVjHGm/d6SaFbEtjakjtJZdo08E4GtNhfzblV4LaV9EzhYlqZQiGtG6tNlTzaMPk9NIabA90+/CCfnwfGjfDpNDQx7x8nn8PVRfGJjqE2hiQmsT1Q+Dg/BdFnVLtKDRN9EoJbVQrfuG4ekcWFIRbCE4P3KOLD8H7FhHMTR5zwco2hc4LhreyOzgROCezRJFrQ0ev5QpReC3M/VRf4HdQ4jx4QjyZLwh4JClpdH0N7pR6TNG8NorF6Lqwz5KJ8NUQ9+4bxzguiPVDcxwTdFRYR+iMmk0+lbsatB151NrgkWURHwNHobW0ro0ZNzRfLpb9HLnCRF18RW2IdptsaXyxO4T3L8C305v7xxiK4Kie19CWzj36CCVh8bHrVisXwIqp9HqjJJ/QjFoh02xSf4xFexCC1wSrFUhCL61toUIk6immh8SDo1Ta/BrVE5Frg70xEmbnqo60pD/LF805ir6hW4NZJoIXqniXp3/fYu9AbNlNMttMoUuq/gaMpvF1I5/S8QcYn1GHZ3+yIpY1u10XbTSYo3yvYaTNH3sdn9xlakFdGb1QdpebfPlDyR0xeC2hDNiSxwPuJo+BnqELoxy6+CG8Q9KNuDHhuZaXPomoPiOnobFwSl2ZaiQxob6N8fJU3h92OCSFdE0bvnBjOM4Z5rHmH1/k+n8lgopNk6JbX4GyJDSv6Eek2Q9ExVjt0MXMr9eYSkPD6e9FDvh5BNVdEWPXyTdHofA9kPT5NxDui1iOPh4jqGQTHtJhfY/MMWhuI8Ns4hbYtNiZsaOKmtYb2ev+CkLEVjfGfA+DScNJoXOCKImENw38HghMYt4/0cG5YQnjpX+8KecfSZIqQgheiRpCa939G1u3qmzVdMEM26SYzKnfvZafHWEG2372tCcQ016Mvc1In6KMF1acpuVQR5pUfRGquRD1SA/QimnDQmBVVeti5jq9vliu1+Ih+r62I67daOgFOnEkR9ZoNvNth0ruf7E9bHbeKXSfyIfILjNktLrfDHU4z0mhMXf0PSp5RYSIN4WOPCQ20ii8w/C01wfgubRND4I8hVhhPhWfA/RRVIWki+MZVN/B8D4L0WE3o+WTBJl1pG6zbeOtiTP2PQ2E2JaHwTPV9Y3WI9EhUXGJHrHpXEgmj5ciaDU5aHR1P6SFUl+T1iFDZPsSrh8nh6NxLezV/WNCVKsZdzC6Ir9wr+xd6LrGzh7iC/0xCEDbQn0fTqI9njEjwITQksuoQ9YXp0RR4WOJD7iCZwIb3l7YhuPPoyj5we9HuzTpBLQlhf5xyjLdd2Nb4RGheGrx8EZVEhqaZDGzrg3UU17DlLXwOH4MKiSSiFpITschEYd35JlH034Jq93D6hHDbo/9+p1pD9vNgvFZ9OQLQ/wPuL20j4h1piA9KaUV2923wRG5M59kGtuHX6OCYiJEFqYnIPLwh9PLaRxvDIQmingxoY4aKydYhvE1sVtPfozi2XZuWEFVEPjx6J4fHGIXf2PohbYuw1SKYaVLwfSkEPJeaNYepB9J36EJqlGnUQY6SLkr+an4Jc+FfHGetUiEoRXvMcdJRwUggn6eDOUa0J7ezw6xi2tn/WTBs93jbH0s8NeiPlYaEi9xwbJqjwoPQhcw/FiGhCZ7mRJnB6/gvR8R1npohcIIfBKYaNI1Mpy5awsQXP2LhBcKOFND9l4Ning+nxjo1oQi7Q8tKHFpCr8iNfTF9fUOrevhFxvrsWkiiHNSa+GLts1sa0JDFwS+8eI3o4dEkPonsmhHDz7w8Jhvp5RMfeE4LQ8Kr+8Q9ROnjI+mzaCpJIY8vSRVG1WVUW7n4QjeFhcIqeTg4NZbEKD2JcJs/oiNLhd4TqT+z5RyJeIkEonZNdWnGN04FqHwUjW1f4iGtjWj5fRWmJPR2a1HykJammRb7WibQ3BM9Rr/AAO7wqJcw9CuEnaOp2l3mfw3crtKrhK/wTwjg8/CF3GhYSGvrDPEdaHhi2kLh4abwo1/f8NiW87Ee8H4Ph8EOk4PqElTmUPaEPGti4JY8SKPeNBGLuF1CD2I8mGMipKjGjabqgk0/gWG9/kW8JC5DxCZdj4JFufII8Yp+D7HC5aLtDReYg/4M4i/JoVhay7FR4pjEtiQfmO8E94S4bTF6VzBelw/kfP4QSip9H0fcy0T0ps4xSj8NhLLdP5RiW0TydMzVkxJJH3BtX5GNbv2aE717TRO/hsak7iHHXRHlckaLRdY+GybZuohNJjujwTykg+mx82bEJI3BI4F4Iux9eJ0n8GSLC0JDTFy/GPEeHjEebGcRFhia6bGtQ4P+HyPC6JvWx5aXxheEx4IMX+j3eOHyLHEhvohdG5BuNHuXoQlrN9TEV4S+Rob0eFgyH5Pk+0I4sH4JHxDUxIx4fCvWsfGGy7G4IaPs3rDEeniY1mjT06IWGhjbqSE0ssm3R4Md3+MEQfiJMLD0Q40J7Ett46QPhNkITaH4IfBw+fkW0dbOoZBcqNP0M4CExW+KaVApuz03CqVfCs5OKX9IV4E/WUew3NUNcqun2fFFfx24uRBOFg7FYcsSRttJLbb0is0/InUxMm6bFFM0HDcSSl0Ps6j3gsWkbPBcgjqKLWPRDXuGnGhDxMJMVTbLjx/kZ4TeFyCeiJjgx+QpuC8PCfQ8dPJl9Ecy4M9EN+HB2HxiY9y/g2meISy51nwMePHhP4FleFIxEw/CYmLDeHwYoilL0uuCr+hfwRtiUGcdHwv8CkHplwhNIqp87OQb2JN1i2ihCWi08CyJYbh8CKJTDPRaxrQseMO04lDmjynguj6LZHyyBIZ8NZIehOC2z4t39MWuvbD8PRBpbj6xv5dXxfI9q/aROaS9b+CrlcaCnugkEg7thEqfIxd6Qp/uISoX1kdNG0i2fVu2SKNwUNzvGglLsbaDn94I92L+go5X4hnWXv5MXXhaEdbFpf0LuHkxdw5Hh6hRKjxNCIJcEs6PijeoLw4jmO4YuMXT4wlZRiWGRlD9EJHwNfwop8YTWF0+cdLf6w9QRXcLuYU0ZHBu5RvFGhPY5cTaGRwg3T0hzJ6Z8i7TuSQ2Lo/gfmxuRHobKdWdGkzev46GLzWWtCfwKpX8i8pScEPoZcIYjtw2oTfDzPMtxiez0jyF0btG3CRz6EhDYwjVI3SaFXnfL/ZCsEiUIVKwW22N8VEheop1b0G9FJCSREpDTa2x9dFZklIfCE2NPq7RQ03x92O/wCyvUc+kcUm9CKs/IJNvEnY3o671aL2yW+uhLrL80voq6ziR1B4Lq0Jm9IpeI+UOmtkNtcFwcPBDOCehynyx4XiIhbGN6LwRoSY1SDs/Zwrx6Pops4xziGJ4Q+HRC48f+lI/c6y+o6GJCGhZR6kNDJnR8FiWGoXZwiIePHXMI7C6/guNE0Muv4uIm8fIss5DqGXYziG1hGsG9jWxbaFhvHonD3KSPRqY8eFhjZ0yhjSEtCOsaV/g8Etsrlw30Rukw5309CH5l+6GKs9S/s69EdZB9Qsb+cVyC+TcY1bLBq34ySiSNHykFKcQz0e/sPTODkvuCN2sD1HSWl1tqv6HU+lEKyakRP5XBU6Nx/j7aTGiND7wZcNfHLaHFSiTKpJGzVPpCTtRDgtNlUfgTGQpSJnIvlG94jMQVdPpiYTX0K+m1WtU3HdSVfy0NWwbc5glse4eLEELZ7hcWEF3DYwsHsXNjoib9HahtmtHrg+CLOz39bFCElBsTj4PN/gkdCXMsYyHGJIeii7hijwzUz0mFdlPRJJMg1MfBPgmgkMeGsofhxiPkSGhPWF6JDN09wxHzjgxcPdw2aQ+GsPzC6ysT2P+L6M4xK2cU+xnGFhwQ2JbNILC6ITr0ejei8FhDIPg3hHX2LmTVEPzHuEc6UbFj6NFEIbHIBrxjtQ8QV/yPzCYkWCbbGZRzb11t4aAqU9WCSK5uupiie9IgypVfHAxGj9N3aKrOtVi22Jyjv5aOiLE39l9x6LUNBcJpi4h8Q0Toh4vO9FnWjyIR1Extkdz8H7xDzHBrVzB8nuUIeGMmeuniNnqFjgj3C5h2LBCPTzHjEq/wBD1B24SGtCJopLCGoM02hcHzCJ3QqP0Z4LD5m6Q9pr6x6Lp6NbFj14a2PlEUuhFocJH+zgtosw3Cj8yoxQvBIe0dHaJpliGlNO/gmp84h1CRXZ/FdeNHhWzw9K1lnAlMPp7i9NkNOwbbaENwfWfBUsELE9EzV59/AyluUqLEz+dYMmg04lEhMm0zxEctM1fA60tEUS+ELSEaI+rIn6h57u0k+Ki6k/R2oRCEd4LFWF2Jps8OJ/k8WqapFvQh9HMTdPcMXBY9EVXBIRNGhdJnglG8dbIfAh7Ho+BYWWIhIhYZwSFhnyTHvB5p7j0iENYSGoqMvTioi9Gj0aemL5GM9x4MbFNim8Pq/AsLPf0xqTCXo+rCpT2mqcx1CF04jZ8fGHyQ4XcEhDT+z1FkJ4Lh6Lv6EJo6gn0zcLtCeyifuNHg8ITZrPcOFQ9tELgkN91wR4lSiYxClouxYYvkgnxj8ElhjFyV62xysjVdCZ7TqKzLFRLK9Iq2y1i0PgTRRinr+Xm6G/rC5tUS2vDtEyaSFm1s1wU1hKISYiHuF5+cvpeY8wkpRSJlxeIW3CeFwsceHhRdJRLHwdSJomserDFxo4kfOIJF2UeJvE0RDEmSDQxmxdNLC6TDPcLwYUOXFx4Pu1hRHp+xPmVCuQXbBFQxrR4SQfgkqN+DdpCw3XldFtqDIrjxCK8N7Gy4c9/guiEjtYvBtG1xYeE0d4S2uNBd2JYUwnwej1iGKiENbJskgsSwZTwWNdPfyMVghdTP8AwXv5NQbfRSYbfEdQ+FatvxIY5gP4i9E91oobc/yMb+kxqho9XDlY/Owm6LQjXBtFQts229CWGPSWGxE9NMfBu3LPhQmj1DeFpXKRr+g20L7IbC6hIbGpDRYYhzC4sI3cI8PR5+MLmzR6h6ZTiOBdH1jGbH1FzeDn+MoeENfDG9U/fmE/BPLHrMHhKYfC/wAHimRseXpopd0b3hYesa0eIR86PW8OU8F0tFNjFhHVj4/BvQmILprWEsJaTEsdM8E9aEL0S7hvZ5+ze8Lc+z39CSX7PrCIaHwTXBd+jehdHax+i4J6Jkuh8x0QSiPobcwRpruDM1aP7HWKPA9o40W24kL1NvrgpoTf8jD1sXo+fokp8Mm8EarETot5HzQxutCF9np08G5ESnwTSyzxYh6IdZB6FuD8h4Lgz0fMLufguevFGe48PBcEMLQyNjZ0Su8RdGQfceCZ304cwiYQZ1CaLsTeGsbgkhbQ0L08Y0jqGRXGziJhC1RouHlwuYox4LRRpYRYeie2Nrwoik4fB1tnpNiXGKKF4PsI4fBIELpxYeCih9iPgYul4XgoSzD4IfYXG8TYuM4xFTYzwqreBl4jibZHF5RIii8PgX4Pj8CWxquUXZDra0nPlIRjdzJv4Hjh4bxmnuzXqi2uifI32exzdO4eUhusb0h9G/sW5R8YppC4xXF7BujXMeo5/BiemNNdNpCEj3g8o4EtD0PiwsPwSo0U309PDE38ms8UHwvBpCY2y1DEx6xNjx8C8ETv8GsMRBdOrLbWeOjeS/gvjDOYZ8aFh4X8PBHyd2TYhDYrhejNYeExS49x6hieUNcFPj0e2UQq2JYb3+x9H0OIb1j3mSGyuiQSiE0l3uFwRDnRCw2sRC2GIXcOqnjHwVZK1+MfBocpukv7PJ9DuR4o3HC6xFG2kvyLjPRd4Ln4GB0fU8R+czChp8XDx/kvBUScH4I8Rog6Vk5R8c+BiQsb39kGxcEcYuj7hk6PwSOPhtLuITWCT7l48Z8HyRMo2+YQhBF/FOiJ/sYn0b3h+nBnwe43Nmqh4+TUwqMWCGcxpDIaSKNnBdTEJv8AZBf8GIPPo+F2J4YiYnEQfEb/AIPmfBcFhLDjZMJbKzxYkgxI04fZ6IcEb1hIxNXYzTjH0Qo0XohcY06e/kmkKCG0hP0bKt4XGLghaH4IXmFwXEeQ9Byj6GJsO8wTae2NLQ9uHrOGhYco5Z8G9HpNLKE4mIoMfT/09wntE6xcFKSHtmjSJRvpOCOPHWQ8FiteB2jGj4Pj6HwT/wBYb/0PghEfkWPMMT2hdFzKwXiwuHcNbwujGN7Kb2PomPDGd/h8iPMRwWEoNDQw4dY+8+D6O/IkJEUx8CEIJfWPR8JFjmFhnv8AD0g/MTCWjZRHpUMYrn08ax8Cwmsru2eCXo2IRzf0Lg/k9EK3fKLp6Frgu2MU1+CnVDhvRLjwT2dMiYkeI9PBLpeiFpIjPUz0gy4+PocYtpvHJ+RsXf0Q5sfR6WPXRbf8OiXCwa9hBaGLmiR35YvdiHRa2e4XDrPDxsXBeHGIQnB6bOnCgz/wV4RURNEVHi6Qj0aC4JnhwScPTrx0mu/wTNNYE3RbPoieJ9YZ1IuFhCTuENLHEeC2kJRJfJeYm2x4Y2dJv8CIv8FFBL3+L2zmPnD6fhaFM6x84Sw6oPE5ibPgh7h9/kTho4RbKfAhs9ZtTymh6PkERQ/B2Co2ojYhPDf0gui0eocFxE0jjQ5BfEFcI8RTwvPtES/vND5ZN68G9v6Gbi/J6TSxpwSY00kXTFD5LxCteOiS2LQ8GPfBe/ycTX4VNQ0UJwTrEx0Q/oVSOjQh+QpJIS6Q6NwbPYG3hfAz1ngYrrPMNmLbO4ujol8I9Fi7GzXziHQ0m7BpEQiIfD4N4bPB8wvGdeYia/eENUcszNHwbEMuVreExm5jwXMufwy/9GI+Dty8JYeEunEe0Z4zwa2haHcXYunwsLlG7/DQyCHCIuxriPg9EtnQo/KcQ9TfpRfYb4sK2zwxzFw0QmabF7+BLM0K39nwN9Hf6HtNCHuE0Q2fI0uIsLe5uiWuT0DtQluYb/2Ixqaea+SnOf6IvUNCdTX3ROpMfDdGkEopinWeJYbrOQ4IekQaGe018HycFhsfn0hnILZ6sPwSQoIVHIbNjreLsrC6PwWHWoeFF8oS2hdPoaLo0LROsSGvvEPC9YvRDsKIUHBOsY2WjPVhJ4SVONkEPNYmxDWyC7icGlCsbPohCCNF/wBY4Nj4JZhB9JilNb2fAuM9f8Ev9DHu4Q9oqlH08YkxLdG2MbEt4aILSN4U7n4GlotFThPSCF7sa0Gnofv4L38DeGx7p4LWhRYTEPonSHp7i7eIdTEtOi4WeC8HqnJPy4G2uLRh/SmSG4jafphEkfD0bodSX5FtDd6HW9R/mICk0G6cGpHoatI4cEVkVTPxI4+IX9ql10XgrrExNLHBdI+he4T2jjH4K6HziUeGbix6iJrHMOig2hLR1FKDpqD00NFEPwlELXSbZUs9R5lCROC+xiem8PiH5hcPRdw4/wCC5sapINHAhdxPoa+WJYnDVNGoOYf+niyx54esTV+BYXRDfpF/J4PHuHMJM69fBR8Ev4mN5hRaH09GtXDw7Cf/AAPaN84hDPFlIfGPgyfZBl4fAxISSGxPCN6N1fkaEzY/VlDx4P5+z0d88wv7cBMWv5uZdN3flj7Y67Ms2iSaaGZVbr9/BG2LXsKQNC6iJX8sk8v7f0h6rVZ6DyE/ibEkqO/5E4zxshrj4p+hIah4b/zhbfo+2N6YtNLPExiXBuPhsSSbZusq7x4LmHiCbGIZ1o9IoPJ8NnwXWFwSwqIX8CHzFvCYYtUlEsPhBIspYxXhw6Ifojx/GGeF2I4sPoxH28FBcRZBvg9qHuOBScG+DLMVYNvf20Lwagot/RR15Y+EY2Pp1MTjE2PL3+D/AIcWHzG8IevcQ+d03s/YpEeNCTT+KMaFwfRP+E0KCcLshOkJ1nokPqPAhOfgbE2hYZoet08Ets9WEi48F/tn/DUger8M7HhO/QqVFPlomjfExvanm5SKdavQSTuZ4lTYiy7k9I/U88hqEivyCz90It/5XvoXlBdD4Y5pudK9K7W22ONSX0xgX4nZMV/1hsl74YvMIvTTx3uOVnwMT3Bnoj5Li74fBesaYlj08ZwGfBqfwXjQ1xY61jTELwYvReieEsXYxISwlB4Ty5NC4hJ5TNCzzExDehLY8LuLMPFQ2eHmGxZ9y5BeEEsW9FEzV5llXB9KmqJ8wsXQhIcWWUfREw8R3HnThHqEMfB9g2enwRDQlob7sXODHcN6eHwXTk+mVZXmLocw3ofSv+xuMUcw40hqkhLWaVKHufArtiSujQx8XSCeyp86g9MJvz+Ry6JtCZnQ/FfKcGtt/oY1HdTFzvjiapJcQtkGyrSFuq2t9pcSWkJ044xjTn5QptP4odhvSIhrTxcMemMg/wA9I9m2Lg+iiQlvEpLUPF8Nmh9IPqrJUQ5Bp6fBNUjw1HhLwmHpMR6UYrtEcPViYXDrTH1nxhkJWEojZU/Q+I4UZsROlKaY8fDHFh4Yh+YdSPBodSFSYfRVssFcQTNbFzBnose4preGJaFmeiw8che4betHBmzx/wAoilGyDOM6N6E1NQbqxUfdH9m4LRpoXej2kXbLdLgn4e5TWxaHyUS4JD6dDN20vMXmPoXcVRk10peC4I2mz52IOFwaaS0N6n3Rs5pihiZjNp/kfg+6FeEE4VTR9MhwUQqZeE2fIm9/ByP7F5huYlKNcHtjZ4NtsXXWhJ/Y+oSxwvwWIEyi6eJPEsOHgjm8Niryz0QhkExHKeCw+HgbdePEeoeYPQqjwcNTEY+w7DWPB6XNoXRLbGJRkGhY9Z0/wRtBiRdO38EwtD6J8wkrcUROfgXRiQ8IUTPTmhkHRJ3HuEzdxeoZdHqKtl6ej6P5E8Lr/J1ZfceDext5dYx4TcjzUenbjxHB4NY0TZTmK5iCX+s6Qb3DRixzEd0dCsL+D6Ht95TseD3/APRrr5AdKOlUQKOhfk8a4zGuDBmaD0xU2dkPVPyBDX5R1mlIZpKCV8DLQ9C7+xItjXghi1iHpozTQ1x5V6Q4Mh9F+TR5+EL1i60ePCRNi+hfI+oouHpINCWz1/w3dG+U+Cibb+9GvFiuYRJSQZ2CQ9ZnCDQsWvKpuobEukG9EHF8hbY5/CO7GyV55CDzSvHsNBKw+DiZwXqEomQQ1MGy7kFgxNN8G5BM+aEQUF6sPHmNiffwXmPRap7pE3hYY2MY0dWGyl6bqExvTPwI2mLhExo/BlcGqWH3+CP5Ls9hwf5zR1D/AALv7Ht046ik28vov8l03T7R3+x9bKSE3/4yBVum1rRZcYkS2jon0j+xJ9Rfv9hCPWFq+Teg0tr/AAxBUF9oR1/0jZ2/Q2NtHxUG5pV/YmyTE0JprjT4dE+ouwuCW2F5+Ri6NX2DY2oUfg0bg/ii2kesXDr+h3ZJi4UaYkL0uhsrQuRC/OPBLYfAls6Fzo9HUh1YXSf0bgvg2bvBp/A1lfgfD4Np4/ReU6+4XERbLBuJHpBr7EsUg9NY9YpT0XUT+DGuD8pNZfcm+FqwoPxHohtxD8Yz6PAh7F0fScITpqHyPhTx4b4vvKGIbkHw+WPWcWEujeUbjG2U0xwNllOsYlqlNi8E4hNqC2jkL8HSJKjYuidg9oz2jELzR8lHuETtE0bbINi6hdG4PeHThnyNvX5EtfsYlfsVEl6+6HufTA7IXFmSlG5N0rulNIe7NVq2/Q2GkK1/Lj9f74kozvXa6eVf5bIDM60vSPV+W22IMiCT6WhJUXRot4f4ErjelhXohohUxHv0Svh4aK2LWsUZ2HQlmGtj20ia0KJz7PXhenPRdWOP+DwTwvguj9EXE2aPgM15jjxoSw/+YndnUJbQ+i4LB7LIejOIZ0WFod2il10oxw70PgxjhtwSQj06h9OvoWdX/kMa1ktXGhLNxB5p6fX1j0g2daF/BSc9Ni9GPqGhLTFw6mJ6G87oibYmNiRzhdc8FtCHtHwRUm2U2qNs+hr74xPQhPkXo5Omohi+fsXVsaFzZ4I6n+BOITJqC8G2KjvaNtvpVoffyxLSLg/gzkF1fkc2ba6L1iVQbSf2Oi+BLgmmcSPjFc6PuE6xGxv6JMTMEzsWFzePgSQiIeCHxnGjnB+DeF6NCIN3H/oxkwkaOdzuHwUXEN+EnM2JaykcHgyaFqDPD9l0i6otl22eF0kx7ax6hYYvB8E2zVEI9Yu4XqELehOLHwxCHw4iGJUZK/0eCuJRDYy7eFl44eirF/B8CePgnTw4N7Q+lUOBaCGx6wxbabPBdFpfo2+oQvkg+C4UTTFEV3FbaHxsXf0IqvxsadT5E/ts1v6NrHdYjcF39nt9mHiwibwrRCG/o9F09Q0ZYl+FcLgovN4J/RNv7R1waqHpWCpppi1Wz6z0vfxiY56Ji8p9m6IiG9rReCfYm0JyCetj19oeIqBCZ7BM+vo659Y9FlqXqK2sIQ5TbX9jEPg/MHtD0ejw+MLDFYtCZKdzvDZxYfuHWNo9QmNb/gz4/ghrDF6fg2SzG6j1s+xY4lhDqHxi4aeCXbnHDwNbFr+DWOpiD/J3K8dOH/uPR4R2bwwtpYdGd0Qlh6x9KeUWFzZwT0eIQjw3hdH0jmGL0+Bdf5OxajwdpNngua9FNI9GQtPS0Q7hvYhcx1LHGJel8xPyIbePifGE6x5TrnBOYqrOpfkfRLZGmQfacQ+MSHDeFI2IY8NNIUJRLTxOD8ZsXC7NprC7+BLeOYR8MS9GhbE6J42l7vF2zzCo9PFuGxFguREF4sdRq4d0VhrVPsbWmemTTrwVwfTzD6tkWGPDTJog8URsWNtjWy6ZSwh0Q2TDFGp80V0SMuHhvj/hLjaIPiKPEykI9wnDVG6xuQV/wLmGe44JoiIPg2Louk2xeniTfgpRlRvdw8R13KFiTHgnjSWKtYaTQlpHGVHBsZKoJNCPH4Fw8FGb0jSOIbN2EH8nSxs3f0eQfqRtCSzIheGjHhLeZzqjepnkJtS/5g46NWUZGu/J8j7h/wCxTXwJVi6YlUstlPTp4a9PgQhDGtI+DZfhiVOJa8E1BLD5mKMTHcPfBcZdHx+f4ejURRPC6JSnhEN+D2yJoSHwbNJDHh0+MXDEkOTLoUg1BdQ1sSH1iGxeiSEeZYlgkMb7gm7pIWkM2XF6PX8bw/Zv/I1qXEy3oQkIbc6Lgl3Y9BDW9iqYoNz0bF2iQxCZ8GiLsTE94gknXjg9pDrjE3oSjIeiHxCW2Q5j08OkR/4Gyno4senoj3HCqlN6/I/gfERG1V9ifHDwgx+C8/DPCIg3CbQ9PpqIqk+xPdEhDumMkU5Nj6/clyvvaghNAA9Rr1J40aYkPq0NziHrQu4S0SSHUMRxs9ysbaEit4laM1uYdPXh9PvDG9I8Jpiur4JjJ1/AmRC3jdRBId38OEY1Y/8AB6PR8HTY9ehc/gzoxLWPRrCwl2z4RwbG22cWYpThFjZBfwXhafIxNTo2qLqGIJ9IcmGuGu4fB8Pj+DPL5SiG8Jwb1hvkGJOi2buhCrcPTUZ6NhLX7PG/gZIkTgnsb79nG0eBFwuHuNf5OeFguM8P/BKIeHjHLBrv5OCE6KjfyKDWz0chN8PgVTGLhxYas/J033wtaRs63BY8WPyJtHv6Fwa4LEaZHX+RJmgj8Y7ov8CHNP3QmLtoaOiI3TplbcXEhU+hKwZtp+4amCaRBiPhC2IRD6eI+D4QgrMv7zGiV+pTqFsfKiuiTiRoS0hMaUYxErG+r4w0xuD4LgnhF4I4NsfRCX3hD8Jpj6bRDwZzCaxWQ4JDIN5huD14brPaLDPC3G6LqH/EQsMfqng/BaDEZUNoZsUmKhYfR0bwkkLonrWEJbRwXOjNYWVt+Bb/AIcYkkGxofmLINnrPgTiE9rC6Ne/RDrNnpILbPX80bPf0NC4sTf7Gfo9QsJS43Vvg0PqxrD0h4mziG4kX5GJj+gnti3GMukXZRiE6NM0kyOz4Z+WLq+2Rf2W3zZtuT219vYv8vKfH/wgjH+yKxFJN7cQnWPBTKbTFKITXTQiUGo08LcJhVDW/wBFiQ+Nrw8NIaNlRcTh1CnX8orK+RWiaPu2LxBJaGodLSeVjmFxCPCr4OU7me/IlVwT9fMfeWCh4JCX2RpC2oMc4kIyI9JtjjjTqa0y6G2XLUFMF0TEQguElVB6bT/gywp6hnnyTVf8bEaTSdQxtE3+sLiIIfEawpU4XCRVTxD6aonhyjY8O/4EfT2kYxxz8DYsLTxUMm9j8Pkhxo4spfWHBrQuNFE9U4DO04GesdCRFFhvmXh+DeEf+Hxj3p6MXWF1kGP1iSFf8HBPp2CG9/QushyFeZ0L3G1WNpqkG0haP8nBuG9J+IbRT5GiuaFCCldf4K6KFjuJiey7C83wT4MCj7foQxv18DW3tlGwMhkMHVjFx+SepCxyMhgBpPUMw0pJttk8uP4SsfBtNpoSgh+jthYFpNO4Q9e0jqYurX2xHcTiaNWx+IR8ngkLgl8GgZOZXlpN+idHVw1veZuJ4kaTrQhXD0jyfQmK/AusfdFPCNbYv8DMmXo7EILBS8FKWaX2MwtcEcUumybJEL38CTLT0Xyhnwe/oWFqDbeXfTTNP0WOBDeIOaIspvqryj+e8SZT/qdixvW0ekF9miwkPEeF7ghkkw4bEUY3hpHlH4KJDuGhj9VHEPwb2jZ848wXvcWNFsEVWF0/k4QlRweHpY+rQn0fyirajCWqxMptiouhmhbZxItbwssQol+z0Wkzi2N6GeDYnuUuFsiaRqHo5Spi9EeNjSGPa/Auq7DxjlzdP9jWjUbeFCCD4RxOHV+oaQ+DWk0V8iRUaI1CkNNqEfT3OlP8IJC4mlhIU43EKvYs7Sib2ipufDVinNr9iR5ASn6JP2J9cFoi1fo0xDV5IQ9oS+0K20hNb1JpeuPuYXbr7RFcl3iGrIIXqEM1XyBw1/jC+TaTG30vDR/satsfBfjSu/szt9FWW5T4mxc2Q9+UaVlyjbfgqZukOG1HC/W2Hs+PwJ3SQ4+SE2OW7xi+TzzdJ9iyLe4LpVpDb9QhRbSqJ8IaEoxsZxMYtbsRSkbY0SwhC+Sj2Qg2qM0QWtXdH8D1pwaan8UfaabC8KIC8N7S6Ogi6uEQXGPg0uIq38DqivVhFxBtDVJjcGSuGqNlhaTHINcOo5BjVSwnCI10fyR1C1fzj7J1iEuC0WIr2cY/D4GG90fUTRxgmmmiY8RwQxob1hHgXcWF1cN0ZqGuCPsXgzVhoWkeJnB0WIaIu1w+fxhdJs9R4h8ohsuqhVIUY9Z6Lrwh+fnCSoan9n5xwqKCPUNuIdqH6VfSVENnhcFV6D7D7r8sTJB7sN5jSSDQ56Y/6RN+0kx7bsrXbErr+UuRtoVoXYxaO5ptdxv9NInwJQXvcLtdtV8sOc+MJoSbY0ND3+wthNotr7GSXZaXyhoQ3A/epfIuhzqP8UPVY7/g1jlEaEXf0EFKV1uqOJil25vdiQnRS+hGoqGZSbtggbT/ADSuEJannSCdXzoze+4ygVrMvDsEpqfkKqJPvE09xz2TnwM+GiGUKGVJN2irG2W4zG/NDP2IWJHsbGyQSowqsvY7vLTfAltEtPliE+7kCiMy+kz9rc4LUXq/hdoTNi5pvVkvTTCPIIluD37u+gxDep9CNiQ+QlQ0eWQZci34qetk2KQ9E9G2sp9w+odSIliIJ8GtjanxIUrWk8x8YmhIRxDe8PwbHwukJnzrpwIiaVwmfeWMQ3tCag1qi6c1RbawxdGzqPWvo1C6TKEITwaLh/g0qX04I3plKiEhLZNHwNCVeh8GovBtD4STaH61hDejtr0lffBJz7Fw9LRpxCh5Jsb4E9F2kRWJ6bHWkeEy8xqrDtQmqXWO8JsXR6R7Wf8AuhpcU5v2c0HP7Y2261vYhP8AlhBag9baur6FmPpX1saD8HtbgJTMpwgiG9o+BClQr3nNfkm+3434HusTa62JjJ1Q9hbUvlnUMdRBAoki+kXrOnhFXe4LFi9EaHcFpt1Y3wTrOLS6xNbMIYPsriK7Buz0hJZ9tiZaN+TH0l+WgvjYbD/RInDeVKNfg2LqMtFckSQhJuK1WPzFyM3OzUlQ2WjdGPTaDwiE2ybG/pDUptifghpUq/2b30ooefRNzhbW6c8G99sHmhqJbOL8k3v5OTzH+WJCvhC0KdNtMdGL3/iJotAUR1N8qoXWP7T8Brn9qFs4l8iLcqprEJu8mzQr1ZGpJCl0aSE8MW2OHjmGtnHB8o9pLEtIR2kGZ5k3orWxCv6mPRvRwXCpi3ohI2Imj0R48LsY42J9ZdFomqdMfTxI4FwMWoPX9HwUY4holF0S2fGEN6PnDdHtzCM+fkS6PY3F0bguO4bx0UqPUPv6EsxjfB1tiQtJnjh4GbODtQttfVH8sV2x9orEek2Onh6oLrOhVFZNrCY1sSxxoYiwfWir4InBJNobVHUPuHq/A29MbWvCWhaUGhdFws8Oh5fZE94lEeE4IJvCz3RYm01SAHsFVoL84sEijbHEBqHUC/jiEbJIoJLw8RoxCKoaTPw3fiEoT116RP4Yz6i7pLi8Gb4uOFjh9dF1sSpyp4Hc720+RQtsijSEdTVTEnhWpCE4ysdr2IRVtwTLxM2nP9ikdCImL0TNbLjGWPu3XrFjXtxdggVbnS8Qln7/ACKbXCgpVS4if8S39sUhwwqRdqd8QvSpNFEizbXOLkyJJI/BVxM/Y5Ld7FloSJH3aGvFCDmu9zS2xrLJ9Efhto6QSEiU7gyYEKU7/hsS1aFHzaRsiVD6JRFGh31uIQhaNf2PKH0QjNtnODOqIsj+x9Lo+ISwQlXBcZuYrtGh8G74TaILxjw3pD4QXS9FENCENl7j3HbnY+ilEokTQjwdoulp4haNKv8AgaSPUezF0WMdSMUTE/DwYpLvp2CRMa29aGloS27jp+SK/Q1oSrQ/KT6J6yfZN/oaVgumlBDUIfAn1EmU9/wVJs9ykJjW0/hmmJbRYLeElTRWK63oRdFpv/JdoZ/I7N+ibrOAni6lFMdxgyaJ7Kao+xM0g2+ijNqTf0KS0u/kR/dTniZYJQOQLe6h8pq8nD3giCPBJYU6cehOVQu+lY2L7PD16Z+AmRiNtY9BbndOQ48erS0LYtLRbHbmwC2PQvmFJPkfXBvROkv4G6yafbEVVjdeIR6G6x8aFsjWp5C1dtjvBUbl93RckgPULpWxJiuxOCcYunDqlW2LNdNpr4Go0Ekm+CK3dG6OSovGOygnfZYmJOcEkfBz0Txi43ds69iW0KiUSG1gx+khNC2H30qcEUWFpi6w9vDc6Yz2x4xvovgg4qUXg+MTr0sOxCJlvBreHplouCJOHp/ZPRdSLr9HRvRuC6MuHmFOL090MXaNKjWitJilFu0iPg9D2Kwk/RLexlBtz4HIWr9XC0IfSK0es9SH4kTfML2e44yiu9nTPUeIcotL8kHISYT2j2/YujEi8wa2Lh8D0caRBaQ9v9noqWm2LQuCW0aHxC6PN5hdK3BdE9jTsFzF2xiuBDbjmNwKai2+E419i21X8zZdwnBvSE4JiR149wls3naqZIsOnD4HsTjRP1frWzZgPSzcFKavtFpJJPXIXFpIpC3qi0SvEhCx6kcfwx8lS/bTGoR6I5B7QiQQ0230ZeV4aw7xjaecrF5UyIT6S5PgTrtn9ESTiRDHSccZG2iTJEna0uUt6D11lrcVfVQwtRpCGEG729Zuk97GZJL7cEocm3GtjVIkXR/tv9DMx1+2EiprBbGJJLEOI8Q3vCc2WqCVs9Etj+mN9IPhE0sM2oojo+ENuvD/AAJwZYRoqMufB9Y8E4i4S4M9H5+C4IF6xvmPRNiaQ4VH4ybYzwkRKTN038iS4TWvxMMTY1d+R/EFr8HQtOiRGM2xe64XFaEx8xYzFr+it4pSK34Kh6mdI9HNM7H/ANwymq8Z8EqOH2cPIMZQa6EmJbEa2jhHXiVtEJq/pjVT0JfXFn2HI4J8Htoem3S6Mn2NWH0TI8ptx8l0huvDfpebw5RDdoknBRMuUMcwil9Lr9j/AAaCSul+S8PN0+lom00xHmGnPKVt/ocIjS6LsT0iUqL4+rRRgRUxWqN0r03Nvlj0zTX/AEhL0VaOkx4J16OMnAm1xjb77bzYtwXtNbGLlPr6Rs2kHkJpLi0htsNwERkm9ghNttqkRVYqtTEYURNb1sTYj3SOCcrcER+u6ZTlfCCZrpX4yGU8KhY+DgiG+DENdOkK2P02ODbG9dH0irJkwjkHBC3piaNRj1BiT4TYtCfC+ngmKz6Y+cwjwTGjmXqOpiBG6UePj8jbnRysoxi9x6L4pJiVoVp8ks2JJzQtyj4p85Yn6ejO35Gui4RQfp8Gn/QujE79HDScHGhK+jUmIcH9IpcoWicx6PpRTQhkEjVqwh8IRJ0nDXwes8/OEFTMlgkhjVEoRtnqGhL5EjQhDiJrJnEcnuHw0lso7iCGxiO8IeCfBhWdEXwe8NaGsJWcT7ELAdCY08oIShCM7gMv7il3ZQm02NihfAx0cc/cQ2ZppE26x1GUuUS6lptwna1m/QtsbM1+USTZI2oNlJUfwI1pDcXvifwQppbvQy6K4IJTfvoeNy25t+KJvpCaf72LFGS8wnrCQtF4L0bEtmw6PD09YjoxC+RjE64IxFs18CdbEiD3htVlExCF09CFoPguJXPv6x6ewUF4z0Y+pIfSUa3+iG9GhJMS6co9Y9aH7T3E2jlqLw4/yM178C2oLTREXaKJMXpyNCSOXC8INHgj06Q9s8MvBapN40/7IT4K8ZrEIMfyaEnTguIXCr0Ytt80dnDSHhh8V+Bcrwn08Ehcf5xxHn7wsKJjSKI8wkiNs9FicEFF/Y1vD6SsUSG2NNMWGxsZIxbEPBcRNjtTE6Ig8JakELuGxi/2I1NCiSG1hnHDYnQnKkv1yvkRSpCdjVFd6vnRVGT+Ar0V3DdNqg56Nw1sNNqrR7B4vrsPL2lj7EPaZVOjWuxsQT29kePj8jY3dlih1/g8Y1sQ87WU2XbHsbY/Ey24U0J/rHnRPRptjYnvF0aReHgui/4xFHw/oZXUbhm1ReBPZdlrTE/9GylENGhCVPBj5sjFwPz8EX9MYq2I4Jah6vhMkaFxOY+ND14QS3+xpJsTaR8v6wvM0Wkc/s40bG9L5QuYZXRCi+xob6IfUmItLGj7EmaEU8p0j0XGMfhcMkxxjmhzmX+MOEZ5iLDXS1YVhD1YWz3LZRD8Yx6JzWEaeGfJ4hrmOC6UlPCm08SU8N4JMREPghl0XD7MeD9KqQlIbx7hNrMog+Od0n4aJtu9Gx0VdWjR8JaFtiPIkJXbxjjTF8wdbL9GKfREtIUGxMY21NG2qdsZ49j6PorsfNG6mdbeGeie8KV09RzhpsYuMXHZn/0TjYyjHr9Ke4bZ4LudHxhCsi7DQmJWfYyEhfw6SFrX0PiEc/YrsXGbO4ZNn8CGqJoW+LHuxPaX2z1tiUH/AJGk2NMumLxFXwfDC2TTKLcG+YvRMqipUz0H1lG2NjaaGxcL8F0U4h35L1fQ1wkg+c9G9C9JSCWsW4Q3D98F+BLWXkxNMUh7PoT0LhcLpOMhx4TmGLo+0fyNnwJ6Ro0MsGlWi8KO6uEMkZT1D4LDOCQb0W4Y/D0WjRP7xdVCF5T3uaIW2x6Q3wYYk0NnWcC00hNto9KuC9WPRuvpA0j5E9j2NCxqN4Xp5RE2ahNtiHyDVR5IJTaKtilY2r08FpF2mff2cba9R40U/wChP1CE7+KOxi8H0bqSOnWc2cOBHdCcEIqT5cEM7Tq18n2fZ4yn54JuH7F1Q+BRN/k0Or+hPKdEmmhqp/jC9G7/AELguU42RDdg1GkI4oObNEhiQkb2NNIvsSapTouiZWPN20Ie+o8CZVf0Uoh8PBY7BMdVZxC8RTbY3EJX+sJHwJ6Z6XqEfBzrLzCeyMUbLWKQRgj08GIXwXSEmM8Yhl+8U5oWEJRIZRvhN4MvTePkbWOoltG944EiVmNDyL5ZU2JCQ4ITREehaR0J8HqG6PpdxjfceMVGtC54Ion0fGeQj0axuoXSDW2cbGtn6K3v7J09ENfIoNxX7NorG9E4bWzjZ27xDgz0h6Gui0LohknpZSCYnoehRj6bxdDSfkXGKqnGFuk5hPZEJVF5+MeM5GXfBniPBGtoQXUQfRj1YWuCF0m2Im0QSPHPkQ8Um2MhUh0m0PehjraeOs3pfZ6NvQ96+GQ+BoTPc8GW0mdSdaJ4NaIPmOmdE3f2PosX4HwouDw+i5Bjh0ihsvMjaC2xHoseC4L5PSDSHhtCTWFlrTKWp4eNUSPcocGzcEeFHUamGNpY0g2I1CPZ8HppI9HBW2tDKFw8En06htJDtR1CK7pE0cRTcZTkw8JfIu3D3DRBMbWjlO5Q5P3cPj8HTpOkiWPeeFwxtwXGIXBBdVY1Ro+DeFqj8PMJU90LhCuoR1I8Y5DhxrCx7SJtfIo6zX+DfR7pHKsu4uh8G9iqEehNsXn0JLYlGIRpZr5GyxYnA2inN+imhu/FFsTELjZSTCN0foSwL+Kc9Y6d0g2B0T/cgy+GxolWSSxwLtFp7H5hkZAV0UuxXY6eCbo2hnjxSs9X8DQlIPCz1oaJ28ejWEzbPgfT5KM9PNiYpro/MPuLoeGO6OBjfo9lPRKOCQ1z8CrHxDKTQnpLHt/CF1o4g1RHg38iN7LpYN4fzhuHSpt568ePC2sI+YJ08YcgpExtOF9NFR6jZsuj/wAFbRd6N7xwVNj+PEI3bK9dQWkTaZ4fO8Lf9ie3SkYlsQl8CaFwU4IrjZrY+Hg+nqeL8C/5hOP4RomJhvYtHq/OIuXm/SHJk9fTQmfPGR9DfbaaEKDQ0fQheG7PQiy+KfvIfGsTS/J8HwaM4IuxKuFqEP75cLbE2IZJt7GIn0Pa7VxdbQ7GNtnW1v0aKEhsTXs/oLo3lbYj6hyLEGLg0T6NbH8jcSwaJ80Ph8HwPHyfGU4Xw4ZozZmi54nhjEtC9EhtRawuCHwhxYT9x9ZemIfEXDMm0PsNB46cKM9xks4dZ4w+C6XQ8JnoohjF39DRDYlsinRcH3ou/oa4nmKlrQ3uCHrGNhPTKItiQ2qELXRGqMSG9o1r84TaPRI8VQyH/uFps5Th6PmF4fP5Os2dQ1QrROPon08/QuCnyJaGq/qCLt/TOC7BbWCRwS09HB6fDKbgoNbg73aCH8SJvNoa6QkX6I6paexvCEPbbJlL7vFV7+l9jUe/MF9CVEfIFP1DaaC0uDjCb6nn5FBMmbL1M2hrpTZ4OXHUNHf4rhfpDcW+xCFVFX7YiYtT8FV4EohhKvg56MMU7cBKYfRIaeETawloaY9T8i5vEw2NVHrR5MP8DUfDp60JaQt9NKV/R4LolD3F4e7GC2aGeIsOokPo82iHyTo+M1zCFGP022N9Ltiko1h9OdG2w/obONLwYnxCfMQXgvkQhOIR6z0SKVlH0+PwIz0fSOI8G9oXRhbPBHBvePi+j6xiQkLBsbGtHwPbE0NbROQsTT9Q+o+GKYl/sTNiZOkHIMukLpCHGJ0ifs80UbXRHx+BRGkFozaCemzRnh6LwfjONI0YuHBX0a0hr0JaTJ2OkgZpocqFs4+Ye/yNeK1tfnQrmKC/CNjc4m/6HjU5Wu4LbDVZMEFomm5qY69DRbSS7WhKjEj406h9SaaYjqXyOnbwwya1t3EvJoe1dbfykKh2ePxD5PSf2PoqFdYcu/mBVdE2XwybhwGT7b9NNXhvSZGviPaaE8ueoEa7vJnqQ6mbGqWhYlp9W20iYTT2Nzwj0hElmrg7Ef8AkMXR2FFWeaJfBWpUJ8x4h2F4NNFiEzciR5MLxi7zjx8orTYmND+DjYzFXBiVEo2M+xcSFhjlWGI6x6x7o9I9GvCRCXWNv9Dppob0JS4W0QQRBoVHw5D34WE0dZ1lPg4mPiRvEtJEhqvheCGJ6HsjsEcY60eZXU8aN7FRt4a4Nb/YziYkNinSPRBs+NnE8cZ4Tmel4MXBeCIWhPo9TPOnIN/5Q1KkqesQl0feCGnSSkOseCNRfR4Z/sTexi7w62SWL4ODtPo237Hb+x4WTT79tk3OzSPxzQRHXU5+tDW38sZQvoXebCT+wgW/SJCNzfYWy6y8GSJu1hkXUf8A2D75d+KXwLXLl+z6Iq99ZFydM1CaILHCRhKfR4Mj+r6oVrcW3pDWiXjSDfej18T8EJ9+eibK9c7XCYv8227UGK6lp/gXOIbr4Ma2v9IS+cSkPhi4LSE3oUvAjbFtfYEETEQy6LQmJ+ng1rEGSxMdE79xZsJCFP8Ahl+YzIxoxVIu0U1+vRaSGuh9G9CxD7jwa8+ibQnwqEOLp9HVGPjPhCbE3hW4XN4bPMeo9Zwp8IYnMGtIZ9F29kThSZWNjVETpGhLSG36QY3iKMkgpTZERbpdLDJBmoP6L9+HRuiPD/05ti5/BeF4NqE2aUF4LotCEtiG+mw24KeP4H1iojatFssmx+C4nhYT+vBe1ie8aSf2xuovNE0hi8JR1j7DkJCUbUEklkvyJwQkNyoX5x4x7ZDa18oT9EiFCPwLaQqP5UHcuTaD6S3+NCK9Wo1qnwJcvo/YxU2n+kN7DmoohFmjWfjVQs062nqFlAtxrpYpXliFas6SSE11W/lFkYm6x0xPwiY1pV6R2HJ39slCbpq+Job7NdprajKQn08DGu5dUZrG6qiF59PDem2JPEse4vyxPSKv6QuMR8o6xL+g1uG8qScSJP6jcNlWT/Gx1vTPyKg0r4JhfY0KsIrtn5ngWFmtCf69NnyzDjM3Qul4TQvT4ujp5tMzxiEr+mfsRdnuWx7eNI5sW2JJQohkw6deNv8ArE0Pwjwh46uHiK9/QujjZ6vCC0uCjQRz89EhLY+CPRPdGqxrSPaJKM6FplNqGzwTRROs5aaCarOqRGmKMN6NnwaSITh8YsDbbQnsfS0l+H/GH1k2vgb6TdNsXKPg2lPRpR9wuibgmesXhHv7QlzDehts3S6G9C7IO0WtjHwW0Kf5NyD20hLSIlNdIIXTWz3HryYuC4h/AnWbdSa+0N9pRK8Q1KNG6Iq/3RaMWCI6xO2nD0D8oSLiSLU9+iYpBbUPydCM/wCEJensnyxNtDuMTjf6RtfSdX0IkuEnHKW29FqC4NqNNfnC3WkSoiTT/JUEZK+i60Id9Uv9UWkLjdvCabgkbISQRWuo/TZxwJOw5gSnHRnVWv2oUHWiHaxs+iE3d6ptcQXTIm1rwia8PzTvOMViiFbZdStIVOCQkvxY1/sZFEK5w4g6vtjAtEMXs4j7HAnB8ogpu4nhC9Fv7Cn5F0U023ElW/pCqYvukMPSke2Jpp7XSC4Lz5JsuHv4Kui2JRiRND1w8F8/GPByjcRSwS5m6KeY2NjVNMaNHiEz0XMtRUd2a/wcWii90Je4Z0b00e4+WITLWhnX6PEXHp6i0Q9Hix4e4qlFtoZLQhS7Z4fTQkQ9/Az4RSVD0enoplNCYkool+haPlo1D1M7wb2Qu8PWhaon0Xg+ofEe9wNTE0jqU9Pkemp9j7+zrQ9C8EJxfsTrP4ehjHEI3W8JOsu0J6QnBPqFRcg9LZzeIz4kfDGjy3ILenGvtUfr/ETeohdPRTzjR2pG41sR2cZ5eV+zQt9rSniFLbsXl5VuIQdONQk6lxvpCMq2/AJIQ8TS+rGDst/EKzRqSLwJaGbui19Y3GqNCeumTTso3NKSs4mN3aZBSy/pUS7pSf4QypPjXWxxtV9pitEUS6F6opUPpWkLQSqIZxJOd/aI6nJYz8lnhMj/AG1N1+HwzZqoQxlaR0mhvprdZZ34GPRdTyI9I7/M+RKLohsh6qTSxXRbigANDVF3CROsYkPR0bRTXjITQ1oSUZjE+G4fAuj8ILh8YOuIhLuFE4Y2bFoa1GtDZPk+Bw+H8nyJPpqdLUMdHBrSHj7E9lSQzrF2N8E9m/8AB8CQd/yPDybH6Lg4IT3wuyc2P8eCNSDp1YLw9NEPuCT1X6VcGtoXUR+jsQnVhD/qE5/Q3pCoUpELw9OC1wTdWhvR4eMlPnZ8G94SxorSf4FYzxl0Py4TEPWOoU1h4bzRNL6Q4LDOnwWj6zehdFsbXZhLcK6vwXemJ0i80MTMR+GI0k2hdGrZ7gq/xQ0oktJEl+hSiq6zgJwOLsE2vgnbX2dsbKNTrf3BKMdoQUhRR1t6vg+WH6CujJPiHVSlJK0ZINbbCObFct/6hPWjMv8A4A1kr9xdFbrsL1jFFaKuMpDKnp6BBpfV8sWW2F9G3p0JaGtobQ1ymnfkqO+aF8yjWlodKTc/SLfggm8mvwHCy6JEJHPC4ThPY1aoxFHP1B9gsRXo/BBdCNTWmE4Jz5INaw3uD4Mek6TV6S22L1/JxMW2MQiT/AbWNDjThfp9LJ+T2YTZssJbeNosjg1IXR9GxvzHqy+EPYuPf8GtXD6s9SwmhdR6X6E/oe8N3Q1P9Any4fGU06VaQu5LEaZuCXBsfSvw9RvR+Remz1HpOCmhcOHiGOjdZ0Q1q9Qrsb2l9C6JptjLRPHzhMnUjiFInhyfo4l+iCVa7tjlTx68MaIpsS5omEiKDiag+C9Jo2XPo0SnrODwa2L8nohxnd8PRdgvRI6z3pGNbPsZRuop6J4io3veLewbRLxcE69Kz6PLR+vDEJJaJaUGrEvhnJfY9GJZg+Oh1cE74dYjWxWvUCFR5pnkwjut/PAqEw3ozpCt9t56PwX2dfKJS4aJE3L+TPMh+ZjwS/TQ59ZOHhys2774PosXRNDYLlUkJwSNm/Nnu5Pb+BjKk032IyTaWj9N14KL6K01JOt6QnFxfG8VRdohYHL0yNfC9rrik4OTCw42i7KqeveOM8N1I3r+CYZXRUrjiw6MW33wUj+2N7PjD+EJMbw6vBPQmJ77jVoxPSYulE2hEdwJkdQyxfliJD4Y3o9O0bQxD6KCexD/AMHUwW2Vf4E0QY30PgvMNbYsX7IRNibYvfxiR35Qk/sbTwQy9G+NC4R7f0fL8IY3S8x4/wAF0jpRYWx8mK6QmloQyuwc0l9C1cNvwooepI9PELjPBvxE2jdohcKPgqI9F0SY16PCWoLmGzZdjSDG8L6IktHqGI10mFfyL+5nX+WdZCa6WYmEqIqmkeKrnBLDna6JBsgQiabbk6Ni0jeIgjI2betrFSROLSE+Ctky76dBVPHk8Q/fxoc0Q1PhFbBfHsZEz2/YUSbfFtj3VJYP2tUfPRJUXwTpb70Oa2QWdTaTY2jjYxyXbV8HKoLTEFqDgu74O0XUjFb/ABRYfDST0E2jVNXW0OquCXBr7IMrR+M3r8ls2JJtI0Nkwns6haNbuCSQtikf0x9Wi6H1fglcGXbEkaopiiihNbzsNTaf2NCiYxW1PPSiLpP0rH6dFpP6eEG0xvsdV89efSJjaY3spRIiVnKNl2LR8EfSzCNChGJvHF+xnheDbHZr+heC7OMb0aQ0y6Th6JxjZ8l1FYeQe4dI9P1hQ8Qj0QtNnHhIn1wbE9IbLpi2zwt0bH4xngi0z1i4JvZaibF0W3BbQmIRMrVFwWyKFa0O3C2xoQ+jVxCaE9H04y4b9EseEqdPA3EKWPDejpa5SrxIasfmtoSpTS54JpftiWI2q9hyG5zVfFoT6k8RDdQuk1+hcFuFmkmVddKZOyW662iH6pG2KXGaxS8XSFf00lGr8EIt990fMHzQ8Ddr8JeCvpMkK+iS6OJe8YGbY3AZ72zDUtraRNCdfIxorkOrakn42xDv6FbNbfjQ4tyh7ynVgqa+jSjmhEuycI9fZMKwhsVG4N1/kUQJ1mmzl+D3D8Jo+TuAScfKKqN6oJUr9IVpn7PYpav7b2Fwn2DZCdhxPDbQ/UsP0VFCDE9LFtRUolsTf9iHsXotw6Y3Qhs7SpQW1J6P0rxxLD09JrB8G4QLXUeiild+C7P+CF6NlVHozrYrG/gukM/RujPiE5oXoqdFwWJ4MXT37XRF2XYnT0frXwfsViQ3Cw1TVFzDPbho1o5WPTJfIyqDesM2qEtMR4To6fA3zCOBM0chfoXGKie6KMaH0glsX4GujQ4NjgmhISGtI62PO6oz2XUEJAqiM3lHi8H6NVTOSJJfSRZ/Q3bwMltjba6MXgo5BcEKMuk/geXdZ1x+juetaWheC6kNqST16JNvRaU+lFTQiFJhvTbNOz10iukhW3xFZTHHPGIc2lIuLGRDU4ovEUUYxEjf8I27pFbdJahzhD16F6S2PSV2GlsoKjTV9m3GJX+zrCrX5VSFI+LT9j4R3lIVO4mJNtIo7vwIcG4LhMVOtQb8wT+DL+4Zu0p9OmxCVrqmu/zkUa78Fvw9Et/oeNnGN/o3XiN/bEUJm0P4EKJ9H6IlEfX0MiIQ+X2Loi/oZFd+BcYhvf7EbpS/5Qk2PbumeiL02SESniGlsbqE9NMSGPX4HJR+L6KLjjH9FEtRi6x6o+iOsXp48Ppvgu9OhSPCWsKonCQSJsamOMVQzbnVPo9QnB3f4E9J9lK/BaQXwIf5OBcx6l9D8aEtr8Y0QWljyiiyv0Li/BTxr5N9E9Dw9IT0SIVSZYhiFLiDx4+8QTixwKSjEhnBwqbjGKFS9oqihODPQiqNUXWXYsKtiZw4auE94YTzFIb0lfEJaj5GVe1IVTaASrX5QnLvdBsTWwUIW5oKZrVv9i2x4os0k2YhlwaWhLeVy40C0TQbnxuNCJHMMRAS1pHYlRrdCf8A7fBPzIkeGJCG1/IqyytE/kOuCyRKV+GxwKPTWLfyx5TOjoSja+BdFdtdlTzAEX0zfxNfLQl9tTopAl1vZLUE7P8A80Stid+JibQmJvYr/jBfis9EoM6LYdEd9F0iih4LbExTLNpNnTSb4e0XF+SHJUNbEbT/ACLpLD20ZDQ+xsPD4xOiVQuIaJEO6R7iQrZxiRC6N9F6cRRu4JqLZRIiyL5Ymo3vTE3smhLbE4v0NuikLvFR2ExSiVdNaGn4SSkJiGkzpDnSCQjcEeHjZ7RHh6Uu1rF0sLmIXh7hPaY309WW9ZQoelJvo/BeLLL/ALwfWIa+yarE9M4Q7RsbGzxiPTXCDUFD7OfpHiIMfyPw9F0RRKKSOUM8HwRqfbNaeyQSBvUDmvk0Lauw22otTgm2ap56FqfFFRWoJ3K216IcjU31ti5e6YSV/jg3yJWbZ1tb/iDK64daCL9zRj6zaHav7FKeLL+hvv2KnOKQjSNuF5dafzBQ15Emkz5VEs1SE3nKfnQtKnrJ/Z62LqHObeYtG01NDQ8UT52IxjXH0KkjhjJ2xJlfgc91PH7YtJPoTG1T5ZJLvrRVoT/0JC4IusEm2/png1GL4QiEIjQmOpsTymwsJoZfksbE6VwrTPHhZLtxUWDZ4htnWOp4XEPVIkjaEzZkjw+HzvpXWhDqlQqbHvrOp9Kj0oLqRNj0PFocFpIb9H/UK42KxUokVWxRfqLRFWhvBvKUN6NVlpxiNUb6c/g8R9Gph5l8v2PeEj1C8GR0n+iaFScuHzDNpebE4y7TebuFKUTwoI2ieFdEn/gb1f4Ex9OBjR4TQhxL0pK/yJM3EfQjSQ/yPwbF0Qf9CBLoTSd3QwE1eTcOLC6X5+BY/GaPTO4gyixsuqLd2y1agKKiUkLpVd2l9UUfxbYsdcW2xzavo+zQXhsO5PyWhm3RZ03vf62NRFdC/Q11zH4M03vhqGrGMctMEqm4l1sW6SUoTvZv2CSbIiRoZaMbSXRa/wBg4KuEpJJchIukE6LcPUi3aki+nC1i/wCUNHyZu/yxr/J+GF/0uoVubK+URy4T2N1hdF9I3dE4jfiDmuxFsQt02iIaTmPBcIvgfF+RCG2xdp84SjFa2eG4GeseJtYfA9G2mj1DH2eMTiG40cb2JpmjrWH0XUzVZ00obg2iahOTwS01rpoyHa1htJshvY3tCQh9JjUE2mLon3Q+6xtbhfGyGkIWirY3yMuEI9fnD8E0KZLG7BLD8nuEiHg1oJaYz4JwgyVR1U8WVxYuvs3Tx5gl44NzEQlvJrD5SMu0h9RxItQptNJp9TNaP0uCr5QkQm8OJcENE/JrmjvbILE0UdFdTpPuFPTQnRMWD9Gd6ejHRKV5Iq9ow0aNjwsfR40L2tk+lQeZN0v2eE6rxDPH0fS4RH8k/wA2L6it2K7+UrEtNr1EcqsNY7Lk2HtK/lag6b+CUi8ppj/Qmym9hbgct6TVZ/8AeLbxRNBzxqRrqSEv1jYnYLBueeihNtnGdHqnWzUU0fZ4MPoT0vyOMW6LohfIz0XUJnp8E1w9C4IRS0XTvcJcQz4p5rHiGxPh6bLp/g2PVBy/ZkdVHp0RRJlcLWJjtLp7PA3wba/ssZZqi8g3IjiKPg1uVQc3o1Rd+iYtEspIgunlEtbwuiIQuolEtk0mJiFxYo24hvi+zTLIP1G9EPsu2XmG6sqqnR4Z+xuJL0pejaGz5PMK7w3FhUUeWxl5im4xNLBdbLtl0j2o9ymM38YiGxPbZsfsr0MRy2N172n8jIls3pdEtHF9j6drQ21OiuC6j2KEkoStLwTUFxD6JCPZsgzEKoXKtEouVrfJL8I42hsmS3teGkbahyXNESqVWeNiCq0xo1miOtiY3kGg3Hwvb6Pe6kscIVepMb/R7YWCa4JUvSNw6n/BNUVFyiSspzyuxQQE2IXDrSIOKYiolt9FrXYJ8w5TwXBPgxeZ9Oi8+sbFaNxCbaNkLUX2N7/ZpiST38HRKcGkm3wbDXBJVPgalhNCEaPuEY1oSEnEhqi6+jsFFDbf9Ed6POkg9KJF0XhqeHEi6xUomMV/Am4Xgq2IuxcQoj4G9FuFKr6JxE20MrK4LBNljG0eEbKGzLstxdJDdFQmiaEhocgXRisVfoumJmz0pTpdicKunISiWinR9afgtiFwfBvRvTPXlPTxRcGTeuDe0OGhf4NdEvoaSTEjolQ+7Ehov2InWI/8F8lQ5NNFtpDavB+ChfP2LqZPYd01Vr4IRPEUSQ2UUvuvxaI9KFGxwUJhKg3oot/QqZIvBCkWF6TjOTYPW0J/0HRc18D5ZhHClZy3ReY5IUjmd9+Hf8CV1CensZd/yKoXZdi9PYfQaiT8E6PbHrFGF+R8ghPgsTLaehGiSOPYvBJ9C2JaPR7aLtDSaT4pte+Hhxa+SDe1SaQzUYnpk0hE2yQSGojojouMS+ybxspy/R8kPWNVaGhjWhLjE1Fyi6caQ0yqm1Fw8Rsywnj4KTQ5cOtd6xI2/sjSEYnNCbw6PmvUOlglEKDFog5SYQRW/JBOlgtitw6F060PTguQTItkxBNiWlRIuWmhfkuxLXcITHicQ2OcOQ3o8EQ9GZwI6JEUWooLjhpYTfROMN0fEKb84N4oh+imm4MWxvXC1iY4bueNIoxm/EhelPX8sauAjZBogQxp9v8AuWqovD0qQb0cEbNkCtsGxfwdqjR0vROhbhaiVPuDb/B4/rHuFv8AsXRm0dFwTFw5DSFwvcx/GGq30/8ATURKxVEgm6JKv7Yy6QnHWWJM1Cxb6ObKtI6fIi7S+hdxRHo9R9YpS9iUSGhyC4hcF4fIk6xdIk/1hkRWm1hS/wDI9ND6xcQuChBxejLcOvwXDiFq4JnpSi62eDPgdQtkPhQQ+F2IbKMMJjC4PYx8HsTgpablEu3HiH1jXBDpKOtMWH09fgXEMjhGUS9vhGdZNm4QfYuIdfAhLhNSHol1vxjTX+BvjJDofP0KwRR8GN6G40Lh08RBtDUSHeYTHKaQehdP8Fl16RjU36Wn+QiakSSErFcbOh8+sn3n+orhCtQ39CrEqKpr86F6xcGxImKm7ZxOObSobjR+0JPkTpFUoJfka0Tt9EdpXjQxwR0me0evax0Ojiyx9ZBVkxQtYPXja/NLaP4p8DTX6NIhIa0hOoRdLCVYr8/wNUXYWtx8GVXxSu48FRW4fBOJlx6NZeOZfg6mxbKjEfAxiYvBI+T0fMfB0hC9PB5oi3Gkv4NaOukSQqrSEbWKOkdp6hcDh42TgtwbG1RsMX9BaWGx7NJolCtEI5hIfR+Ia/0LSEfsfTRjaaOObPTY7RDYJaf5GURS7G9m36LsG9jWxIghRfY/lidZIJ6Hn7ypxU7H6ja1+whXTDfEFel/tCbxv6Gk0609pC/PSPg+EOC9yooNW1eCSjokPrPWLho8HEVETNREWvRK0tm83wLr8i6PEQQT6JlqT+jRpi6xrQuhvMTULsfRPD6ynVwW3jSxI6TdEUd2J6gvXlRDe/2NPRfCa/eExY+R9X5H002P1kx8CRoSP36NqCNlWTgixHx+Bl0LYyiJsULjSZKmPqw+F+MItTxdIjPgS0n8m4cLsRNNdF6NkFcKHmHwuz4LvHgxrF2TbPESm5IKiY9tD4fJoe0jgKQbaTHefxXBrhdC+Ru6OP0NEE44JcNHo3YJKC4PCB8Gha1B68HoZdE9F2zdERjE9l4Lo5ou4aCY0uHx9CRxTZpkh1JjZpE+Fv5EUv1CfTnE2Snt+JtseuonV8MjaaROPoTf0Lja4fH4wl0XYJl2hLZv0iG/ihT9EhywzqqF0MUKnB0+zEi3ezqFtC6MX1m7p09YsdoxWhKTF8WOYKaGhBXn2O0emDw9Jsqi2Jbb0XQ/SY9OUTKPbnlHYz4+0J0XRuBcQns+h7IlQuJFUw908YyMjUQhkUY2wlbZsVFxFwTUYnS6H4QTeObHylQuCeUiTUQkpBKJYW0IQuYQ3RbYk2PHdDQufV4bUOBdOQ/X8M0QS0hIQ2zgmJ7/AGfME0aK+i7KJqMumz0fYttIaNr7OJZm8OndfYtf2J9I0dF0x34WGCjwveQbGbo2mqcGx7dPmLjc0ItX6Oxj6LR1l+xcD+GkNmlqmJNEPuvkdTHaQo0qbTNSHFfg7UEiPSqxMTwMQmLCsVfYgjehCEdT9PtEiR03I4lKxLGqJoS9G0PwXyNpJ/WJDoW37wvRi4eL8D6PourHqK9CbaGf8Y2om3xjPjDah4FHENHuPRp3ouDWp9Yx0/8ADZJGL/uLwh9ouCG6kJbN0hei1oTW8cwuGukosaQkeiWxoTq+xSfhi3hcIm0LQ1IccFY7hBsmJvHEWIboljwn2NlF14tLsSZRDws6LpUYiilJxQW8F3D1cN62LonuFsePKJk0XqKeBt0VDbFwQtvuHR/LC48Lw7RnHvBLZBs8F05+aNotxEnwxnvc1fA9JHUx+Y9H10YnKeC6Mh7i6homxN4U1GMTuWlH5EhI8DE9CdUjgT/IsRRjX3GLjxrbS+IQfTi7jfBXoqDBrUPEvhwX2G9r8CRXDVX8E9sSYoNODNMSx90Qvh4NtMqei5aQnwTrE9Cbn7FcLdh4ZeLDax1oc1+RVC6JrYpBvQjreGI9YlxYXw6ySnEidQkJHuF0fF+T00v7z8CpSjVX4GlGMJqYXg3BdQltkcwhIbxaNlrmD8jH39EHppH0LvuG4xLbHwTwoT6PkgyzDaTL/R7+sLq2JiR4kPo+z6N24eLCusLSGM6oxWnixbrEomNr9nsH6IhWGrUN2CdEivYkN7Q1Ri+hcokp4j3F2NYdKo18no8NbQmhqidELcGIb7RN7o+KCfNYnSDKJhFbdF9xPyUR9p9+NPrFyYam6fQ+/rohwWxWi4Je/FLEMXh5TcfELeCY4SHXRJJDehMa2fJJ6MghLf6ElRqoeHB4LmI4JDbSqNiDp7jym4KqNzRVBvXDwS7ii6RVjZj7Sqji/JDWphPYmM74MaPg0sfZP8YYlpjQ1waQtjU1lYO+Ho5RPBjTGSbElKa6Tg5cPpT0Q1WKw2XYkJY92M8GzQp/4IdmhPRRN7Eyx7F2D6jhfyLtpOCHfnG/0JttjdfZ9m9G0ojZesXVfcM8QpAuCdSQ9Pgt556abPRyjaLobNsY+/ofRyoq8G9oQbwvyM8ZpFKNcPunSPRPDwngcf0JnhCE/hbfgzKMxcXcHA0I5/gumLkb3yrBqHprQvBbRxweytGyDfMcuHA+/sUG9jng2XSEI9TwpBQbgrSPDXWPL8EjGJ6Qh6hro1diWOBJpC8Yxi+xrn5EsLn5Q6TwfGFaJm6XWG9FQmeiy2LhssY4LqHx8ejXScEGpn1MT6hDfwNzB8NogtGhzo3w9N7JwovBPD6hazqvY+M+N5JoaHpEEp+x5sfHBpwnThL76PZa0PvRIxsLejgtNkT9NBHmKJRCbbNir6LxnmhLSG3RCrYiIVKU9Yl14OX8l0x+bF3CP/JAh3pHscq3osYiZTmhusa2iTnyRfGE70odoxDxXCEd/giiEIbP4xnkaML0bX0QvNikn9lOMbSwjRDxNo8/RZlStfBuv3iaJRAj4QnsqbP/AEWqNb18CGumqdYfW8f6Z0PUEuGn6ah4h4bSQ2eC4NaQ1j4F2lgns/lDw+wUuEhPD2QmuEEnaQhK/qHwbozwqdxtNUTYuG8LCXCxj6PruPaJK1HRoc4yE/kzVYgXRJRYfD1CouUb2UY0oq2Nr1jF0u4USPj8jw9elDbUEtL8HG30NoTjG2a7LSxCN0uixDJ00b0LCHfT0biHjTQoKN494ei6x2Hz8iSSbE9nyPbTp7S6PX9G3hcGnBa6PWt4h6NNIZXIKxlrQ+YKsRwRYydPcL3CEVnGMWDSv4P2ZsH4hXWhdyRr+i6E0i4bw6kx9wvSbEa0VF0c/stT/IltbJ06Oj0XDTWGJYeCR4sJvB+kIv8AJFcQ1S/I/cVdI8N6SpdF39HpdY9NOo1RFN3GtDfwenMXF2M84PD3CW6LiwxiQk1lPeEqPTKQm8IZCC6i46IV0IcK2aaQ3Yz8D2hBSlGEPqOIuyjaz6N30qRdiffyVwSqxob1CpiXWMRyicHIJdIsPh4rG3EhynENITrolGIoNa6Wo1v+FiM9O8mtpG31eMSbSp40QQtuYvZ8ibqRIjg1r6yswhfXzivJoQofB1HGNTOeGw0IsOjcO2NfRIYdn3BdHxsTOi6j0e+D1GL3CE0ybw+iGv8ARHJjf+DdweBMXEVz7FfwKtCbNxj4xRQ9E3z/ACJ3eKVFdGzxixH0VLBjwljehiIIfcbqrEo+BPbKI4Uo+FLWagsQTEM+BPeXsV39DfRMtGmaSbwkPUw+kjGi6PBL/BjiGylqn2JO04iHdsUUFSbNiFUx04fKLq6w/Rsp4ypoukOo6Ll+i/R9CY33DsEUexN0iNjI9aPBdQ2zWvoa2PhPNl0b1vCKpW8FUuk2xMTUSq0XTOs0SKhaGKJMS2j4F4zzCeEKiNYXbhfwmEQw7S+qSRqQ75G0jSFaPFhNts4Q2xagnsopP2Lb2PqGnhPwomXeLxmiiY9hMRcvguD0IlEtLNoj/MhVyiPRHqxOa3Sx5deIejZdCezpiG/gfD4xYmzuybR0KloT9p4sI+T16wjVwSjQmxo27gzlQ3oa4NGtkNESpofwe2iEJHHM/YheHxseFwe1hMVrNl4hj00IvhYXR0NwZxympoXTc1xoS0sKYY9Q3o9NN37E/B5iH6MXMNqaw3ZhmmUu8IMe0rpIJVr4g+l4/sbf+RrZ4NaxbKJ7Q/F9CE0heml0Wmb6JVouKLv7ymIusL7yocCbHOWRqO34f7huH/I13EE2xBsU0z4Euo8dHEq8NwUI9HyeLDEXRNaw6jdRXMeF4N7g+pD6fI5RiVaeLCie0esuybY+i/4fGOCen+T7+j7FzEOzCRX5wttsS7ijfH0IN2vDexcQ2Uo+GsfJ6TCL5/BpHWQmjrg0JKENKCfn2WJlomUvC/Qi0R5MKjaYmLooxOm6N5Xbjw+d4dY7KOY9GtsVlLjSR002hsbehyLPn6N+jLspqCOqDF/3DTuHaOI8uP8AoWH0RBL37w3BtibfhZDUGSnhrRdo7D0fcWJCieEcw3hdwRc+CGQcbRyIHIcmNwLeD+CK22MLWJ8ncGz5YqJ/Q2JOjRTbGojwumLbLUoeFG+CWVtEcNqD6hqtEiG4IQls7aTtJGtj6RnoY/DokSQxdG3WK77gx7NJCexMuxMYb2elXBabw34SsNj5IdY1soS6JQS8Gu4ayuYRRjg3FSawIhzguiG1UV4hcWFwot4uC4hPghEaIM4hUIbQntseK9j3d5RPBw7oUSGUE7MTQ1hdGJBvbok66MSsy+rHRon+xvZ2Cm6h3HhntPTXwJ3c0ejmmL3nRPolw8NmeJ6E6h6G9rRdqFrhD5hcb/gM8GUouoWkLuNTFhWXg4/DkQGY+1+RktU8n4Cx6hz/AAMiNHR+R6gksH09TovkuLL4NTQ22JbaOB4WJ6JxvhFQ/INie0U6L38CDb0JfY+YYmeC6Q7v2OU8OHDj3h9JBrSEiRjSQZ6Zx0S7rCxtwmhfDOnp4PAxdxMaPWMYnjiiJTQfpG/DwYkKw2ctWG6fJ+zYhnk+jgyncGLyDXIaXRvvTeGKaPRi+hrRNHhFwZ1CUQkkixDsE2eEvkXEJFQx6F3D5+jerhtCFwihBRxGmMu/2NuCbG9G4R6GtwRaOnqEfA2qQmhNaNqj2xpHgaQ2EEqMk0epD90JaGX+MIMQ1RorKeWTCwcYbgw9X6Ha+yND6aE1d+lGy6Q9MvSQmmzpDawaCXzkmtv7E9jUSaF3BJzC4JjYTOt4hPvZq4my07+iuhD4eOC6fI+o+BYkQujYxDNVG2R1D4oN9Y5f4FIfOPT0T5oTGifYliQaesTors+D9lV+TsPRJFNwTKVQeG/8DOjxw1j3+DPnDesG7z4EkJYpRvRogq5hxDdH0jg/obN9WIkqjQ35TdkwujbrEJ1MSH6JKq46yOs+ii4NaZURdo41iutTuFjePsbrLoXjG2mPp6N6GH1i6W0dR6j0S2Pp4Nh9PUhYbHNC9aH0QxYYvMOeCZSlzoTHYw2zlDcH0jTeHq3iCRBEbPX0zqDcHxI650akE6NvhdDccon/ALK2wnPdD2WIvVBooX/BGg3/AIOFEJzBLDe4M9SOY6hxpYfCIe2Tv4E/9C7Me49OB9QtoXDhi2keD4Wm/wBoiDY7oajHpfs4xfxdRd542apMPhN4htkSF1DGfKPh4lPCjGIT2xdTJdi4JT8BtC0y1kmIJHWxvQtCGOXD6e0tWVpDGxfAuGhSxf4G9yibGtspNiRCI4GpDo1cEPuEebHp/oYn0fccDsK69jorDz8iY6kJMcwmxkQcH8D0X/liXp7j4GIcxVRCEMWJsfGJcO0sWIOHCx805L0R6PgvB+DQ/SQhSbT+xibGEtQarYlIcGlodh4S/piDQkaeGxUTg80PuF0hv/IvfwerCzWPSG4xYJjo3P8AAtMir/JyHRkFwfsQvUeISdyyUFuCTxdHwPqLWsX36FhQ4P5OYQ0e03ovB+HNU+DqWOLDWro8Oxs0qKC5+xsUeijdGbFpijaOI4e/R+iysHeKMehcNpzCRj/2IaTpV/gvdD2XmGxISd2hNtSffhCdP+MdFQ3pmwTh6KIH9Hjw4RHMp4Sr8FGnsTEiUhBe7w359YSemPB+ibwd1j6LO1lb/ijw4xP6x2h+DDD4NrAoI6i4aUfXs6ca/MKz1/g94NEjY3iUVGozehsvF9ie4xNSdFwc2I0OISCm9oYunBs1X+Bk0n9C+btFbYh0+T/imwmnBbpyj82e0Qh7wxdQ4NdeF0nWLV2KMZ8F1RfWEzhMUG+IbELQhkVGLDGcH3CHYISg10L8ibHhi4ixjlQtF0xtCk2x+iLTcEsqHhD9ZNiYk7BoZd46G88QuHjOLgvSN56d2OdEjp0bdFPRui9Q0F2HDlH0UnMLeumxfgS6qNDTsJr94XT1oSa6z0VLtCPkTH3F2U4EuFGno9Eav+Ce0dxUJiws+C2yEPOdui9D7OUJ7FEzSQ3C1niGxEJKWnEz4RxUZNCtHJH4eDVQlpHNiabuxiyTHR7KlFW+mwmJYLZqG4JiGEtjiEtjiwy0mkKIWfBKCREJtnpT0TEqkJMdG2kV0XD4xrRwUKRCGy6KXDY/RPSKcFEN4Xfoa6FRDPQ+iNY2IfMEbPToxXFf0JiexPPs8FwQzYhbFhxm++XF0Kj9/IuM+RcLEdExQb0jjQrB8RBuIYtdG+TY0J+nYkhc+0eTh6G7GUU3jjSH0mxDdZNG+D8NzmJ3HglKX3yiwsaQjR4MyYQnRDEMRR9/iTaR3sdpKjC4XRD0+AtGosMbR8Y4fX1jRf8ARC+adOnYXYvBkZxRJbPRIgl1jRtE7Tx2tuTgo0fI1ivCFUXDPejOSC6ybgsLGiofP2mN41Kfij6ohVCex9Z0T2CX+A6gufkSrHMxxBcEPkriPOng9CfKbKKVCYYTw3spVSwTKP8A4LD1gvsbiS9hxD4wqteCWhqlaR4L1jC508W9jFw8yob0zmHsWz5wlpjRxhyYSS6N9VHEOpr8GqQvEO3Q8PzD9En9jelT5Yvh1iU9eNJYXTSVO0sCbEM16xj4hKvQloT2IXEe0V4hKJUTE0hcH1iIxw4JieKeC7iHCPB0eBztUZeHP3TiL03p4WPNnqw0XDFtqfA1SDViHIJbPHj8Gh6G9I9o4oaO4Zem2jUxsJjYIf8ABnptPM2LnSan2TTZ8ix0b6JPJiLjrJ0RNJ4Yypj6saGj4Jo9IsSk/wDRFafAhWvrKjWaN8Fh4p709/D/AIExtHGt4XBbK+DISxRYXEdHwrr2cc+hIS2MTbNM4hDqR+H2JvdOtCPQ3z6F03KJ6R1MeP8AzDaXo1ZRLwSEo2UT8ojbIG19FlaWz0a1Ctj4I2Y/A+mmeCcgpEEh48G6R4y0SIhs3vCwpP2LpcrosvA/Df8AsflOzc2aHxF+zexi2iS4TWJ0aG4zmNaH4hhujYxNU3qHvTTEx/8ATn7HuI1sp/4MQTSlE224sGhieljtG3o8Yto2FjY1UmIb9FzuW9PDlJ4XwehaaEPqwhdwunuyEJ7g2Me3R4Q785f8FmVMrDoj09ZMs+diOv0PR8bxyfAuDHrEeCbO3EVLsQns9h/4bUY9GomJCfDgt6Htm1ohe4fRYaKmjxU4oKPQ+6Fgjw6i40jd4dTCTJ38D4asEZUhvhrwZxL5wT3RylFwvR2CLvpEpRyfsXZwg8PCEIYsTh7/ABc8Yvw72VBtFnwQ4xC9/BRONI6ja0xdHxIfUxvedJwmzQuj5x4x9o+7hZOvDWmJibPRDcoxLg4e89Ih1NL5LMev8Hx+CnSbc+BfDFjmDGyvQ3lbJGK1fg4xD0TmxCqcGKP4H5hNDEeoXL/ZMerHDwQuK58KmxERWcY+jqWWeoa3zwR2C4htHuKvkp9jdNiQ9YdaFpstQzi+x8F06RorrLoa1Sp1UbcxOCkF6PHwbsG1oX3hvw9hqHEjo9w25+hL5KqcI0MfTqZ6VELiuD8wQ3B90TR6TSHWhKmWw8KnxPD0ujR6Iv8ABPY9YfVj3PA420eDXDlo3QvyXuEQnsfXg9n0PbbPB1qi6aGJ6R7IPbJD6FYVVq8FqDTK4hYb0Lq0a2xfJ6h9OkPuG6kPBOD6N6GJyvF6ch6V70XZHBG9Mbhuw+X0PiPyelkwmeDC4fgh4uH09H0b7C4cxOPCxH4Vj8HRPLmJhE2e8dWG1E6rS2HRpMemMRTzDTnpcJnuzfW9aUPCnWaR8CY5Wx4SF6PuK9aHx9HKOHwhtL0R8w108dG4SU8Sp8D9Q/8AMLJoorOCaGt2CQxFqQlst19DRPk5aEXlPf2cSxRwtjenqImyV49D6PwpoKGNi/sdEsLCWOiPZi7whYNsfaN4OzUjVCahdE0bJlKXHjF5TejT4LByoTiXBs8ohaQ+YaFxp8mVTSc+caF0Xpxs5Bm9HixoYno+P4PaEezsh0cQnxCFTl/NPV+B7uGtIbaPSbHxnNsLwXD1F/2UZBj0Ko3Uc2LDE1fvKylwfh+xcEe5Txx4aOF4JwvBDcRsbWFwTiR6FekDmKr02LxGmGNB0mN9ZO48x5BPDYb4LbZ6JYouHyMm/T7OND7R7YlYaSEtC4oVi/4R3Da1CkLY7KP/AAN1JHE2QLtx0jN9ujrQ1tGxkdE1aeD4FslF3weEQeoMWkUWFi5u4botYRod6Gg1n4H0iVNjVD0f9H7PRc4Xj+hvoTqPD7WRp07oU4JJn4E8evKfogyEtI+BBdaNT9jZ63vDz9npCcFte4P3C6xeEmxno307PEeo+WJcF6aEx+EVNUfTosRFmlKJkF5MdeHpI6hHEILzCPR0qgncJ87sh09CQxq02RR9pGzuOLo3EXHpvYqMSGt7Y+4R1sbE+CIqIVPuSaE2JdPfwXTHpikHWh0XSbZtaLwQx7iO0UozdGaXRd2JbcY69UQ3dI+ijc4yjcp6V+4P1HA+NfkWlCxFUFkY+lNsW2l4JtNi0M2PTaomiRNnPTUyunqY1rDOiC0eCEJ9PcuNwfgw3GPobSGSX3R9QvJhIbHguLPn7GhDRBaF8C9Ol+cPbYsPaEaudpPiFjMawzS4ZeD5haGe2jedyHuEJuk8Gj9j+whM6eI2E9F0bv0JVPfBCCRxTbF9/AyiNmNwb3wgYuMR1IjpyGmQkGV/k6Ei3CHjxHh2Ddp+yxITGk4t6eH0TQuoW6XcGnRWDfY5hC1DrZ+J6elQk4fH4Ka7lcJvcGk3hEkdHjWFte9N08H1j2cGTo2fOhKVILbGUae2NUR6NbH5sUF7wXXoa2Na2hfbxCQ2OuFEz6g/C00RNnROE0xCXaUTHtrCJw4J6LvMwiCKG4NwYfg+h7IO3B8F1Gtip7Tpfeh8eD1Fp8YqGzgtPY/MOrYw0F7jcNHr/GCEsEu0exr/AGPuL4PghNbxsaZ1Co8R9khAmmvoQmXTH6MgxMY+og07wSFpcN6a9LEONG0UexmhMfmhoVS6NpsfM3Q8ap8jHY14JabNqD530VC/j6hMmhunKXhxBysXRL3DiFhqhiF04IeGil0JvQlQ8NiYtf2PC9ODN0T330behdIZcUUg0z4eE+Da0J1nyPgtJmpRaSHZTZXRSjeymmkNiHGPotp6LUdq+h72x6cejofiGQlwT3piJDVi9F0+cL38Hj8fwXhwLo/MesYsfJ0ePxi84+pzj7F/0fVjz9C6h8wxej8w+s9D9H/of+j/AN8Ov1joLo9F4P3FwPqOA+LBdY/8WCF/w8/aPP7EPo+i4/yLv5Ho+fkz4H6eHqPUPgh9EIfguDhh6/AuDhnwfI+I9HwQ8Hwfh4vyfI+C9EHh4/Iuv849FxC4F5l9Z6eYlwf+x4fP5Yuj4LuHxD9H14ev8YX/AMPjC8H148PQu/rHwIRyM9Oj4x6ePzhx+jj9C/4dC6hcf4ZyPD1C9/J7+TH5+GeIX/T1gu/meCqHgXB9D/48F4eLAuHouD7+xHTHLO2PouPwM+D39nWHaOmJYH//2Q==)\n",
        "  "
      ],
      "metadata": {
        "id": "9RwsO2bpeYQy"
      }
    },
    {
      "cell_type": "code",
      "execution_count": null,
      "metadata": {
        "id": "EOptPOlXU0CN"
      },
      "outputs": [],
      "source": [
        "\n"
      ]
    },
    {
      "cell_type": "code",
      "source": [],
      "metadata": {
        "id": "c1KyPhF0inNJ"
      },
      "execution_count": null,
      "outputs": []
    },
    {
      "cell_type": "markdown",
      "source": [
        "# Practical Questions:\n",
        "\n",
        "\n",
        "---\n",
        "\n",
        "\n",
        "\n",
        "---\n",
        "\n"
      ],
      "metadata": {
        "id": "9cGVRCUhis86"
      }
    },
    {
      "cell_type": "markdown",
      "source": [
        "\n",
        "\n",
        "**1.    Write a Python function that takes a list of numbers as input and returns the sum of all even numbers in the list.**\n",
        "\n",
        "         \n"
      ],
      "metadata": {
        "id": "jBEjVIvzjOkK"
      }
    },
    {
      "cell_type": "code",
      "source": [
        "def sum_even_numbers(numbers):\n",
        "    even_sum = 0\n",
        "    for num in numbers:\n",
        "        if num % 2 == 0:\n",
        "            even_sum += num\n",
        "    return even_sum\n",
        "\n",
        "# Example usage\n",
        "my_list = [10, 15, 20, 25, 30]\n",
        "result = sum_even_numbers(my_list)\n",
        "print(\"Sum of even numbers:\", result)"
      ],
      "metadata": {
        "colab": {
          "base_uri": "https://localhost:8080/"
        },
        "id": "FoY8G7o9jKdp",
        "outputId": "ab4594ac-5efd-4ae9-88de-578af840b1a6"
      },
      "execution_count": 1,
      "outputs": [
        {
          "output_type": "stream",
          "name": "stdout",
          "text": [
            "Sum of even numbers: 60\n"
          ]
        }
      ]
    },
    {
      "cell_type": "markdown",
      "source": [
        "2.  **Create a Python function that accepts a string and returns the reverse of that string.**"
      ],
      "metadata": {
        "id": "dimkNrBPkIYk"
      }
    },
    {
      "cell_type": "code",
      "source": [
        "def reverse_string(text):\n",
        "    return text[::-1]\n",
        "\n",
        "# Example usage\n",
        "input_str = \"Python\"\n",
        "reversed_str = reverse_string(input_str)\n",
        "print(\"Reversed string:\", reversed_str)"
      ],
      "metadata": {
        "colab": {
          "base_uri": "https://localhost:8080/"
        },
        "id": "eWwzKcoQkE0J",
        "outputId": "4c1f287a-1f62-4bd0-e11d-d2cb2ab08f51"
      },
      "execution_count": 2,
      "outputs": [
        {
          "output_type": "stream",
          "name": "stdout",
          "text": [
            "Reversed string: nohtyP\n"
          ]
        }
      ]
    },
    {
      "cell_type": "markdown",
      "source": [
        "**3.  Implement a Python function that takes a list of integers and returns a new list containing the squares of each number.**"
      ],
      "metadata": {
        "id": "pRHD17Nak3fx"
      }
    },
    {
      "cell_type": "code",
      "source": [
        "def square_numbers(numbers):\n",
        "    squared_list = []\n",
        "    for num in numbers:\n",
        "        squared_list.append(num ** 2)\n",
        "    return squared_list\n",
        "\n",
        "# Example usage\n",
        "my_list = [1, 2, 3, 4, 5]\n",
        "result = square_numbers(my_list)\n",
        "print(\"Squared list:\", result)"
      ],
      "metadata": {
        "colab": {
          "base_uri": "https://localhost:8080/"
        },
        "id": "CDLzoTlFkz8o",
        "outputId": "97e13be5-d073-43ab-9c95-475e565d9660"
      },
      "execution_count": 3,
      "outputs": [
        {
          "output_type": "stream",
          "name": "stdout",
          "text": [
            "Squared list: [1, 4, 9, 16, 25]\n"
          ]
        }
      ]
    },
    {
      "cell_type": "markdown",
      "source": [
        "**4.  Write a Python function that checks if a given number is prime or not from 1 to 200.**"
      ],
      "metadata": {
        "id": "MwnbCVRqleHj"
      }
    },
    {
      "cell_type": "code",
      "source": [
        "def is_prime(n):\n",
        "    if n <= 1:\n",
        "        return False\n",
        "    for i in range(2, int(n**0.5) + 1):  # Check up to sqrt(n)\n",
        "        if n % i == 0:\n",
        "            return False\n",
        "    return True"
      ],
      "metadata": {
        "id": "4tWzd24klXHA"
      },
      "execution_count": 6,
      "outputs": []
    },
    {
      "cell_type": "code",
      "source": [
        "for num in range(1, 201):\n",
        "    if is_prime(num):\n",
        "        print(num, end=\" \")"
      ],
      "metadata": {
        "colab": {
          "base_uri": "https://localhost:8080/"
        },
        "id": "Mz3eV2gIpZY5",
        "outputId": "89eb5475-3627-4bd2-b349-c2099020250e"
      },
      "execution_count": 5,
      "outputs": [
        {
          "output_type": "stream",
          "name": "stdout",
          "text": [
            "2 3 5 7 11 13 17 19 23 29 31 37 41 43 47 53 59 61 67 71 73 79 83 89 97 101 103 107 109 113 127 131 137 139 149 151 157 163 167 173 179 181 191 193 197 199 "
          ]
        }
      ]
    },
    {
      "cell_type": "markdown",
      "source": [
        "**5.  Create an iterator class in Python that generates the Fibonacci sequence up to a specified number of terms.**\n",
        "\n"
      ],
      "metadata": {
        "id": "6Ey5XGfIqRSS"
      }
    },
    {
      "cell_type": "markdown",
      "source": [
        "**Fibonacci Iterator Class**"
      ],
      "metadata": {
        "id": "ipCn01cbqtyL"
      }
    },
    {
      "cell_type": "code",
      "source": [
        "class FibonacciIterator:\n",
        "    def __init__(self, max_terms):\n",
        "        self.max_terms = max_terms  # Total terms to generate\n",
        "        self.count = 0              # Current term index\n",
        "        self.a = 0                  # First number\n",
        "        self.b = 1                  # Second number\n",
        "\n",
        "    def __iter__(self):\n",
        "        return self\n",
        "\n",
        "    def __next__(self):\n",
        "        if self.count >= self.max_terms:\n",
        "            raise StopIteration  # Stop when the count exceeds the limit\n",
        "\n",
        "        if self.count == 0:\n",
        "            self.count += 1\n",
        "            return self.a\n",
        "        elif self.count == 1:\n",
        "            self.count += 1\n",
        "            return self.b\n",
        "        else:\n",
        "            self.a, self.b = self.b, self.a + self.b\n",
        "            self.count += 1\n",
        "            return self.b"
      ],
      "metadata": {
        "id": "AJfE4MQ9p7CH"
      },
      "execution_count": 7,
      "outputs": []
    },
    {
      "cell_type": "markdown",
      "source": [
        "**Use Example**"
      ],
      "metadata": {
        "id": "JuUqEI6Hq5cz"
      }
    },
    {
      "cell_type": "code",
      "source": [
        "# Create an iterator for 10 Fibonacci terms\n",
        "fib = FibonacciIterator(10)\n",
        "\n",
        "# Iterate and print each term\n",
        "for num in fib:\n",
        "    print(num, end=\" \")"
      ],
      "metadata": {
        "colab": {
          "base_uri": "https://localhost:8080/"
        },
        "id": "zddwzf99q3VG",
        "outputId": "1e68fd05-b58a-487b-d11c-7a7170f19ff0"
      },
      "execution_count": 8,
      "outputs": [
        {
          "output_type": "stream",
          "name": "stdout",
          "text": [
            "0 1 1 2 3 5 8 13 21 34 "
          ]
        }
      ]
    },
    {
      "cell_type": "markdown",
      "source": [
        "**6.  Write a generator function in Python that yields the powers of 2 up to a given exponent.**"
      ],
      "metadata": {
        "id": "TlXEWQwerdnS"
      }
    },
    {
      "cell_type": "markdown",
      "source": [
        "**Generator Function:**"
      ],
      "metadata": {
        "id": "XPFeM_5Xr0D0"
      }
    },
    {
      "cell_type": "code",
      "source": [
        "def powers_of_two(max_exp):\n",
        "    for i in range(max_exp + 1):\n",
        "        yield 2 ** i"
      ],
      "metadata": {
        "id": "UEa66aOdrKIC"
      },
      "execution_count": 9,
      "outputs": []
    },
    {
      "cell_type": "markdown",
      "source": [
        "**Example Use:**"
      ],
      "metadata": {
        "id": "a6d0GwuOr-pV"
      }
    },
    {
      "cell_type": "code",
      "source": [
        "for power in powers_of_two(5):\n",
        "    print(power, end=\" \")"
      ],
      "metadata": {
        "colab": {
          "base_uri": "https://localhost:8080/"
        },
        "id": "VusDfIHdr9XF",
        "outputId": "49711ba7-8ae1-421a-f79e-f1131acd6f99"
      },
      "execution_count": 10,
      "outputs": [
        {
          "output_type": "stream",
          "name": "stdout",
          "text": [
            "1 2 4 8 16 32 "
          ]
        }
      ]
    },
    {
      "cell_type": "markdown",
      "source": [
        "**7.  Implement a generator function that reads a file line by line and yields each line as a string.**"
      ],
      "metadata": {
        "id": "Kfwe648Hsk-X"
      }
    },
    {
      "cell_type": "markdown",
      "source": [
        "**Generator Function:**"
      ],
      "metadata": {
        "id": "j3GRGRDHs5yi"
      }
    },
    {
      "cell_type": "code",
      "source": [
        "def read_lines(file_path):\n",
        "    try:\n",
        "        with open(file_path, 'r') as file:\n",
        "            for line in file:\n",
        "                yield line.rstrip('\\n')  # remove newline character\n",
        "    except FileNotFoundError:\n",
        "        print(\"File not found.\")"
      ],
      "metadata": {
        "id": "uC3ZRE5JsOlN"
      },
      "execution_count": 14,
      "outputs": []
    },
    {
      "cell_type": "markdown",
      "source": [
        "**Example Use:**"
      ],
      "metadata": {
        "id": "CNv_-oPytIua"
      }
    },
    {
      "cell_type": "code",
      "source": [
        "# Replace 'your_file.txt' with your actual file path\n",
        "for line in read_lines('your_file.txt'):\n",
        "    print(line)"
      ],
      "metadata": {
        "colab": {
          "base_uri": "https://localhost:8080/"
        },
        "id": "qPCtHm8htCEd",
        "outputId": "fbf8661d-7cfc-4c62-b817-00ac1f45fdb4"
      },
      "execution_count": 15,
      "outputs": [
        {
          "output_type": "stream",
          "name": "stdout",
          "text": [
            "File not found.\n"
          ]
        }
      ]
    },
    {
      "cell_type": "markdown",
      "source": [
        "**8.  Use a lambda function in Python to sort a list of tuples based on the second element of each tuple.**"
      ],
      "metadata": {
        "id": "LPL85SqDuXqq"
      }
    },
    {
      "cell_type": "markdown",
      "source": [
        "**List of Tuples**"
      ],
      "metadata": {
        "id": "dcw_1FBVupjQ"
      }
    },
    {
      "cell_type": "code",
      "source": [
        "data = [('apple', 3), ('banana', 1), ('cherry', 2)]"
      ],
      "metadata": {
        "id": "udSAolQotSfL"
      },
      "execution_count": 16,
      "outputs": []
    },
    {
      "cell_type": "markdown",
      "source": [
        "**Sort Using Lambda:**"
      ],
      "metadata": {
        "id": "MkoL4MPSu5TM"
      }
    },
    {
      "cell_type": "code",
      "source": [
        "sorted_data = sorted(data, key=lambda x: x[1])\n",
        "print(sorted_data)"
      ],
      "metadata": {
        "colab": {
          "base_uri": "https://localhost:8080/"
        },
        "id": "_LkLwhA0u21J",
        "outputId": "a4f06370-441e-4700-b8da-84cbdb098a90"
      },
      "execution_count": 17,
      "outputs": [
        {
          "output_type": "stream",
          "name": "stdout",
          "text": [
            "[('banana', 1), ('cherry', 2), ('apple', 3)]\n"
          ]
        }
      ]
    },
    {
      "cell_type": "markdown",
      "source": [
        "**9.  Write a Python program that uses `map()` to convert a list of temperatures from Celsius to Fahrenheit.**"
      ],
      "metadata": {
        "id": "0kz9PiJ0vS2O"
      }
    },
    {
      "cell_type": "code",
      "source": [
        "# List of temperatures in Celsius\n",
        "celsius = [0, 20, 37, 100]\n",
        "\n",
        "# Convert to Fahrenheit using map and lambda\n",
        "fahrenheit = list(map(lambda c: (c * 9/5) + 32, celsius))\n",
        "\n",
        "# Print the result\n",
        "print(\"Temperatures in Fahrenheit:\", fahrenheit)"
      ],
      "metadata": {
        "colab": {
          "base_uri": "https://localhost:8080/"
        },
        "id": "ikdZEHXAvIi3",
        "outputId": "9faddab8-bb90-4099-ec0f-24aa7dba2029"
      },
      "execution_count": 19,
      "outputs": [
        {
          "output_type": "stream",
          "name": "stdout",
          "text": [
            "Temperatures in Fahrenheit: [32.0, 68.0, 98.6, 212.0]\n"
          ]
        }
      ]
    },
    {
      "cell_type": "markdown",
      "source": [
        "**10. Create a Python program that uses `filter()` to remove all the vowels from a given string.**"
      ],
      "metadata": {
        "id": "ADdpbb0IwSmS"
      }
    },
    {
      "cell_type": "code",
      "source": [
        "def remove_vowels(text):\n",
        "    vowels = 'aeiouAEIOU'\n",
        "    return ''.join(filter(lambda ch: ch not in vowels, text))\n",
        "\n",
        "# Example usage\n",
        "input_str = \"Hello World\"\n",
        "result = remove_vowels(input_str)\n",
        "print(\"String without vowels:\", result)"
      ],
      "metadata": {
        "colab": {
          "base_uri": "https://localhost:8080/"
        },
        "id": "UYtwfAM9vqnw",
        "outputId": "a9908e71-0333-4fb8-80f6-9e88c2c7abe4"
      },
      "execution_count": 20,
      "outputs": [
        {
          "output_type": "stream",
          "name": "stdout",
          "text": [
            "String without vowels: Hll Wrld\n"
          ]
        }
      ]
    },
    {
      "cell_type": "markdown",
      "source": [
        "11.  Imagine an accounting routine used in a book shop. It works on a list with sublists, which look like this:\n",
        "\n",
        "\n",
        "    Order Number\t    Book Title\t               Quantity\t   Price per Item\n",
        "     34587\t      Learning Python, Mark Lutz\t      4\t         40.95\n",
        "     98762\t      Programming Python, Mark Lutz       5\t         56.80\n",
        "     77226\t      Head First Python, Paul Barry\t   3\t         32.95\n",
        "     88112\t      Einführung in Python3, Bernd Klein  3\t         24.99\n",
        "\n",
        "Write a Python program, which returns a list with 2-tuples. Each tuple consists of the order number and the product of the price per item and the quantity. The product should be increased by 10,- € if the value of the order is smaller than 100,00 €.  \n",
        "\n",
        "Write a Python program using lambda and map."
      ],
      "metadata": {
        "id": "zZK3KYQSy7CB"
      }
    },
    {
      "cell_type": "code",
      "source": [
        "# Raw data as list of sublists: [order_number, title, quantity, price_per_item]\n",
        "orders = [\n",
        "    [34587, 'Learning Python, Mark Lutz', 4, 40.95],\n",
        "    [98762, 'Programming Python, Mark Lutz', 5, 56.80],\n",
        "    [77226, 'Head First Python, Paul Barry', 3, 32.95],\n",
        "    [88112, 'Einführung in Python3, Bernd Klein', 3, 24.99]\n",
        "]\n",
        "\n",
        "# Using map and lambda\n",
        "invoice = list(map(\n",
        "    lambda order: (\n",
        "        order[0],\n",
        "        round(order[2] * order[3] + (10 if order[2] * order[3] < 100 else 0), 2)\n",
        "    ),\n",
        "    orders\n",
        "))\n",
        "\n",
        "# Output result\n",
        "print(invoice)"
      ],
      "metadata": {
        "colab": {
          "base_uri": "https://localhost:8080/"
        },
        "id": "rXlhGOIwwfGo",
        "outputId": "a8fdc542-4d2a-4c7e-d0af-42b014ece3e2"
      },
      "execution_count": 21,
      "outputs": [
        {
          "output_type": "stream",
          "name": "stdout",
          "text": [
            "[(34587, 163.8), (98762, 284.0), (77226, 108.85), (88112, 84.97)]\n"
          ]
        }
      ]
    },
    {
      "cell_type": "code",
      "source": [],
      "metadata": {
        "id": "5EDf6LZd01zx"
      },
      "execution_count": null,
      "outputs": []
    }
  ]
}